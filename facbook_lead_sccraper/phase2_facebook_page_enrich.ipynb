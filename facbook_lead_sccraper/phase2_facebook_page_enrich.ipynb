{
 "cells": [
  {
   "cell_type": "code",
   "execution_count": null,
   "id": "fc688898",
   "metadata": {},
   "outputs": [
    {
     "name": "stdout",
     "output_type": "stream",
     "text": [
      "📄 Loaded 53 rows from results/ads_cleaned.csv\n",
      "🧪 Columns: ['page_name', 'page_url', 'ad_text']\n",
      "🔍 Scraping: https://www.facebook.com/CabrilloCollege\n",
      "🔍 Scraping: https://www.facebook.com/CabrilloCollege\n"
     ]
    },
    {
     "name": "stderr",
     "output_type": "stream",
     "text": [
      "\u001b[36m[apify.facebook-pages-scraper runId:U7H0XfACfnibepqIY]\u001b[0m -> Status: RUNNING, Message: \n",
      "\u001b[36m[apify.facebook-pages-scraper runId:U7H0XfACfnibepqIY]\u001b[0m -> 2025-06-26T17:22:38.937Z ACTOR: Pulling Docker image of build ndia0NqLlGfdAxNja from registry.\n",
      "\u001b[36m[apify.facebook-pages-scraper runId:U7H0XfACfnibepqIY]\u001b[0m -> 2025-06-26T17:22:38.938Z ACTOR: Creating Docker container.\n",
      "\u001b[36m[apify.facebook-pages-scraper runId:U7H0XfACfnibepqIY]\u001b[0m -> 2025-06-26T17:22:39.035Z ACTOR: Starting Docker container.\n",
      "\u001b[36m[apify.facebook-pages-scraper runId:U7H0XfACfnibepqIY]\u001b[0m -> 2025-06-26T17:22:40.660Z \u001b[32mINFO\u001b[39m  System info\u001b[90m {\"apifyVersion\":\"3.4.2\",\"apifyClientVersion\":\"2.12.5\",\"crawleeVersion\":\"3.13.7\",\"osType\":\"Linux\",\"nodeVersion\":\"v20.19.2\"}\u001b[39m\n",
      "\u001b[36m[apify.facebook-pages-scraper runId:U7H0XfACfnibepqIY]\u001b[0m -> 2025-06-26T17:22:40.887Z \u001b[32mINFO\u001b[39m  Results Limit undefined\n",
      "\u001b[36m[apify.facebook-pages-scraper runId:U7H0XfACfnibepqIY]\u001b[0m -> 2025-06-26T17:22:40.888Z \u001b[32mINFO\u001b[39m  pushDataMaxAware 135\n",
      "\u001b[36m[apify.facebook-pages-scraper runId:U7H0XfACfnibepqIY]\u001b[0m -> 2025-06-26T17:22:41.217Z \u001b[32mINFO\u001b[39m \u001b[33m CheerioCrawler:\u001b[39m Using the old RequestQueue implementation without request locking.\n",
      "\u001b[36m[apify.facebook-pages-scraper runId:U7H0XfACfnibepqIY]\u001b[0m -> Status: RUNNING, Message: Starting the crawler.\n",
      "\u001b[36m[apify.facebook-pages-scraper runId:U7H0XfACfnibepqIY]\u001b[0m -> Status: RUNNING, Message: Crawled 0/1 pages, 0 failed requests, desired concurrency 10.\n",
      "\u001b[36m[apify.facebook-pages-scraper runId:U7H0XfACfnibepqIY]\u001b[0m -> 2025-06-26T17:22:41.433Z \u001b[32mINFO\u001b[39m \u001b[33m CheerioCrawler:\u001b[39m Starting the crawler.\n",
      "\u001b[36m[apify.facebook-pages-scraper runId:U7H0XfACfnibepqIY]\u001b[0m -> 2025-06-26T17:23:14.678Z \u001b[32mINFO\u001b[39m  [PROGRESS]: Found 1 new page details, 1/135 for URL https://www.facebook.com/CabrilloCollege\n",
      "\u001b[36m[apify.facebook-pages-scraper runId:U7H0XfACfnibepqIY]\u001b[0m -> Status: RUNNING, Message: Finished! Total 1 requests: 1 succeeded, 0 failed.\n",
      "\u001b[36m[apify.facebook-pages-scraper runId:U7H0XfACfnibepqIY]\u001b[0m -> 2025-06-26T17:23:15.162Z \u001b[32mINFO\u001b[39m \u001b[33m CheerioCrawler:\u001b[39m All requests from the queue have been processed, the crawler will shut down.\n",
      "\u001b[36m[apify.facebook-pages-scraper runId:U7H0XfACfnibepqIY]\u001b[0m -> 2025-06-26T17:23:15.294Z \u001b[32mINFO\u001b[39m \u001b[33m CheerioCrawler:\u001b[39m Final request statistics:\u001b[90m {\"requestsFinished\":1,\"requestsFailed\":0,\"retryHistogram\":[1],\"requestAvgFailedDurationMillis\":null,\"requestAvgFinishedDurationMillis\":33588,\"requestsFinishedPerMinute\":2,\"requestsFailedPerMinute\":0,\"requestTotalDurationMillis\":33588,\"requestsTotal\":1,\"crawlerRuntimeMillis\":34078}\u001b[39m\n",
      "\u001b[36m[apify.facebook-pages-scraper runId:U7H0XfACfnibepqIY]\u001b[0m -> 2025-06-26T17:23:15.295Z \u001b[32mINFO\u001b[39m \u001b[33m CheerioCrawler:\u001b[39m Finished! Total 1 requests: 1 succeeded, 0 failed.\u001b[90m {\"terminal\":true}\u001b[39m\n",
      "\u001b[36m[apify.facebook-pages-scraper runId:U7H0XfACfnibepqIY]\u001b[0m -> 2025-06-26T17:23:15.420Z \u001b[32mINFO\u001b[39m  *** DONE ***\n"
     ]
    },
    {
     "name": "stdout",
     "output_type": "stream",
     "text": [
      "🔍 Scraping: https://www.facebook.com/EdmersonYu-RealEstateInvestments\n",
      "🔍 Scraping: https://www.facebook.com/EdmersonYu-RealEstateInvestments\n"
     ]
    },
    {
     "name": "stderr",
     "output_type": "stream",
     "text": [
      "\u001b[36m[apify.facebook-pages-scraper runId:06dNqnQdFuKb7HFAi]\u001b[0m -> Status: RUNNING, Message: \n",
      "\u001b[36m[apify.facebook-pages-scraper runId:06dNqnQdFuKb7HFAi]\u001b[0m -> 2025-06-26T17:23:24.498Z ACTOR: Pulling Docker image of build ndia0NqLlGfdAxNja from registry.\n",
      "\u001b[36m[apify.facebook-pages-scraper runId:06dNqnQdFuKb7HFAi]\u001b[0m -> 2025-06-26T17:23:24.499Z ACTOR: Creating Docker container.\n",
      "\u001b[36m[apify.facebook-pages-scraper runId:06dNqnQdFuKb7HFAi]\u001b[0m -> 2025-06-26T17:23:24.553Z ACTOR: Starting Docker container.\n",
      "\u001b[36m[apify.facebook-pages-scraper runId:06dNqnQdFuKb7HFAi]\u001b[0m -> 2025-06-26T17:23:26.322Z \u001b[32mINFO\u001b[39m  System info\u001b[90m {\"apifyVersion\":\"3.4.2\",\"apifyClientVersion\":\"2.12.5\",\"crawleeVersion\":\"3.13.7\",\"osType\":\"Linux\",\"nodeVersion\":\"v20.19.2\"}\u001b[39m\n",
      "\u001b[36m[apify.facebook-pages-scraper runId:06dNqnQdFuKb7HFAi]\u001b[0m -> 2025-06-26T17:23:26.694Z \u001b[32mINFO\u001b[39m  Results Limit undefined\n",
      "\u001b[36m[apify.facebook-pages-scraper runId:06dNqnQdFuKb7HFAi]\u001b[0m -> 2025-06-26T17:23:26.696Z \u001b[32mINFO\u001b[39m  pushDataMaxAware 135\n",
      "\u001b[36m[apify.facebook-pages-scraper runId:06dNqnQdFuKb7HFAi]\u001b[0m -> 2025-06-26T17:23:27.042Z \u001b[32mINFO\u001b[39m \u001b[33m CheerioCrawler:\u001b[39m Using the old RequestQueue implementation without request locking.\n",
      "\u001b[36m[apify.facebook-pages-scraper runId:06dNqnQdFuKb7HFAi]\u001b[0m -> Status: RUNNING, Message: Starting the crawler.\n",
      "\u001b[36m[apify.facebook-pages-scraper runId:06dNqnQdFuKb7HFAi]\u001b[0m -> 2025-06-26T17:23:27.277Z \u001b[32mINFO\u001b[39m \u001b[33m CheerioCrawler:\u001b[39m Starting the crawler.\n",
      "\u001b[36m[apify.facebook-pages-scraper runId:06dNqnQdFuKb7HFAi]\u001b[0m -> 2025-06-26T17:23:30.569Z \u001b[32mINFO\u001b[39m \u001b[33m CheerioCrawler:\u001b[39m All requests from the queue have been processed, the crawler will shut down.\n",
      "\u001b[36m[apify.facebook-pages-scraper runId:06dNqnQdFuKb7HFAi]\u001b[0m -> 2025-06-26T17:23:31.007Z \u001b[32mINFO\u001b[39m \u001b[33m CheerioCrawler:\u001b[39m Final request statistics:\u001b[90m {\"requestsFinished\":1,\"requestsFailed\":0,\"retryHistogram\":[1],\"requestAvgFailedDurationMillis\":null,\"requestAvgFinishedDurationMillis\":3186,\"requestsFinishedPerMinute\":15,\"requestsFailedPerMinute\":0,\"requestTotalDurationMillis\":3186,\"requestsTotal\":1,\"crawlerRuntimeMillis\":3967}\u001b[39m\n",
      "\u001b[36m[apify.facebook-pages-scraper runId:06dNqnQdFuKb7HFAi]\u001b[0m -> 2025-06-26T17:23:31.009Z \u001b[32mINFO\u001b[39m \u001b[33m CheerioCrawler:\u001b[39m Finished! Total 1 requests: 1 succeeded, 0 failed.\u001b[90m {\"terminal\":true}\u001b[39m\n",
      "\u001b[36m[apify.facebook-pages-scraper runId:06dNqnQdFuKb7HFAi]\u001b[0m -> 2025-06-26T17:23:31.070Z \u001b[32mINFO\u001b[39m  *** DONE ***\n",
      "\u001b[36m[apify.facebook-pages-scraper runId:06dNqnQdFuKb7HFAi]\u001b[0m -> Status: SUCCEEDED, Message: Finished! Total 1 requests: 1 succeeded, 0 failed.\n"
     ]
    },
    {
     "name": "stdout",
     "output_type": "stream",
     "text": [
      "🔍 Scraping: https://www.facebook.com/LedgerLift-AISolutions\n",
      "🔍 Scraping: https://www.facebook.com/LedgerLift-AISolutions\n"
     ]
    },
    {
     "name": "stderr",
     "output_type": "stream",
     "text": [
      "\u001b[36m[apify.facebook-pages-scraper runId:liagPadrJ2vizUGny]\u001b[0m -> Status: RUNNING, Message: \n",
      "\u001b[36m[apify.facebook-pages-scraper runId:liagPadrJ2vizUGny]\u001b[0m -> Status: RUNNING, Message: Starting the crawler.\n",
      "\u001b[36m[apify.facebook-pages-scraper runId:liagPadrJ2vizUGny]\u001b[0m -> 2025-06-26T17:23:42.089Z ACTOR: Pulling Docker image of build ndia0NqLlGfdAxNja from registry.\n",
      "\u001b[36m[apify.facebook-pages-scraper runId:liagPadrJ2vizUGny]\u001b[0m -> 2025-06-26T17:23:42.090Z ACTOR: Creating Docker container.\n",
      "\u001b[36m[apify.facebook-pages-scraper runId:liagPadrJ2vizUGny]\u001b[0m -> 2025-06-26T17:23:42.118Z ACTOR: Starting Docker container.\n",
      "\u001b[36m[apify.facebook-pages-scraper runId:liagPadrJ2vizUGny]\u001b[0m -> 2025-06-26T17:23:43.670Z \u001b[32mINFO\u001b[39m  System info\u001b[90m {\"apifyVersion\":\"3.4.2\",\"apifyClientVersion\":\"2.12.5\",\"crawleeVersion\":\"3.13.7\",\"osType\":\"Linux\",\"nodeVersion\":\"v20.19.2\"}\u001b[39m\n",
      "\u001b[36m[apify.facebook-pages-scraper runId:liagPadrJ2vizUGny]\u001b[0m -> 2025-06-26T17:23:43.795Z \u001b[32mINFO\u001b[39m  Results Limit undefined\n",
      "\u001b[36m[apify.facebook-pages-scraper runId:liagPadrJ2vizUGny]\u001b[0m -> 2025-06-26T17:23:43.800Z \u001b[32mINFO\u001b[39m  pushDataMaxAware 135\n",
      "\u001b[36m[apify.facebook-pages-scraper runId:liagPadrJ2vizUGny]\u001b[0m -> 2025-06-26T17:23:44.148Z \u001b[32mINFO\u001b[39m \u001b[33m CheerioCrawler:\u001b[39m Using the old RequestQueue implementation without request locking.\n",
      "\u001b[36m[apify.facebook-pages-scraper runId:liagPadrJ2vizUGny]\u001b[0m -> Status: RUNNING, Message: Crawled 0/1 pages, 0 failed requests, desired concurrency 10.\n",
      "\u001b[36m[apify.facebook-pages-scraper runId:liagPadrJ2vizUGny]\u001b[0m -> 2025-06-26T17:23:44.323Z \u001b[32mINFO\u001b[39m \u001b[33m CheerioCrawler:\u001b[39m Starting the crawler.\n",
      "\u001b[36m[apify.facebook-pages-scraper runId:liagPadrJ2vizUGny]\u001b[0m -> 2025-06-26T17:24:04.583Z \u001b[32mINFO\u001b[39m  [PROGRESS]: Found 1 new page details, 1/135 for URL https://www.facebook.com/LedgerLift-AISolutions\n",
      "\u001b[36m[apify.facebook-pages-scraper runId:liagPadrJ2vizUGny]\u001b[0m -> 2025-06-26T17:24:05.053Z \u001b[32mINFO\u001b[39m \u001b[33m CheerioCrawler:\u001b[39m All requests from the queue have been processed, the crawler will shut down.\n",
      "\u001b[36m[apify.facebook-pages-scraper runId:liagPadrJ2vizUGny]\u001b[0m -> 2025-06-26T17:24:05.168Z \u001b[32mINFO\u001b[39m \u001b[33m CheerioCrawler:\u001b[39m Final request statistics:\u001b[90m {\"requestsFinished\":1,\"requestsFailed\":0,\"retryHistogram\":[1],\"requestAvgFailedDurationMillis\":null,\"requestAvgFinishedDurationMillis\":20616,\"requestsFinishedPerMinute\":3,\"requestsFailedPerMinute\":0,\"requestTotalDurationMillis\":20616,\"requestsTotal\":1,\"crawlerRuntimeMillis\":21022}\u001b[39m\n",
      "\u001b[36m[apify.facebook-pages-scraper runId:liagPadrJ2vizUGny]\u001b[0m -> 2025-06-26T17:24:05.170Z \u001b[32mINFO\u001b[39m \u001b[33m CheerioCrawler:\u001b[39m Finished! Total 1 requests: 1 succeeded, 0 failed.\u001b[90m {\"terminal\":true}\u001b[39m\n",
      "\u001b[36m[apify.facebook-pages-scraper runId:liagPadrJ2vizUGny]\u001b[0m -> 2025-06-26T17:24:05.340Z \u001b[32mINFO\u001b[39m  *** DONE ***\n",
      "\u001b[36m[apify.facebook-pages-scraper runId:liagPadrJ2vizUGny]\u001b[0m -> Status: SUCCEEDED, Message: Finished! Total 1 requests: 1 succeeded, 0 failed.\n"
     ]
    },
    {
     "name": "stdout",
     "output_type": "stream",
     "text": [
      "🔍 Scraping: https://www.facebook.com/GonukkadUSA-GoDigital\n",
      "🔍 Scraping: https://www.facebook.com/GonukkadUSA-GoDigital\n"
     ]
    },
    {
     "name": "stderr",
     "output_type": "stream",
     "text": [
      "\u001b[36m[apify.facebook-pages-scraper runId:oJoMv2Y5u2NFrPCgA]\u001b[0m -> Status: RUNNING, Message: \n",
      "\u001b[36m[apify.facebook-pages-scraper runId:oJoMv2Y5u2NFrPCgA]\u001b[0m -> 2025-06-26T17:24:13.665Z ACTOR: Pulling Docker image of build ndia0NqLlGfdAxNja from registry.\n",
      "\u001b[36m[apify.facebook-pages-scraper runId:oJoMv2Y5u2NFrPCgA]\u001b[0m -> 2025-06-26T17:24:13.666Z ACTOR: Creating Docker container.\n",
      "\u001b[36m[apify.facebook-pages-scraper runId:oJoMv2Y5u2NFrPCgA]\u001b[0m -> 2025-06-26T17:24:13.702Z ACTOR: Starting Docker container.\n",
      "\u001b[36m[apify.facebook-pages-scraper runId:oJoMv2Y5u2NFrPCgA]\u001b[0m -> 2025-06-26T17:24:15.201Z \u001b[32mINFO\u001b[39m  System info\u001b[90m {\"apifyVersion\":\"3.4.2\",\"apifyClientVersion\":\"2.12.5\",\"crawleeVersion\":\"3.13.7\",\"osType\":\"Linux\",\"nodeVersion\":\"v20.19.2\"}\u001b[39m\n",
      "\u001b[36m[apify.facebook-pages-scraper runId:oJoMv2Y5u2NFrPCgA]\u001b[0m -> 2025-06-26T17:24:15.321Z \u001b[32mINFO\u001b[39m  Results Limit undefined\n",
      "\u001b[36m[apify.facebook-pages-scraper runId:oJoMv2Y5u2NFrPCgA]\u001b[0m -> 2025-06-26T17:24:15.322Z \u001b[32mINFO\u001b[39m  pushDataMaxAware 135\n",
      "\u001b[36m[apify.facebook-pages-scraper runId:oJoMv2Y5u2NFrPCgA]\u001b[0m -> 2025-06-26T17:24:15.684Z \u001b[32mINFO\u001b[39m \u001b[33m CheerioCrawler:\u001b[39m Using the old RequestQueue implementation without request locking.\n",
      "\u001b[36m[apify.facebook-pages-scraper runId:oJoMv2Y5u2NFrPCgA]\u001b[0m -> Status: RUNNING, Message: Starting the crawler.\n",
      "\u001b[36m[apify.facebook-pages-scraper runId:oJoMv2Y5u2NFrPCgA]\u001b[0m -> 2025-06-26T17:24:16.057Z \u001b[32mINFO\u001b[39m \u001b[33m CheerioCrawler:\u001b[39m Starting the crawler.\n",
      "\u001b[36m[apify.facebook-pages-scraper runId:oJoMv2Y5u2NFrPCgA]\u001b[0m -> 2025-06-26T17:24:20.001Z \u001b[32mINFO\u001b[39m \u001b[33m CheerioCrawler:\u001b[39m All requests from the queue have been processed, the crawler will shut down.\n",
      "\u001b[36m[apify.facebook-pages-scraper runId:oJoMv2Y5u2NFrPCgA]\u001b[0m -> 2025-06-26T17:24:20.159Z \u001b[32mINFO\u001b[39m \u001b[33m CheerioCrawler:\u001b[39m Final request statistics:\u001b[90m {\"requestsFinished\":1,\"requestsFailed\":0,\"retryHistogram\":[1],\"requestAvgFailedDurationMillis\":null,\"requestAvgFinishedDurationMillis\":3833,\"requestsFinishedPerMinute\":13,\"requestsFailedPerMinute\":0,\"requestTotalDurationMillis\":3833,\"requestsTotal\":1,\"crawlerRuntimeMillis\":4475}\u001b[39m\n",
      "\u001b[36m[apify.facebook-pages-scraper runId:oJoMv2Y5u2NFrPCgA]\u001b[0m -> 2025-06-26T17:24:20.160Z \u001b[32mINFO\u001b[39m \u001b[33m CheerioCrawler:\u001b[39m Finished! Total 1 requests: 1 succeeded, 0 failed.\u001b[90m {\"terminal\":true}\u001b[39m\n",
      "\u001b[36m[apify.facebook-pages-scraper runId:oJoMv2Y5u2NFrPCgA]\u001b[0m -> 2025-06-26T17:24:20.245Z \u001b[32mINFO\u001b[39m  *** DONE ***\n",
      "\u001b[36m[apify.facebook-pages-scraper runId:oJoMv2Y5u2NFrPCgA]\u001b[0m -> Status: SUCCEEDED, Message: Finished! Total 1 requests: 1 succeeded, 0 failed.\n"
     ]
    },
    {
     "name": "stdout",
     "output_type": "stream",
     "text": [
      "🔍 Scraping: https://www.facebook.com/AdventureDrivenMediaCo\n",
      "🔍 Scraping: https://www.facebook.com/AdventureDrivenMediaCo\n"
     ]
    },
    {
     "name": "stderr",
     "output_type": "stream",
     "text": [
      "\u001b[36m[apify.facebook-pages-scraper runId:hSdeFVUdGlJzefPbq]\u001b[0m -> Status: RUNNING, Message: \n",
      "\u001b[36m[apify.facebook-pages-scraper runId:hSdeFVUdGlJzefPbq]\u001b[0m -> 2025-06-26T17:24:28.393Z ACTOR: Pulling Docker image of build ndia0NqLlGfdAxNja from registry.\n",
      "\u001b[36m[apify.facebook-pages-scraper runId:hSdeFVUdGlJzefPbq]\u001b[0m -> 2025-06-26T17:24:28.395Z ACTOR: Creating Docker container.\n",
      "\u001b[36m[apify.facebook-pages-scraper runId:hSdeFVUdGlJzefPbq]\u001b[0m -> 2025-06-26T17:24:28.727Z ACTOR: Starting Docker container.\n",
      "\u001b[36m[apify.facebook-pages-scraper runId:hSdeFVUdGlJzefPbq]\u001b[0m -> 2025-06-26T17:24:30.643Z \u001b[32mINFO\u001b[39m  System info\u001b[90m {\"apifyVersion\":\"3.4.2\",\"apifyClientVersion\":\"2.12.5\",\"crawleeVersion\":\"3.13.7\",\"osType\":\"Linux\",\"nodeVersion\":\"v20.19.2\"}\u001b[39m\n",
      "\u001b[36m[apify.facebook-pages-scraper runId:hSdeFVUdGlJzefPbq]\u001b[0m -> 2025-06-26T17:24:30.770Z \u001b[32mINFO\u001b[39m  Results Limit undefined\n",
      "\u001b[36m[apify.facebook-pages-scraper runId:hSdeFVUdGlJzefPbq]\u001b[0m -> 2025-06-26T17:24:30.772Z \u001b[32mINFO\u001b[39m  pushDataMaxAware 133\n",
      "\u001b[36m[apify.facebook-pages-scraper runId:hSdeFVUdGlJzefPbq]\u001b[0m -> 2025-06-26T17:24:31.078Z \u001b[32mINFO\u001b[39m \u001b[33m CheerioCrawler:\u001b[39m Using the old RequestQueue implementation without request locking.\n",
      "\u001b[36m[apify.facebook-pages-scraper runId:hSdeFVUdGlJzefPbq]\u001b[0m -> Status: RUNNING, Message: Starting the crawler.\n",
      "\u001b[36m[apify.facebook-pages-scraper runId:hSdeFVUdGlJzefPbq]\u001b[0m -> Status: RUNNING, Message: Crawled 0/1 pages, 0 failed requests, desired concurrency 10.\n",
      "\u001b[36m[apify.facebook-pages-scraper runId:hSdeFVUdGlJzefPbq]\u001b[0m -> 2025-06-26T17:24:31.291Z \u001b[32mINFO\u001b[39m \u001b[33m CheerioCrawler:\u001b[39m Starting the crawler.\n",
      "\u001b[36m[apify.facebook-pages-scraper runId:hSdeFVUdGlJzefPbq]\u001b[0m -> 2025-06-26T17:24:44.105Z \u001b[32mINFO\u001b[39m  [PROGRESS]: Found 1 new page details, 1/133 for URL https://www.facebook.com/AdventureDrivenMediaCo\n",
      "\u001b[36m[apify.facebook-pages-scraper runId:hSdeFVUdGlJzefPbq]\u001b[0m -> 2025-06-26T17:24:44.617Z \u001b[32mINFO\u001b[39m \u001b[33m CheerioCrawler:\u001b[39m All requests from the queue have been processed, the crawler will shut down.\n",
      "\u001b[36m[apify.facebook-pages-scraper runId:hSdeFVUdGlJzefPbq]\u001b[0m -> 2025-06-26T17:24:44.808Z \u001b[32mINFO\u001b[39m \u001b[33m CheerioCrawler:\u001b[39m Final request statistics:\u001b[90m {\"requestsFinished\":1,\"requestsFailed\":0,\"retryHistogram\":[1],\"requestAvgFailedDurationMillis\":null,\"requestAvgFinishedDurationMillis\":13212,\"requestsFinishedPerMinute\":4,\"requestsFailedPerMinute\":0,\"requestTotalDurationMillis\":13212,\"requestsTotal\":1,\"crawlerRuntimeMillis\":13749}\u001b[39m\n",
      "\u001b[36m[apify.facebook-pages-scraper runId:hSdeFVUdGlJzefPbq]\u001b[0m -> 2025-06-26T17:24:44.810Z \u001b[32mINFO\u001b[39m \u001b[33m CheerioCrawler:\u001b[39m Finished! Total 1 requests: 1 succeeded, 0 failed.\u001b[90m {\"terminal\":true}\u001b[39m\n",
      "\u001b[36m[apify.facebook-pages-scraper runId:hSdeFVUdGlJzefPbq]\u001b[0m -> 2025-06-26T17:24:44.958Z \u001b[32mINFO\u001b[39m  *** DONE ***\n",
      "\u001b[36m[apify.facebook-pages-scraper runId:hSdeFVUdGlJzefPbq]\u001b[0m -> Status: SUCCEEDED, Message: Finished! Total 1 requests: 1 succeeded, 0 failed.\n"
     ]
    },
    {
     "name": "stdout",
     "output_type": "stream",
     "text": [
      "🔍 Scraping: https://www.facebook.com/GoldenHausSuites\n",
      "🔍 Scraping: https://www.facebook.com/GoldenHausSuites\n"
     ]
    },
    {
     "name": "stderr",
     "output_type": "stream",
     "text": [
      "\u001b[36m[apify.facebook-pages-scraper runId:b5x7r8QFrFhLLHNnt]\u001b[0m -> Status: RUNNING, Message: \n",
      "\u001b[36m[apify.facebook-pages-scraper runId:b5x7r8QFrFhLLHNnt]\u001b[0m -> 2025-06-26T17:24:52.355Z ACTOR: Pulling Docker image of build ndia0NqLlGfdAxNja from registry.\n",
      "\u001b[36m[apify.facebook-pages-scraper runId:b5x7r8QFrFhLLHNnt]\u001b[0m -> 2025-06-26T17:24:52.357Z ACTOR: Creating Docker container.\n",
      "\u001b[36m[apify.facebook-pages-scraper runId:b5x7r8QFrFhLLHNnt]\u001b[0m -> 2025-06-26T17:24:52.419Z ACTOR: Starting Docker container.\n",
      "\u001b[36m[apify.facebook-pages-scraper runId:b5x7r8QFrFhLLHNnt]\u001b[0m -> 2025-06-26T17:24:53.941Z \u001b[32mINFO\u001b[39m  System info\u001b[90m {\"apifyVersion\":\"3.4.2\",\"apifyClientVersion\":\"2.12.5\",\"crawleeVersion\":\"3.13.7\",\"osType\":\"Linux\",\"nodeVersion\":\"v20.19.2\"}\u001b[39m\n",
      "\u001b[36m[apify.facebook-pages-scraper runId:b5x7r8QFrFhLLHNnt]\u001b[0m -> 2025-06-26T17:24:54.059Z \u001b[32mINFO\u001b[39m  Results Limit undefined\n",
      "\u001b[36m[apify.facebook-pages-scraper runId:b5x7r8QFrFhLLHNnt]\u001b[0m -> 2025-06-26T17:24:54.062Z \u001b[32mINFO\u001b[39m  pushDataMaxAware 133\n",
      "\u001b[36m[apify.facebook-pages-scraper runId:b5x7r8QFrFhLLHNnt]\u001b[0m -> 2025-06-26T17:24:54.343Z \u001b[32mINFO\u001b[39m \u001b[33m CheerioCrawler:\u001b[39m Using the old RequestQueue implementation without request locking.\n",
      "\u001b[36m[apify.facebook-pages-scraper runId:b5x7r8QFrFhLLHNnt]\u001b[0m -> Status: RUNNING, Message: Starting the crawler.\n",
      "\u001b[36m[apify.facebook-pages-scraper runId:b5x7r8QFrFhLLHNnt]\u001b[0m -> 2025-06-26T17:24:54.622Z \u001b[32mINFO\u001b[39m \u001b[33m CheerioCrawler:\u001b[39m Starting the crawler.\n",
      "\u001b[36m[apify.facebook-pages-scraper runId:b5x7r8QFrFhLLHNnt]\u001b[0m -> 2025-06-26T17:25:03.891Z \u001b[32mINFO\u001b[39m \u001b[33m CheerioCrawler:\u001b[39m All requests from the queue have been processed, the crawler will shut down.\n",
      "\u001b[36m[apify.facebook-pages-scraper runId:b5x7r8QFrFhLLHNnt]\u001b[0m -> 2025-06-26T17:25:03.901Z \u001b[32mINFO\u001b[39m \u001b[33m CheerioCrawler:\u001b[39m Final request statistics:\u001b[90m {\"requestsFinished\":1,\"requestsFailed\":0,\"retryHistogram\":[1],\"requestAvgFailedDurationMillis\":null,\"requestAvgFinishedDurationMillis\":8685,\"requestsFinishedPerMinute\":7,\"requestsFailedPerMinute\":0,\"requestTotalDurationMillis\":8685,\"requestsTotal\":1,\"crawlerRuntimeMillis\":9220}\u001b[39m\n",
      "\u001b[36m[apify.facebook-pages-scraper runId:b5x7r8QFrFhLLHNnt]\u001b[0m -> 2025-06-26T17:25:03.905Z \u001b[32mINFO\u001b[39m \u001b[33m CheerioCrawler:\u001b[39m Finished! Total 1 requests: 1 succeeded, 0 failed.\u001b[90m {\"terminal\":true}\u001b[39m\n",
      "\u001b[36m[apify.facebook-pages-scraper runId:b5x7r8QFrFhLLHNnt]\u001b[0m -> 2025-06-26T17:25:03.950Z \u001b[32mINFO\u001b[39m  *** DONE ***\n",
      "\u001b[36m[apify.facebook-pages-scraper runId:b5x7r8QFrFhLLHNnt]\u001b[0m -> Status: RUNNING, Message: Finished! Total 1 requests: 1 succeeded, 0 failed.\n"
     ]
    },
    {
     "name": "stdout",
     "output_type": "stream",
     "text": [
      "🔍 Scraping: https://www.facebook.com/Image360\n",
      "🔍 Scraping: https://www.facebook.com/Image360\n"
     ]
    },
    {
     "name": "stderr",
     "output_type": "stream",
     "text": [
      "\u001b[36m[apify.facebook-pages-scraper runId:BtJSml34MlMuZ5abO]\u001b[0m -> Status: RUNNING, Message: \n",
      "\u001b[36m[apify.facebook-pages-scraper runId:BtJSml34MlMuZ5abO]\u001b[0m -> 2025-06-26T17:25:11.638Z ACTOR: Pulling Docker image of build ndia0NqLlGfdAxNja from registry.\n",
      "\u001b[36m[apify.facebook-pages-scraper runId:BtJSml34MlMuZ5abO]\u001b[0m -> 2025-06-26T17:25:11.639Z ACTOR: Creating Docker container.\n",
      "\u001b[36m[apify.facebook-pages-scraper runId:BtJSml34MlMuZ5abO]\u001b[0m -> 2025-06-26T17:25:11.729Z ACTOR: Starting Docker container.\n",
      "\u001b[36m[apify.facebook-pages-scraper runId:BtJSml34MlMuZ5abO]\u001b[0m -> 2025-06-26T17:25:13.355Z \u001b[32mINFO\u001b[39m  System info\u001b[90m {\"apifyVersion\":\"3.4.2\",\"apifyClientVersion\":\"2.12.5\",\"crawleeVersion\":\"3.13.7\",\"osType\":\"Linux\",\"nodeVersion\":\"v20.19.2\"}\u001b[39m\n",
      "\u001b[36m[apify.facebook-pages-scraper runId:BtJSml34MlMuZ5abO]\u001b[0m -> 2025-06-26T17:25:13.458Z \u001b[32mINFO\u001b[39m  Results Limit undefined\n",
      "\u001b[36m[apify.facebook-pages-scraper runId:BtJSml34MlMuZ5abO]\u001b[0m -> 2025-06-26T17:25:13.459Z \u001b[32mINFO\u001b[39m  pushDataMaxAware 133\n",
      "\u001b[36m[apify.facebook-pages-scraper runId:BtJSml34MlMuZ5abO]\u001b[0m -> 2025-06-26T17:25:13.825Z \u001b[32mINFO\u001b[39m \u001b[33m CheerioCrawler:\u001b[39m Using the old RequestQueue implementation without request locking.\n",
      "\u001b[36m[apify.facebook-pages-scraper runId:BtJSml34MlMuZ5abO]\u001b[0m -> Status: RUNNING, Message: Starting the crawler.\n",
      "\u001b[36m[apify.facebook-pages-scraper runId:BtJSml34MlMuZ5abO]\u001b[0m -> Status: RUNNING, Message: Crawled 0/1 pages, 0 failed requests, desired concurrency 10.\n",
      "\u001b[36m[apify.facebook-pages-scraper runId:BtJSml34MlMuZ5abO]\u001b[0m -> 2025-06-26T17:25:14.061Z \u001b[32mINFO\u001b[39m \u001b[33m CheerioCrawler:\u001b[39m Starting the crawler.\n",
      "\u001b[36m[apify.facebook-pages-scraper runId:BtJSml34MlMuZ5abO]\u001b[0m -> 2025-06-26T17:25:28.467Z \u001b[32mINFO\u001b[39m  [PROGRESS]: Found 1 new page details, 1/133 for URL https://www.facebook.com/Image360\n",
      "\u001b[36m[apify.facebook-pages-scraper runId:BtJSml34MlMuZ5abO]\u001b[0m -> 2025-06-26T17:25:28.913Z \u001b[32mINFO\u001b[39m \u001b[33m CheerioCrawler:\u001b[39m All requests from the queue have been processed, the crawler will shut down.\n",
      "\u001b[36m[apify.facebook-pages-scraper runId:BtJSml34MlMuZ5abO]\u001b[0m -> 2025-06-26T17:25:29.123Z \u001b[32mINFO\u001b[39m \u001b[33m CheerioCrawler:\u001b[39m Final request statistics:\u001b[90m {\"requestsFinished\":1,\"requestsFailed\":0,\"retryHistogram\":[1],\"requestAvgFailedDurationMillis\":null,\"requestAvgFinishedDurationMillis\":14739,\"requestsFinishedPerMinute\":4,\"requestsFailedPerMinute\":0,\"requestTotalDurationMillis\":14739,\"requestsTotal\":1,\"crawlerRuntimeMillis\":15299}\u001b[39m\n",
      "\u001b[36m[apify.facebook-pages-scraper runId:BtJSml34MlMuZ5abO]\u001b[0m -> 2025-06-26T17:25:29.124Z \u001b[32mINFO\u001b[39m \u001b[33m CheerioCrawler:\u001b[39m Finished! Total 1 requests: 1 succeeded, 0 failed.\u001b[90m {\"terminal\":true}\u001b[39m\n",
      "\u001b[36m[apify.facebook-pages-scraper runId:BtJSml34MlMuZ5abO]\u001b[0m -> 2025-06-26T17:25:29.176Z \u001b[32mINFO\u001b[39m  *** DONE ***\n",
      "\u001b[36m[apify.facebook-pages-scraper runId:BtJSml34MlMuZ5abO]\u001b[0m -> Status: SUCCEEDED, Message: Finished! Total 1 requests: 1 succeeded, 0 failed.\n"
     ]
    },
    {
     "ename": "KeyboardInterrupt",
     "evalue": "",
     "output_type": "error",
     "traceback": [
      "\u001b[1;31m---------------------------------------------------------------------------\u001b[0m",
      "\u001b[1;31mKeyboardInterrupt\u001b[0m                         Traceback (most recent call last)",
      "Cell \u001b[1;32mIn[1], line 78\u001b[0m\n\u001b[0;32m     75\u001b[0m     \u001b[38;5;28mprint\u001b[39m(\u001b[38;5;124mf\u001b[39m\u001b[38;5;124m\"\u001b[39m\u001b[38;5;124m✅ Done — Enriched \u001b[39m\u001b[38;5;132;01m{\u001b[39;00m\u001b[38;5;28mlen\u001b[39m(out_df)\u001b[38;5;132;01m}\u001b[39;00m\u001b[38;5;124m pages and saved to \u001b[39m\u001b[38;5;132;01m{\u001b[39;00moutput_csv\u001b[38;5;132;01m}\u001b[39;00m\u001b[38;5;124m\"\u001b[39m)\n\u001b[0;32m     77\u001b[0m \u001b[38;5;28;01mif\u001b[39;00m \u001b[38;5;18m__name__\u001b[39m \u001b[38;5;241m==\u001b[39m \u001b[38;5;124m\"\u001b[39m\u001b[38;5;124m__main__\u001b[39m\u001b[38;5;124m\"\u001b[39m:\n\u001b[1;32m---> 78\u001b[0m     \u001b[43menrich_pages\u001b[49m\u001b[43m(\u001b[49m\u001b[43m)\u001b[49m\n",
      "Cell \u001b[1;32mIn[1], line 57\u001b[0m, in \u001b[0;36menrich_pages\u001b[1;34m(input_csv, output_csv)\u001b[0m\n\u001b[0;32m     55\u001b[0m url \u001b[38;5;241m=\u001b[39m \u001b[38;5;124mf\u001b[39m\u001b[38;5;124m\"\u001b[39m\u001b[38;5;124mhttps://www.facebook.com/\u001b[39m\u001b[38;5;132;01m{\u001b[39;00mpage\u001b[38;5;241m.\u001b[39mreplace(\u001b[38;5;124m'\u001b[39m\u001b[38;5;124m \u001b[39m\u001b[38;5;124m'\u001b[39m,\u001b[38;5;250m \u001b[39m\u001b[38;5;124m'\u001b[39m\u001b[38;5;124m'\u001b[39m)\u001b[38;5;132;01m}\u001b[39;00m\u001b[38;5;124m\"\u001b[39m\n\u001b[0;32m     56\u001b[0m \u001b[38;5;28mprint\u001b[39m(\u001b[38;5;124mf\u001b[39m\u001b[38;5;124m\"\u001b[39m\u001b[38;5;124m🔍 Scraping: \u001b[39m\u001b[38;5;132;01m{\u001b[39;00murl\u001b[38;5;132;01m}\u001b[39;00m\u001b[38;5;124m\"\u001b[39m)  \u001b[38;5;66;03m# ✅ Should now appear\u001b[39;00m\n\u001b[1;32m---> 57\u001b[0m data \u001b[38;5;241m=\u001b[39m \u001b[43mscrape_fb_page\u001b[49m\u001b[43m(\u001b[49m\u001b[43murl\u001b[49m\u001b[43m)\u001b[49m\n\u001b[0;32m     59\u001b[0m \u001b[38;5;28;01mif\u001b[39;00m data:\n\u001b[0;32m     60\u001b[0m     enriched\u001b[38;5;241m.\u001b[39mappend({\n\u001b[0;32m     61\u001b[0m         \u001b[38;5;124m\"\u001b[39m\u001b[38;5;124mpage_name\u001b[39m\u001b[38;5;124m\"\u001b[39m: page,\n\u001b[0;32m     62\u001b[0m         \u001b[38;5;124m\"\u001b[39m\u001b[38;5;124mpage_url\u001b[39m\u001b[38;5;124m\"\u001b[39m: url,\n\u001b[1;32m   (...)\u001b[0m\n\u001b[0;32m     68\u001b[0m         \u001b[38;5;124m\"\u001b[39m\u001b[38;5;124maddress\u001b[39m\u001b[38;5;124m\"\u001b[39m: data\u001b[38;5;241m.\u001b[39mget(\u001b[38;5;124m\"\u001b[39m\u001b[38;5;124maddress\u001b[39m\u001b[38;5;124m\"\u001b[39m, \u001b[38;5;124m\"\u001b[39m\u001b[38;5;124m\"\u001b[39m)\n\u001b[0;32m     69\u001b[0m     })\n",
      "Cell \u001b[1;32mIn[1], line 17\u001b[0m, in \u001b[0;36mscrape_fb_page\u001b[1;34m(url)\u001b[0m\n\u001b[0;32m     15\u001b[0m \u001b[38;5;28;01mtry\u001b[39;00m:\n\u001b[0;32m     16\u001b[0m     \u001b[38;5;28mprint\u001b[39m(\u001b[38;5;124mf\u001b[39m\u001b[38;5;124m\"\u001b[39m\u001b[38;5;124m🔍 Scraping: \u001b[39m\u001b[38;5;132;01m{\u001b[39;00murl\u001b[38;5;132;01m}\u001b[39;00m\u001b[38;5;124m\"\u001b[39m)\n\u001b[1;32m---> 17\u001b[0m     run \u001b[38;5;241m=\u001b[39m \u001b[43mclient\u001b[49m\u001b[38;5;241;43m.\u001b[39;49m\u001b[43mactor\u001b[49m\u001b[43m(\u001b[49m\u001b[38;5;124;43m\"\u001b[39;49m\u001b[38;5;124;43mapify/facebook-pages-scraper\u001b[39;49m\u001b[38;5;124;43m\"\u001b[39;49m\u001b[43m)\u001b[49m\u001b[38;5;241;43m.\u001b[39;49m\u001b[43mcall\u001b[49m\u001b[43m(\u001b[49m\n\u001b[0;32m     18\u001b[0m \u001b[43m        \u001b[49m\u001b[43mrun_input\u001b[49m\u001b[38;5;241;43m=\u001b[39;49m\u001b[43m{\u001b[49m\n\u001b[0;32m     19\u001b[0m \u001b[43m            \u001b[49m\u001b[38;5;124;43m\"\u001b[39;49m\u001b[38;5;124;43mstartUrls\u001b[39;49m\u001b[38;5;124;43m\"\u001b[39;49m\u001b[43m:\u001b[49m\u001b[43m \u001b[49m\u001b[43m[\u001b[49m\u001b[43m{\u001b[49m\u001b[38;5;124;43m\"\u001b[39;49m\u001b[38;5;124;43murl\u001b[39;49m\u001b[38;5;124;43m\"\u001b[39;49m\u001b[43m:\u001b[49m\u001b[43m \u001b[49m\u001b[43murl\u001b[49m\u001b[43m}\u001b[49m\u001b[43m]\u001b[49m\u001b[43m,\u001b[49m\n\u001b[0;32m     20\u001b[0m \u001b[43m            \u001b[49m\u001b[38;5;124;43m\"\u001b[39;49m\u001b[38;5;124;43mscrapeAbout\u001b[39;49m\u001b[38;5;124;43m\"\u001b[39;49m\u001b[43m:\u001b[49m\u001b[43m \u001b[49m\u001b[38;5;28;43;01mTrue\u001b[39;49;00m\u001b[43m,\u001b[49m\n\u001b[0;32m     21\u001b[0m \u001b[43m            \u001b[49m\u001b[38;5;124;43m\"\u001b[39;49m\u001b[38;5;124;43mscrapeServices\u001b[39;49m\u001b[38;5;124;43m\"\u001b[39;49m\u001b[43m:\u001b[49m\u001b[43m \u001b[49m\u001b[38;5;28;43;01mFalse\u001b[39;49;00m\u001b[43m,\u001b[49m\n\u001b[0;32m     22\u001b[0m \u001b[43m            \u001b[49m\u001b[38;5;124;43m\"\u001b[39;49m\u001b[38;5;124;43mscrapeReviews\u001b[39;49m\u001b[38;5;124;43m\"\u001b[39;49m\u001b[43m:\u001b[49m\u001b[43m \u001b[49m\u001b[38;5;28;43;01mFalse\u001b[39;49;00m\u001b[43m,\u001b[49m\n\u001b[0;32m     23\u001b[0m \u001b[43m            \u001b[49m\u001b[38;5;124;43m\"\u001b[39;49m\u001b[38;5;124;43mscrapePosts\u001b[39;49m\u001b[38;5;124;43m\"\u001b[39;49m\u001b[43m:\u001b[49m\u001b[43m \u001b[49m\u001b[38;5;28;43;01mFalse\u001b[39;49;00m\n\u001b[0;32m     24\u001b[0m \u001b[43m        \u001b[49m\u001b[43m}\u001b[49m\n\u001b[0;32m     25\u001b[0m \u001b[43m    \u001b[49m\u001b[43m)\u001b[49m\n\u001b[0;32m     26\u001b[0m     dataset_id \u001b[38;5;241m=\u001b[39m run\u001b[38;5;241m.\u001b[39mget(\u001b[38;5;124m\"\u001b[39m\u001b[38;5;124mdefaultDatasetId\u001b[39m\u001b[38;5;124m\"\u001b[39m)\n\u001b[0;32m     27\u001b[0m     \u001b[38;5;28;01mif\u001b[39;00m \u001b[38;5;129;01mnot\u001b[39;00m dataset_id:\n",
      "File \u001b[1;32mc:\\Users\\Ahmad\\AppData\\Local\\Programs\\Python\\Python310\\lib\\site-packages\\apify_client\\_logging.py:84\u001b[0m, in \u001b[0;36m_injects_client_details_to_log_context.<locals>.wrapper\u001b[1;34m(resource_client, *args, **kwargs)\u001b[0m\n\u001b[0;32m     81\u001b[0m log_context\u001b[38;5;241m.\u001b[39mclient_method\u001b[38;5;241m.\u001b[39mset(fun\u001b[38;5;241m.\u001b[39m\u001b[38;5;18m__qualname__\u001b[39m)\n\u001b[0;32m     82\u001b[0m log_context\u001b[38;5;241m.\u001b[39mresource_id\u001b[38;5;241m.\u001b[39mset(resource_client\u001b[38;5;241m.\u001b[39mresource_id)\n\u001b[1;32m---> 84\u001b[0m \u001b[38;5;28;01mreturn\u001b[39;00m fun(resource_client, \u001b[38;5;241m*\u001b[39margs, \u001b[38;5;241m*\u001b[39m\u001b[38;5;241m*\u001b[39mkwargs)\n",
      "File \u001b[1;32mc:\\Users\\Ahmad\\AppData\\Local\\Programs\\Python\\Python310\\lib\\site-packages\\apify_client\\clients\\resource_clients\\actor.py:344\u001b[0m, in \u001b[0;36mActorClient.call\u001b[1;34m(self, run_input, content_type, build, max_items, max_total_charge_usd, memory_mbytes, timeout_secs, webhooks, wait_secs, logger)\u001b[0m\n\u001b[0;32m    341\u001b[0m \u001b[38;5;28;01mif\u001b[39;00m logger \u001b[38;5;241m==\u001b[39m \u001b[38;5;124m'\u001b[39m\u001b[38;5;124mdefault\u001b[39m\u001b[38;5;124m'\u001b[39m:\n\u001b[0;32m    342\u001b[0m     logger \u001b[38;5;241m=\u001b[39m \u001b[38;5;28;01mNone\u001b[39;00m\n\u001b[1;32m--> 344\u001b[0m \u001b[38;5;28;01mwith\u001b[39;00m run_client\u001b[38;5;241m.\u001b[39mget_status_message_watcher(to_logger\u001b[38;5;241m=\u001b[39mlogger), run_client\u001b[38;5;241m.\u001b[39mget_streamed_log(to_logger\u001b[38;5;241m=\u001b[39mlogger):\n\u001b[0;32m    345\u001b[0m     \u001b[38;5;28;01mreturn\u001b[39;00m \u001b[38;5;28mself\u001b[39m\u001b[38;5;241m.\u001b[39mroot_client\u001b[38;5;241m.\u001b[39mrun(started_run[\u001b[38;5;124m'\u001b[39m\u001b[38;5;124mid\u001b[39m\u001b[38;5;124m'\u001b[39m])\u001b[38;5;241m.\u001b[39mwait_for_finish(wait_secs\u001b[38;5;241m=\u001b[39mwait_secs)\n",
      "File \u001b[1;32mc:\\Users\\Ahmad\\AppData\\Local\\Programs\\Python\\Python310\\lib\\site-packages\\apify_client\\clients\\resource_clients\\log.py:538\u001b[0m, in \u001b[0;36mStatusMessageWatcherSync.__exit__\u001b[1;34m(self, exc_type, exc_val, exc_tb)\u001b[0m\n\u001b[0;32m    534\u001b[0m \u001b[38;5;28;01mdef\u001b[39;00m \u001b[38;5;21m__exit__\u001b[39m(\n\u001b[0;32m    535\u001b[0m     \u001b[38;5;28mself\u001b[39m, exc_type: \u001b[38;5;28mtype\u001b[39m[\u001b[38;5;167;01mBaseException\u001b[39;00m] \u001b[38;5;241m|\u001b[39m \u001b[38;5;28;01mNone\u001b[39;00m, exc_val: \u001b[38;5;167;01mBaseException\u001b[39;00m \u001b[38;5;241m|\u001b[39m \u001b[38;5;28;01mNone\u001b[39;00m, exc_tb: TracebackType \u001b[38;5;241m|\u001b[39m \u001b[38;5;28;01mNone\u001b[39;00m\n\u001b[0;32m    536\u001b[0m ) \u001b[38;5;241m-\u001b[39m\u001b[38;5;241m>\u001b[39m \u001b[38;5;28;01mNone\u001b[39;00m:\n\u001b[0;32m    537\u001b[0m \u001b[38;5;250m    \u001b[39m\u001b[38;5;124;03m\"\"\"Cancel the logging task.\"\"\"\u001b[39;00m\n\u001b[1;32m--> 538\u001b[0m     \u001b[38;5;28;43mself\u001b[39;49m\u001b[38;5;241;43m.\u001b[39;49m\u001b[43mstop\u001b[49m\u001b[43m(\u001b[49m\u001b[43m)\u001b[49m\n",
      "File \u001b[1;32mc:\\Users\\Ahmad\\AppData\\Local\\Programs\\Python\\Python310\\lib\\site-packages\\apify_client\\clients\\resource_clients\\log.py:523\u001b[0m, in \u001b[0;36mStatusMessageWatcherSync.stop\u001b[1;34m(self)\u001b[0m\n\u001b[0;32m    521\u001b[0m \u001b[38;5;28;01mif\u001b[39;00m \u001b[38;5;129;01mnot\u001b[39;00m \u001b[38;5;28mself\u001b[39m\u001b[38;5;241m.\u001b[39m_logging_thread:\n\u001b[0;32m    522\u001b[0m     \u001b[38;5;28;01mraise\u001b[39;00m \u001b[38;5;167;01mRuntimeError\u001b[39;00m(\u001b[38;5;124m'\u001b[39m\u001b[38;5;124mLogging thread is not active\u001b[39m\u001b[38;5;124m'\u001b[39m)\n\u001b[1;32m--> 523\u001b[0m \u001b[43mtime\u001b[49m\u001b[38;5;241;43m.\u001b[39;49m\u001b[43msleep\u001b[49m\u001b[43m(\u001b[49m\u001b[38;5;28;43mself\u001b[39;49m\u001b[38;5;241;43m.\u001b[39;49m\u001b[43m_final_sleep_time_s\u001b[49m\u001b[43m)\u001b[49m\n\u001b[0;32m    524\u001b[0m \u001b[38;5;28mself\u001b[39m\u001b[38;5;241m.\u001b[39m_stop_logging \u001b[38;5;241m=\u001b[39m \u001b[38;5;28;01mTrue\u001b[39;00m\n\u001b[0;32m    525\u001b[0m \u001b[38;5;28mself\u001b[39m\u001b[38;5;241m.\u001b[39m_logging_thread\u001b[38;5;241m.\u001b[39mjoin()\n",
      "\u001b[1;31mKeyboardInterrupt\u001b[0m: "
     ]
    }
   ],
   "source": [
    "import os\n",
    "import pandas as pd\n",
    "from apify_client import ApifyClient\n",
    "from dotenv import load_dotenv\n",
    "\n",
    "# Load your APIFY token\n",
    "load_dotenv()\n",
    "token = os.getenv(\"APIFY_API_TOKEN\")\n",
    "if not token:\n",
    "    raise RuntimeError(\"❌ Missing APIFY_API_TOKEN in .env\")\n",
    "\n",
    "client = ApifyClient(token)\n",
    "\n",
    "def scrape_fb_page(url):\n",
    "    try:\n",
    "        print(f\"🔍 Scraping: {url}\")\n",
    "        run = client.actor(\"apify/facebook-search-scraper\").call(\n",
    "            run_input={\n",
    "                \"startUrls\": [{\"url\": url}],\n",
    "                \"scrapeAbout\": True,\n",
    "                \"scrapeServices\": False,\n",
    "                \"scrapeReviews\": False,\n",
    "                \"scrapePosts\": False\n",
    "            }\n",
    "        )\n",
    "        dataset_id = run.get(\"defaultDatasetId\")\n",
    "        if not dataset_id:\n",
    "            return {}\n",
    "\n",
    "        items = list(client.dataset(dataset_id).iterate_items())\n",
    "        return items[0] if items else {}\n",
    "\n",
    "    except Exception as e:\n",
    "        print(f\"❌ Failed to scrape {url}: {e}\")\n",
    "        return {}\n",
    "\n",
    "def enrich_pages(input_csv=\"results/ads_cleaned.csv\", output_csv=\"results/enriched_pages.csv\"):\n",
    "    df = pd.read_csv(input_csv)\n",
    "    df.columns = df.columns.str.strip()  # 🧽 Strip column names\n",
    "    print(f\"📄 Loaded {len(df)} rows from {input_csv}\")\n",
    "    print(\"🧪 Columns:\", df.columns.tolist())\n",
    "\n",
    "    enriched = []\n",
    "    seen = set()\n",
    "\n",
    "    for _, row in df.iterrows():\n",
    "        page = row.get(\"page_name\", \"\").strip()\n",
    "        if not page:\n",
    "            print(f\"⚠️ Skipping row — Missing page name: {row}\")\n",
    "            continue\n",
    "        if page in seen:\n",
    "            continue\n",
    "        seen.add(page)\n",
    "\n",
    "        url = f\"https://www.facebook.com/{page.replace(' ', '')}\"\n",
    "        print(f\"🔍 Scraping: {url}\")  # ✅ Should now appear\n",
    "        data = scrape_fb_page(url)\n",
    "\n",
    "        if data:\n",
    "            enriched.append({\n",
    "                \"page_name\": page,\n",
    "                \"page_url\": url,\n",
    "                \"website\": data.get(\"website\", \"\"),\n",
    "                \"email\": data.get(\"email\", \"\"),\n",
    "                \"phone\": data.get(\"phone\", \"\"),\n",
    "                \"category\": data.get(\"category\", \"\"),\n",
    "                \"bio\": data.get(\"bio\", \"\"),\n",
    "                \"address\": data.get(\"address\", \"\")\n",
    "            })\n",
    "\n",
    "\n",
    "    out_df = pd.DataFrame(enriched)\n",
    "    os.makedirs(\"results\", exist_ok=True)\n",
    "    out_df.to_csv(output_csv, index=False, encoding=\"utf-8\")\n",
    "    print(f\"✅ Done — Enriched {len(out_df)} pages and saved to {output_csv}\")\n",
    "\n",
    "if __name__ == \"__main__\":\n",
    "    enrich_pages()\n"
   ]
  },
  {
   "cell_type": "code",
   "execution_count": 7,
   "id": "e2554012",
   "metadata": {},
   "outputs": [],
   "source": [
    "import os\n",
    "import pandas as pd\n",
    "from dotenv import load_dotenv\n",
    "from apify_client import ApifyClient\n",
    "\n",
    "load_dotenv()\n",
    "token = os.getenv(\"APIFY_API_TOKEN\")\n",
    "if not token:\n",
    "    raise RuntimeError(\"🔥 Set APIFY_API_TOKEN in your .env\")\n",
    "\n",
    "client = ApifyClient(token)\n",
    "\n",
    "def enrich_page(page_url):\n",
    "    \"\"\"Searches Facebook via Apify scraper and returns top result or empty dict.\"\"\"\n",
    "    print(f\"🔍 Looking up '{page_url}' on Facebook...\")\n",
    "    run = client.actor(\"apify/facebook-search-scraper\").call(\n",
    "        run_input={\n",
    "            \"search\": page_url,\n",
    "            \"resultsLimit\": 1,\n",
    "            \"categories\": [\"Page\"]\n",
    "        }\n",
    "    )\n",
    "    dataset_id = run.get(\"defaultDatasetId\")\n",
    "    if not dataset_id:\n",
    "        return {}\n",
    "    items = list(client.dataset(dataset_id).iterate_items())\n",
    "    return items[0] if items else {}\n",
    "\n",
    "\n",
    "def main():\n",
    "    df = pd.read_csv(\"results/ads_cleaned.csv\")\n",
    "    enriched = []\n",
    "    seen_pages = set()\n",
    "\n",
    "    for _, row in df.iterrows():\n",
    "        page = row.get(\"page_url\", \"\").strip()\n",
    "        if not page or page in seen_pages:\n",
    "            continue\n",
    "        seen_pages.add(page)\n",
    "\n",
    "        data = enrich_page(page)\n",
    "        if data:\n",
    "            record = {**row, **{\n",
    "                \"fb_profile_url\": data.get(\"profileUrl\", \"\"),\n",
    "                \"name\": data.get(\"name\", \"\"),\n",
    "                \"email\": data.get(\"email\", \"\"),\n",
    "                \"phone\": data.get(\"phone\", \"\"),\n",
    "                \"work\": data.get(\"work\", []),\n",
    "                \"education\": data.get(\"education\", [])\n",
    "            }}\n",
    "            enriched.append(record)\n",
    "\n",
    "    out_df = pd.DataFrame(enriched)\n",
    "    out_df.to_csv(\"results/enriched_pages.csv\", index=False, encoding=\"utf-8\")\n",
    "    print(f\"✅ Enriched {len(out_df)} pages — saved to results/enriched_pages.csv\")"
   ]
  },
  {
   "cell_type": "code",
   "execution_count": null,
   "id": "280a1da8",
   "metadata": {},
   "outputs": [],
   "source": [
    "if __name__ == \"__main__\":\n",
    "    main()"
   ]
  },
  {
   "cell_type": "code",
   "execution_count": null,
   "id": "09c82ffb",
   "metadata": {},
   "outputs": [
    {
     "name": "stdout",
     "output_type": "stream",
     "text": [
      "🔍 Scraping: https://www.facebook.com/CabrilloCollege\n"
     ]
    },
    {
     "name": "stderr",
     "output_type": "stream",
     "text": [
      "\u001b[36m[apify.facebook-pages-scraper runId:2H5hKqtxl5bDWu1zr]\u001b[0m -> Status: RUNNING, Message: \n",
      "\u001b[36m[apify.facebook-pages-scraper runId:2H5hKqtxl5bDWu1zr]\u001b[0m -> 2025-06-27T16:27:02.700Z ACTOR: Pulling Docker image of build fYUy7GidTW8TkhvRK from registry.\n",
      "\u001b[36m[apify.facebook-pages-scraper runId:2H5hKqtxl5bDWu1zr]\u001b[0m -> 2025-06-27T16:27:02.703Z ACTOR: Creating Docker container.\n",
      "\u001b[36m[apify.facebook-pages-scraper runId:2H5hKqtxl5bDWu1zr]\u001b[0m -> 2025-06-27T16:27:02.769Z ACTOR: Starting Docker container.\n",
      "\u001b[36m[apify.facebook-pages-scraper runId:2H5hKqtxl5bDWu1zr]\u001b[0m -> 2025-06-27T16:27:04.964Z \u001b[32mINFO\u001b[39m  System info\u001b[90m {\"apifyVersion\":\"3.4.2\",\"apifyClientVersion\":\"2.12.5\",\"crawleeVersion\":\"3.13.7\",\"osType\":\"Linux\",\"nodeVersion\":\"v20.19.2\"}\u001b[39m\n",
      "\u001b[36m[apify.facebook-pages-scraper runId:2H5hKqtxl5bDWu1zr]\u001b[0m -> 2025-06-27T16:27:05.124Z \u001b[32mINFO\u001b[39m  Results Limit undefined\n",
      "\u001b[36m[apify.facebook-pages-scraper runId:2H5hKqtxl5bDWu1zr]\u001b[0m -> 2025-06-27T16:27:05.129Z \u001b[32mINFO\u001b[39m  pushDataMaxAware 363\n",
      "\u001b[36m[apify.facebook-pages-scraper runId:2H5hKqtxl5bDWu1zr]\u001b[0m -> 2025-06-27T16:27:05.455Z \u001b[32mINFO\u001b[39m \u001b[33m CheerioCrawler:\u001b[39m Using the old RequestQueue implementation without request locking.\n",
      "\u001b[36m[apify.facebook-pages-scraper runId:2H5hKqtxl5bDWu1zr]\u001b[0m -> Status: RUNNING, Message: Starting the crawler.\n",
      "\u001b[36m[apify.facebook-pages-scraper runId:2H5hKqtxl5bDWu1zr]\u001b[0m -> 2025-06-27T16:27:05.634Z \u001b[32mINFO\u001b[39m \u001b[33m CheerioCrawler:\u001b[39m Starting the crawler.\n",
      "\u001b[36m[apify.facebook-pages-scraper runId:2H5hKqtxl5bDWu1zr]\u001b[0m -> 2025-06-27T16:27:16.236Z \u001b[32mINFO\u001b[39m  [PROGRESS]: Found 1 new page details, 1/363 for URL https://www.facebook.com/CabrilloCollege\n",
      "\u001b[36m[apify.facebook-pages-scraper runId:2H5hKqtxl5bDWu1zr]\u001b[0m -> 2025-06-27T16:27:16.384Z \u001b[32mINFO\u001b[39m \u001b[33m CheerioCrawler:\u001b[39m All requests from the queue have been processed, the crawler will shut down.\n",
      "\u001b[36m[apify.facebook-pages-scraper runId:2H5hKqtxl5bDWu1zr]\u001b[0m -> 2025-06-27T16:27:16.548Z \u001b[32mINFO\u001b[39m \u001b[33m CheerioCrawler:\u001b[39m Final request statistics:\u001b[90m {\"requestsFinished\":1,\"requestsFailed\":0,\"retryHistogram\":[1],\"requestAvgFailedDurationMillis\":null,\"requestAvgFinishedDurationMillis\":10664,\"requestsFinishedPerMinute\":5,\"requestsFailedPerMinute\":0,\"requestTotalDurationMillis\":10664,\"requestsTotal\":1,\"crawlerRuntimeMillis\":11093}\u001b[39m\n",
      "\u001b[36m[apify.facebook-pages-scraper runId:2H5hKqtxl5bDWu1zr]\u001b[0m -> 2025-06-27T16:27:16.550Z \u001b[32mINFO\u001b[39m \u001b[33m CheerioCrawler:\u001b[39m Finished! Total 1 requests: 1 succeeded, 0 failed.\u001b[90m {\"terminal\":true}\u001b[39m\n",
      "\u001b[36m[apify.facebook-pages-scraper runId:2H5hKqtxl5bDWu1zr]\u001b[0m -> Status: RUNNING, Message: Finished! Total 1 requests: 1 succeeded, 0 failed.\n",
      "\u001b[36m[apify.facebook-pages-scraper runId:2H5hKqtxl5bDWu1zr]\u001b[0m -> 2025-06-27T16:27:16.641Z \u001b[32mINFO\u001b[39m  *** DONE ***\n"
     ]
    },
    {
     "name": "stdout",
     "output_type": "stream",
     "text": [
      "🔍 Scraping: https://www.facebook.com/EdmersonYu-RealEstateInvestments\n"
     ]
    },
    {
     "name": "stderr",
     "output_type": "stream",
     "text": [
      "\u001b[36m[apify.facebook-pages-scraper runId:KBJvzIr0x9vl91BnZ]\u001b[0m -> Status: RUNNING, Message: \n",
      "\u001b[36m[apify.facebook-pages-scraper runId:KBJvzIr0x9vl91BnZ]\u001b[0m -> 2025-06-27T16:27:24.996Z ACTOR: Pulling Docker image of build fYUy7GidTW8TkhvRK from registry.\n",
      "\u001b[36m[apify.facebook-pages-scraper runId:KBJvzIr0x9vl91BnZ]\u001b[0m -> 2025-06-27T16:27:24.997Z ACTOR: Creating Docker container.\n",
      "\u001b[36m[apify.facebook-pages-scraper runId:KBJvzIr0x9vl91BnZ]\u001b[0m -> 2025-06-27T16:27:25.082Z ACTOR: Starting Docker container.\n",
      "\u001b[36m[apify.facebook-pages-scraper runId:KBJvzIr0x9vl91BnZ]\u001b[0m -> 2025-06-27T16:27:28.134Z \u001b[32mINFO\u001b[39m  System info\u001b[90m {\"apifyVersion\":\"3.4.2\",\"apifyClientVersion\":\"2.12.5\",\"crawleeVersion\":\"3.13.7\",\"osType\":\"Linux\",\"nodeVersion\":\"v20.19.2\"}\u001b[39m\n",
      "\u001b[36m[apify.facebook-pages-scraper runId:KBJvzIr0x9vl91BnZ]\u001b[0m -> 2025-06-27T16:27:28.292Z \u001b[32mINFO\u001b[39m  Results Limit undefined\n",
      "\u001b[36m[apify.facebook-pages-scraper runId:KBJvzIr0x9vl91BnZ]\u001b[0m -> 2025-06-27T16:27:28.293Z \u001b[32mINFO\u001b[39m  pushDataMaxAware 363\n",
      "\u001b[36m[apify.facebook-pages-scraper runId:KBJvzIr0x9vl91BnZ]\u001b[0m -> 2025-06-27T16:27:28.684Z \u001b[32mINFO\u001b[39m \u001b[33m CheerioCrawler:\u001b[39m Using the old RequestQueue implementation without request locking.\n",
      "\u001b[36m[apify.facebook-pages-scraper runId:KBJvzIr0x9vl91BnZ]\u001b[0m -> Status: RUNNING, Message: Starting the crawler.\n",
      "\u001b[36m[apify.facebook-pages-scraper runId:KBJvzIr0x9vl91BnZ]\u001b[0m -> 2025-06-27T16:27:28.870Z \u001b[32mINFO\u001b[39m \u001b[33m CheerioCrawler:\u001b[39m Starting the crawler.\n",
      "\u001b[36m[apify.facebook-pages-scraper runId:KBJvzIr0x9vl91BnZ]\u001b[0m -> 2025-06-27T16:27:31.640Z \u001b[32mINFO\u001b[39m \u001b[33m CheerioCrawler:\u001b[39m All requests from the queue have been processed, the crawler will shut down.\n",
      "\u001b[36m[apify.facebook-pages-scraper runId:KBJvzIr0x9vl91BnZ]\u001b[0m -> 2025-06-27T16:27:31.748Z \u001b[32mINFO\u001b[39m \u001b[33m CheerioCrawler:\u001b[39m Final request statistics:\u001b[90m {\"requestsFinished\":1,\"requestsFailed\":0,\"retryHistogram\":[1],\"requestAvgFailedDurationMillis\":null,\"requestAvgFinishedDurationMillis\":2645,\"requestsFinishedPerMinute\":20,\"requestsFailedPerMinute\":0,\"requestTotalDurationMillis\":2645,\"requestsTotal\":1,\"crawlerRuntimeMillis\":3064}\u001b[39m\n",
      "\u001b[36m[apify.facebook-pages-scraper runId:KBJvzIr0x9vl91BnZ]\u001b[0m -> 2025-06-27T16:27:31.749Z \u001b[32mINFO\u001b[39m \u001b[33m CheerioCrawler:\u001b[39m Finished! Total 1 requests: 1 succeeded, 0 failed.\u001b[90m {\"terminal\":true}\u001b[39m\n",
      "\u001b[36m[apify.facebook-pages-scraper runId:KBJvzIr0x9vl91BnZ]\u001b[0m -> 2025-06-27T16:27:31.804Z \u001b[32mINFO\u001b[39m  *** DONE ***\n",
      "\u001b[36m[apify.facebook-pages-scraper runId:KBJvzIr0x9vl91BnZ]\u001b[0m -> Status: SUCCEEDED, Message: Finished! Total 1 requests: 1 succeeded, 0 failed.\n"
     ]
    },
    {
     "name": "stdout",
     "output_type": "stream",
     "text": [
      "🔍 Scraping: https://www.facebook.com/LedgerLift-AISolutions\n"
     ]
    },
    {
     "name": "stderr",
     "output_type": "stream",
     "text": [
      "\u001b[36m[apify.facebook-pages-scraper runId:rPIWhfUKclLWT0i9H]\u001b[0m -> Status: RUNNING, Message: \n",
      "\u001b[36m[apify.facebook-pages-scraper runId:rPIWhfUKclLWT0i9H]\u001b[0m -> 2025-06-27T16:27:39.961Z ACTOR: Pulling Docker image of build fYUy7GidTW8TkhvRK from registry.\n",
      "\u001b[36m[apify.facebook-pages-scraper runId:rPIWhfUKclLWT0i9H]\u001b[0m -> 2025-06-27T16:27:39.963Z ACTOR: Creating Docker container.\n",
      "\u001b[36m[apify.facebook-pages-scraper runId:rPIWhfUKclLWT0i9H]\u001b[0m -> 2025-06-27T16:27:40.068Z ACTOR: Starting Docker container.\n",
      "\u001b[36m[apify.facebook-pages-scraper runId:rPIWhfUKclLWT0i9H]\u001b[0m -> 2025-06-27T16:27:42.047Z \u001b[32mINFO\u001b[39m  System info\u001b[90m {\"apifyVersion\":\"3.4.2\",\"apifyClientVersion\":\"2.12.5\",\"crawleeVersion\":\"3.13.7\",\"osType\":\"Linux\",\"nodeVersion\":\"v20.19.2\"}\u001b[39m\n",
      "\u001b[36m[apify.facebook-pages-scraper runId:rPIWhfUKclLWT0i9H]\u001b[0m -> 2025-06-27T16:27:42.169Z \u001b[32mINFO\u001b[39m  Results Limit undefined\n",
      "\u001b[36m[apify.facebook-pages-scraper runId:rPIWhfUKclLWT0i9H]\u001b[0m -> 2025-06-27T16:27:42.170Z \u001b[32mINFO\u001b[39m  pushDataMaxAware 363\n",
      "\u001b[36m[apify.facebook-pages-scraper runId:rPIWhfUKclLWT0i9H]\u001b[0m -> 2025-06-27T16:27:42.472Z \u001b[32mINFO\u001b[39m \u001b[33m CheerioCrawler:\u001b[39m Using the old RequestQueue implementation without request locking.\n",
      "\u001b[36m[apify.facebook-pages-scraper runId:rPIWhfUKclLWT0i9H]\u001b[0m -> Status: RUNNING, Message: Starting the crawler.\n",
      "\u001b[36m[apify.facebook-pages-scraper runId:rPIWhfUKclLWT0i9H]\u001b[0m -> Status: RUNNING, Message: Crawled 0/1 pages, 0 failed requests, desired concurrency 10.\n",
      "\u001b[36m[apify.facebook-pages-scraper runId:rPIWhfUKclLWT0i9H]\u001b[0m -> 2025-06-27T16:27:42.690Z \u001b[32mINFO\u001b[39m \u001b[33m CheerioCrawler:\u001b[39m Starting the crawler.\n",
      "\u001b[36m[apify.facebook-pages-scraper runId:rPIWhfUKclLWT0i9H]\u001b[0m -> 2025-06-27T16:27:57.769Z \u001b[32mINFO\u001b[39m  [PROGRESS]: Found 1 new page details, 1/363 for URL https://www.facebook.com/LedgerLift-AISolutions\n",
      "\u001b[36m[apify.facebook-pages-scraper runId:rPIWhfUKclLWT0i9H]\u001b[0m -> 2025-06-27T16:27:58.344Z \u001b[32mINFO\u001b[39m \u001b[33m CheerioCrawler:\u001b[39m All requests from the queue have been processed, the crawler will shut down.\n",
      "\u001b[36m[apify.facebook-pages-scraper runId:rPIWhfUKclLWT0i9H]\u001b[0m -> 2025-06-27T16:27:58.548Z \u001b[32mINFO\u001b[39m \u001b[33m CheerioCrawler:\u001b[39m Final request statistics:\u001b[90m {\"requestsFinished\":1,\"requestsFailed\":0,\"retryHistogram\":[1],\"requestAvgFailedDurationMillis\":null,\"requestAvgFinishedDurationMillis\":15203,\"requestsFinishedPerMinute\":4,\"requestsFailedPerMinute\":0,\"requestTotalDurationMillis\":15203,\"requestsTotal\":1,\"crawlerRuntimeMillis\":16076}\u001b[39m\n",
      "\u001b[36m[apify.facebook-pages-scraper runId:rPIWhfUKclLWT0i9H]\u001b[0m -> 2025-06-27T16:27:58.549Z \u001b[32mINFO\u001b[39m \u001b[33m CheerioCrawler:\u001b[39m Finished! Total 1 requests: 1 succeeded, 0 failed.\u001b[90m {\"terminal\":true}\u001b[39m\n",
      "\u001b[36m[apify.facebook-pages-scraper runId:rPIWhfUKclLWT0i9H]\u001b[0m -> 2025-06-27T16:27:58.610Z \u001b[32mINFO\u001b[39m  *** DONE ***\n",
      "\u001b[36m[apify.facebook-pages-scraper runId:rPIWhfUKclLWT0i9H]\u001b[0m -> Status: SUCCEEDED, Message: Finished! Total 1 requests: 1 succeeded, 0 failed.\n"
     ]
    },
    {
     "name": "stdout",
     "output_type": "stream",
     "text": [
      "🔍 Scraping: https://www.facebook.com/GonukkadUSA-GoDigital\n"
     ]
    },
    {
     "name": "stderr",
     "output_type": "stream",
     "text": [
      "\u001b[36m[apify.facebook-pages-scraper runId:1xuqwsliOOAAu19l6]\u001b[0m -> Status: RUNNING, Message: \n",
      "\u001b[36m[apify.facebook-pages-scraper runId:1xuqwsliOOAAu19l6]\u001b[0m -> 2025-06-27T16:28:07.059Z ACTOR: Pulling Docker image of build fYUy7GidTW8TkhvRK from registry.\n",
      "\u001b[36m[apify.facebook-pages-scraper runId:1xuqwsliOOAAu19l6]\u001b[0m -> 2025-06-27T16:28:07.061Z ACTOR: Creating Docker container.\n",
      "\u001b[36m[apify.facebook-pages-scraper runId:1xuqwsliOOAAu19l6]\u001b[0m -> 2025-06-27T16:28:07.166Z ACTOR: Starting Docker container.\n",
      "\u001b[36m[apify.facebook-pages-scraper runId:1xuqwsliOOAAu19l6]\u001b[0m -> 2025-06-27T16:28:08.744Z \u001b[32mINFO\u001b[39m  System info\u001b[90m {\"apifyVersion\":\"3.4.2\",\"apifyClientVersion\":\"2.12.5\",\"crawleeVersion\":\"3.13.7\",\"osType\":\"Linux\",\"nodeVersion\":\"v20.19.2\"}\u001b[39m\n",
      "\u001b[36m[apify.facebook-pages-scraper runId:1xuqwsliOOAAu19l6]\u001b[0m -> 2025-06-27T16:28:08.853Z \u001b[32mINFO\u001b[39m  Results Limit undefined\n",
      "\u001b[36m[apify.facebook-pages-scraper runId:1xuqwsliOOAAu19l6]\u001b[0m -> 2025-06-27T16:28:08.855Z \u001b[32mINFO\u001b[39m  pushDataMaxAware 363\n",
      "\u001b[36m[apify.facebook-pages-scraper runId:1xuqwsliOOAAu19l6]\u001b[0m -> 2025-06-27T16:28:09.165Z \u001b[32mINFO\u001b[39m \u001b[33m CheerioCrawler:\u001b[39m Using the old RequestQueue implementation without request locking.\n",
      "\u001b[36m[apify.facebook-pages-scraper runId:1xuqwsliOOAAu19l6]\u001b[0m -> Status: RUNNING, Message: Starting the crawler.\n",
      "\u001b[36m[apify.facebook-pages-scraper runId:1xuqwsliOOAAu19l6]\u001b[0m -> 2025-06-27T16:28:09.381Z \u001b[32mINFO\u001b[39m \u001b[33m CheerioCrawler:\u001b[39m Starting the crawler.\n",
      "\u001b[36m[apify.facebook-pages-scraper runId:1xuqwsliOOAAu19l6]\u001b[0m -> 2025-06-27T16:28:13.922Z \u001b[32mINFO\u001b[39m \u001b[33m CheerioCrawler:\u001b[39m All requests from the queue have been processed, the crawler will shut down.\n",
      "\u001b[36m[apify.facebook-pages-scraper runId:1xuqwsliOOAAu19l6]\u001b[0m -> 2025-06-27T16:28:14.006Z \u001b[32mINFO\u001b[39m \u001b[33m CheerioCrawler:\u001b[39m Final request statistics:\u001b[90m {\"requestsFinished\":1,\"requestsFailed\":0,\"retryHistogram\":[1],\"requestAvgFailedDurationMillis\":null,\"requestAvgFinishedDurationMillis\":4425,\"requestsFinishedPerMinute\":12,\"requestsFailedPerMinute\":0,\"requestTotalDurationMillis\":4425,\"requestsTotal\":1,\"crawlerRuntimeMillis\":4843}\u001b[39m\n",
      "\u001b[36m[apify.facebook-pages-scraper runId:1xuqwsliOOAAu19l6]\u001b[0m -> 2025-06-27T16:28:14.008Z \u001b[32mINFO\u001b[39m \u001b[33m CheerioCrawler:\u001b[39m Finished! Total 1 requests: 1 succeeded, 0 failed.\u001b[90m {\"terminal\":true}\u001b[39m\n",
      "\u001b[36m[apify.facebook-pages-scraper runId:1xuqwsliOOAAu19l6]\u001b[0m -> 2025-06-27T16:28:14.049Z \u001b[32mINFO\u001b[39m  *** DONE ***\n",
      "\u001b[36m[apify.facebook-pages-scraper runId:1xuqwsliOOAAu19l6]\u001b[0m -> Status: SUCCEEDED, Message: Finished! Total 1 requests: 1 succeeded, 0 failed.\n"
     ]
    },
    {
     "name": "stdout",
     "output_type": "stream",
     "text": [
      "🔍 Scraping: https://www.facebook.com/AdventureDrivenMediaCo\n"
     ]
    },
    {
     "name": "stderr",
     "output_type": "stream",
     "text": [
      "\u001b[36m[apify.facebook-pages-scraper runId:4RCn9okyWWOXPCIgp]\u001b[0m -> Status: RUNNING, Message: \n",
      "\u001b[36m[apify.facebook-pages-scraper runId:4RCn9okyWWOXPCIgp]\u001b[0m -> 2025-06-27T16:28:22.915Z ACTOR: Pulling Docker image of build fYUy7GidTW8TkhvRK from registry.\n",
      "\u001b[36m[apify.facebook-pages-scraper runId:4RCn9okyWWOXPCIgp]\u001b[0m -> 2025-06-27T16:28:22.917Z ACTOR: Creating Docker container.\n",
      "\u001b[36m[apify.facebook-pages-scraper runId:4RCn9okyWWOXPCIgp]\u001b[0m -> 2025-06-27T16:28:22.975Z ACTOR: Starting Docker container.\n",
      "\u001b[36m[apify.facebook-pages-scraper runId:4RCn9okyWWOXPCIgp]\u001b[0m -> 2025-06-27T16:28:24.558Z \u001b[32mINFO\u001b[39m  System info\u001b[90m {\"apifyVersion\":\"3.4.2\",\"apifyClientVersion\":\"2.12.5\",\"crawleeVersion\":\"3.13.7\",\"osType\":\"Linux\",\"nodeVersion\":\"v20.19.2\"}\u001b[39m\n",
      "\u001b[36m[apify.facebook-pages-scraper runId:4RCn9okyWWOXPCIgp]\u001b[0m -> 2025-06-27T16:28:24.662Z \u001b[32mINFO\u001b[39m  Results Limit undefined\n",
      "\u001b[36m[apify.facebook-pages-scraper runId:4RCn9okyWWOXPCIgp]\u001b[0m -> 2025-06-27T16:28:24.664Z \u001b[32mINFO\u001b[39m  pushDataMaxAware 363\n",
      "\u001b[36m[apify.facebook-pages-scraper runId:4RCn9okyWWOXPCIgp]\u001b[0m -> 2025-06-27T16:28:24.970Z \u001b[32mINFO\u001b[39m \u001b[33m CheerioCrawler:\u001b[39m Using the old RequestQueue implementation without request locking.\n",
      "\u001b[36m[apify.facebook-pages-scraper runId:4RCn9okyWWOXPCIgp]\u001b[0m -> Status: RUNNING, Message: Starting the crawler.\n",
      "\u001b[36m[apify.facebook-pages-scraper runId:4RCn9okyWWOXPCIgp]\u001b[0m -> 2025-06-27T16:28:25.160Z \u001b[32mINFO\u001b[39m \u001b[33m CheerioCrawler:\u001b[39m Starting the crawler.\n",
      "\u001b[36m[apify.facebook-pages-scraper runId:4RCn9okyWWOXPCIgp]\u001b[0m -> 2025-06-27T16:28:35.295Z \u001b[32mINFO\u001b[39m  [PROGRESS]: Found 1 new page details, 1/363 for URL https://www.facebook.com/AdventureDrivenMediaCo\n",
      "\u001b[36m[apify.facebook-pages-scraper runId:4RCn9okyWWOXPCIgp]\u001b[0m -> 2025-06-27T16:28:35.686Z \u001b[32mINFO\u001b[39m \u001b[33m CheerioCrawler:\u001b[39m All requests from the queue have been processed, the crawler will shut down.\n",
      "\u001b[36m[apify.facebook-pages-scraper runId:4RCn9okyWWOXPCIgp]\u001b[0m -> 2025-06-27T16:28:35.811Z \u001b[32mINFO\u001b[39m \u001b[33m CheerioCrawler:\u001b[39m Final request statistics:\u001b[90m {\"requestsFinished\":1,\"requestsFailed\":0,\"retryHistogram\":[1],\"requestAvgFailedDurationMillis\":null,\"requestAvgFinishedDurationMillis\":10316,\"requestsFinishedPerMinute\":6,\"requestsFailedPerMinute\":0,\"requestTotalDurationMillis\":10316,\"requestsTotal\":1,\"crawlerRuntimeMillis\":10842}\u001b[39m\n",
      "\u001b[36m[apify.facebook-pages-scraper runId:4RCn9okyWWOXPCIgp]\u001b[0m -> 2025-06-27T16:28:35.813Z \u001b[32mINFO\u001b[39m \u001b[33m CheerioCrawler:\u001b[39m Finished! Total 1 requests: 1 succeeded, 0 failed.\u001b[90m {\"terminal\":true}\u001b[39m\n",
      "\u001b[36m[apify.facebook-pages-scraper runId:4RCn9okyWWOXPCIgp]\u001b[0m -> 2025-06-27T16:28:35.868Z \u001b[32mINFO\u001b[39m  *** DONE ***\n",
      "\u001b[36m[apify.facebook-pages-scraper runId:4RCn9okyWWOXPCIgp]\u001b[0m -> Status: RUNNING, Message: Finished! Total 1 requests: 1 succeeded, 0 failed.\n"
     ]
    },
    {
     "name": "stdout",
     "output_type": "stream",
     "text": [
      "🔍 Scraping: https://www.facebook.com/GoldenHausSuites\n"
     ]
    },
    {
     "name": "stderr",
     "output_type": "stream",
     "text": [
      "\u001b[36m[apify.facebook-pages-scraper runId:gVU0y4ejTlDREcNip]\u001b[0m -> Status: RUNNING, Message: \n",
      "\u001b[36m[apify.facebook-pages-scraper runId:gVU0y4ejTlDREcNip]\u001b[0m -> 2025-06-27T16:28:44.013Z ACTOR: Pulling Docker image of build fYUy7GidTW8TkhvRK from registry.\n",
      "\u001b[36m[apify.facebook-pages-scraper runId:gVU0y4ejTlDREcNip]\u001b[0m -> 2025-06-27T16:28:44.016Z ACTOR: Creating Docker container.\n",
      "\u001b[36m[apify.facebook-pages-scraper runId:gVU0y4ejTlDREcNip]\u001b[0m -> 2025-06-27T16:28:44.064Z ACTOR: Starting Docker container.\n",
      "\u001b[36m[apify.facebook-pages-scraper runId:gVU0y4ejTlDREcNip]\u001b[0m -> 2025-06-27T16:28:45.730Z \u001b[32mINFO\u001b[39m  System info\u001b[90m {\"apifyVersion\":\"3.4.2\",\"apifyClientVersion\":\"2.12.5\",\"crawleeVersion\":\"3.13.7\",\"osType\":\"Linux\",\"nodeVersion\":\"v20.19.2\"}\u001b[39m\n",
      "\u001b[36m[apify.facebook-pages-scraper runId:gVU0y4ejTlDREcNip]\u001b[0m -> 2025-06-27T16:28:45.858Z \u001b[32mINFO\u001b[39m  Results Limit undefined\n",
      "\u001b[36m[apify.facebook-pages-scraper runId:gVU0y4ejTlDREcNip]\u001b[0m -> 2025-06-27T16:28:45.868Z \u001b[32mINFO\u001b[39m  pushDataMaxAware 363\n",
      "\u001b[36m[apify.facebook-pages-scraper runId:gVU0y4ejTlDREcNip]\u001b[0m -> 2025-06-27T16:28:46.154Z \u001b[32mINFO\u001b[39m \u001b[33m CheerioCrawler:\u001b[39m Using the old RequestQueue implementation without request locking.\n",
      "\u001b[36m[apify.facebook-pages-scraper runId:gVU0y4ejTlDREcNip]\u001b[0m -> Status: RUNNING, Message: Starting the crawler.\n",
      "\u001b[36m[apify.facebook-pages-scraper runId:gVU0y4ejTlDREcNip]\u001b[0m -> 2025-06-27T16:28:46.404Z \u001b[32mINFO\u001b[39m \u001b[33m CheerioCrawler:\u001b[39m Starting the crawler.\n",
      "\u001b[36m[apify.facebook-pages-scraper runId:gVU0y4ejTlDREcNip]\u001b[0m -> 2025-06-27T16:28:50.796Z \u001b[32mINFO\u001b[39m \u001b[33m CheerioCrawler:\u001b[39m All requests from the queue have been processed, the crawler will shut down.\n",
      "\u001b[36m[apify.facebook-pages-scraper runId:gVU0y4ejTlDREcNip]\u001b[0m -> 2025-06-27T16:28:50.943Z \u001b[32mINFO\u001b[39m \u001b[33m CheerioCrawler:\u001b[39m Final request statistics:\u001b[90m {\"requestsFinished\":1,\"requestsFailed\":0,\"retryHistogram\":[1],\"requestAvgFailedDurationMillis\":null,\"requestAvgFinishedDurationMillis\":4207,\"requestsFinishedPerMinute\":13,\"requestsFailedPerMinute\":0,\"requestTotalDurationMillis\":4207,\"requestsTotal\":1,\"crawlerRuntimeMillis\":4789}\u001b[39m\n",
      "\u001b[36m[apify.facebook-pages-scraper runId:gVU0y4ejTlDREcNip]\u001b[0m -> Status: RUNNING, Message: Finished! Total 1 requests: 1 succeeded, 0 failed.\n",
      "\u001b[36m[apify.facebook-pages-scraper runId:gVU0y4ejTlDREcNip]\u001b[0m -> 2025-06-27T16:28:50.945Z \u001b[32mINFO\u001b[39m \u001b[33m CheerioCrawler:\u001b[39m Finished! Total 1 requests: 1 succeeded, 0 failed.\u001b[90m {\"terminal\":true}\u001b[39m\n",
      "\u001b[36m[apify.facebook-pages-scraper runId:gVU0y4ejTlDREcNip]\u001b[0m -> 2025-06-27T16:28:51.065Z \u001b[32mINFO\u001b[39m  *** DONE ***\n"
     ]
    },
    {
     "name": "stdout",
     "output_type": "stream",
     "text": [
      "🔍 Scraping: https://www.facebook.com/Image360\n"
     ]
    },
    {
     "name": "stderr",
     "output_type": "stream",
     "text": [
      "\u001b[36m[apify.facebook-pages-scraper runId:W6Bt0zcWa8Sv46CNd]\u001b[0m -> Status: RUNNING, Message: \n",
      "\u001b[36m[apify.facebook-pages-scraper runId:W6Bt0zcWa8Sv46CNd]\u001b[0m -> 2025-06-27T16:28:58.971Z ACTOR: Pulling Docker image of build fYUy7GidTW8TkhvRK from registry.\n",
      "\u001b[36m[apify.facebook-pages-scraper runId:W6Bt0zcWa8Sv46CNd]\u001b[0m -> 2025-06-27T16:28:58.978Z ACTOR: Creating Docker container.\n",
      "\u001b[36m[apify.facebook-pages-scraper runId:W6Bt0zcWa8Sv46CNd]\u001b[0m -> 2025-06-27T16:28:59.059Z ACTOR: Starting Docker container.\n",
      "\u001b[36m[apify.facebook-pages-scraper runId:W6Bt0zcWa8Sv46CNd]\u001b[0m -> 2025-06-27T16:29:01.046Z \u001b[32mINFO\u001b[39m  System info\u001b[90m {\"apifyVersion\":\"3.4.2\",\"apifyClientVersion\":\"2.12.5\",\"crawleeVersion\":\"3.13.7\",\"osType\":\"Linux\",\"nodeVersion\":\"v20.19.2\"}\u001b[39m\n",
      "\u001b[36m[apify.facebook-pages-scraper runId:W6Bt0zcWa8Sv46CNd]\u001b[0m -> 2025-06-27T16:29:01.265Z \u001b[32mINFO\u001b[39m  Results Limit undefined\n",
      "\u001b[36m[apify.facebook-pages-scraper runId:W6Bt0zcWa8Sv46CNd]\u001b[0m -> 2025-06-27T16:29:01.274Z \u001b[32mINFO\u001b[39m  pushDataMaxAware 363\n",
      "\u001b[36m[apify.facebook-pages-scraper runId:W6Bt0zcWa8Sv46CNd]\u001b[0m -> 2025-06-27T16:29:01.732Z \u001b[32mINFO\u001b[39m \u001b[33m CheerioCrawler:\u001b[39m Using the old RequestQueue implementation without request locking.\n",
      "\u001b[36m[apify.facebook-pages-scraper runId:W6Bt0zcWa8Sv46CNd]\u001b[0m -> Status: RUNNING, Message: Starting the crawler.\n",
      "\u001b[36m[apify.facebook-pages-scraper runId:W6Bt0zcWa8Sv46CNd]\u001b[0m -> Status: RUNNING, Message: Crawled 0/1 pages, 0 failed requests, desired concurrency 10.\n",
      "\u001b[36m[apify.facebook-pages-scraper runId:W6Bt0zcWa8Sv46CNd]\u001b[0m -> 2025-06-27T16:29:01.934Z \u001b[32mINFO\u001b[39m \u001b[33m CheerioCrawler:\u001b[39m Starting the crawler.\n",
      "\u001b[36m[apify.facebook-pages-scraper runId:W6Bt0zcWa8Sv46CNd]\u001b[0m -> 2025-06-27T16:29:15.209Z \u001b[33mWARN\u001b[39m \u001b[33m CheerioCrawler:\u001b[39m Reclaiming failed request back to the list or queue. BLOCKED\n",
      "\u001b[36m[apify.facebook-pages-scraper runId:W6Bt0zcWa8Sv46CNd]\u001b[0m -> 2025-06-27T16:29:15.212Z     at getDetailsByAdditionalRequests (file:///usr/src/app/dist/src/src-facebook-pages/add-sections.js:50:19)\u001b[90m {\"id\":\"7gurCpuWVfMwpaL\",\"url\":\"https://www.facebook.com/Image360\",\"retryCount\":1}\u001b[39m\n",
      "\u001b[36m[apify.facebook-pages-scraper runId:W6Bt0zcWa8Sv46CNd]\u001b[0m -> 2025-06-27T16:29:28.128Z \u001b[32mINFO\u001b[39m  [PROGRESS]: Found 1 new page details, 1/363 for URL https://www.facebook.com/Image360\n",
      "\u001b[36m[apify.facebook-pages-scraper runId:W6Bt0zcWa8Sv46CNd]\u001b[0m -> 2025-06-27T16:29:28.252Z \u001b[32mINFO\u001b[39m \u001b[33m CheerioCrawler:\u001b[39m All requests from the queue have been processed, the crawler will shut down.\n",
      "\u001b[36m[apify.facebook-pages-scraper runId:W6Bt0zcWa8Sv46CNd]\u001b[0m -> 2025-06-27T16:29:28.471Z \u001b[32mINFO\u001b[39m \u001b[33m CheerioCrawler:\u001b[39m Final request statistics:\u001b[90m {\"requestsFinished\":1,\"requestsFailed\":0,\"retryHistogram\":[null,1],\"requestAvgFailedDurationMillis\":null,\"requestAvgFinishedDurationMillis\":9582,\"requestsFinishedPerMinute\":2,\"requestsFailedPerMinute\":0,\"requestTotalDurationMillis\":9582,\"requestsTotal\":1,\"crawlerRuntimeMillis\":26740}\u001b[39m\n",
      "\u001b[36m[apify.facebook-pages-scraper runId:W6Bt0zcWa8Sv46CNd]\u001b[0m -> 2025-06-27T16:29:28.474Z \u001b[32mINFO\u001b[39m \u001b[33m CheerioCrawler:\u001b[39m Finished! Total 1 requests: 1 succeeded, 0 failed.\u001b[90m {\"terminal\":true}\u001b[39m\n",
      "\u001b[36m[apify.facebook-pages-scraper runId:W6Bt0zcWa8Sv46CNd]\u001b[0m -> Status: RUNNING, Message: Finished! Total 1 requests: 1 succeeded, 0 failed.\n",
      "\u001b[36m[apify.facebook-pages-scraper runId:W6Bt0zcWa8Sv46CNd]\u001b[0m -> 2025-06-27T16:29:28.525Z \u001b[32mINFO\u001b[39m  *** DONE ***\n"
     ]
    },
    {
     "name": "stdout",
     "output_type": "stream",
     "text": [
      "🔍 Scraping: https://www.facebook.com/JacobSalem\n"
     ]
    },
    {
     "name": "stderr",
     "output_type": "stream",
     "text": [
      "\u001b[36m[apify.facebook-pages-scraper runId:vhaKUAHgNp5bGDJfW]\u001b[0m -> Status: RUNNING, Message: \n",
      "\u001b[36m[apify.facebook-pages-scraper runId:vhaKUAHgNp5bGDJfW]\u001b[0m -> Status: RUNNING, Message: Starting the crawler.\n",
      "\u001b[36m[apify.facebook-pages-scraper runId:vhaKUAHgNp5bGDJfW]\u001b[0m -> 2025-06-27T16:29:37.183Z ACTOR: Pulling Docker image of build fYUy7GidTW8TkhvRK from registry.\n",
      "\u001b[36m[apify.facebook-pages-scraper runId:vhaKUAHgNp5bGDJfW]\u001b[0m -> 2025-06-27T16:29:37.189Z ACTOR: Creating Docker container.\n",
      "\u001b[36m[apify.facebook-pages-scraper runId:vhaKUAHgNp5bGDJfW]\u001b[0m -> 2025-06-27T16:29:37.232Z ACTOR: Starting Docker container.\n",
      "\u001b[36m[apify.facebook-pages-scraper runId:vhaKUAHgNp5bGDJfW]\u001b[0m -> 2025-06-27T16:29:38.574Z \u001b[32mINFO\u001b[39m  System info\u001b[90m {\"apifyVersion\":\"3.4.2\",\"apifyClientVersion\":\"2.12.5\",\"crawleeVersion\":\"3.13.7\",\"osType\":\"Linux\",\"nodeVersion\":\"v20.19.2\"}\u001b[39m\n",
      "\u001b[36m[apify.facebook-pages-scraper runId:vhaKUAHgNp5bGDJfW]\u001b[0m -> 2025-06-27T16:29:38.706Z \u001b[32mINFO\u001b[39m  Results Limit undefined\n",
      "\u001b[36m[apify.facebook-pages-scraper runId:vhaKUAHgNp5bGDJfW]\u001b[0m -> 2025-06-27T16:29:38.708Z \u001b[32mINFO\u001b[39m  pushDataMaxAware 363\n",
      "\u001b[36m[apify.facebook-pages-scraper runId:vhaKUAHgNp5bGDJfW]\u001b[0m -> 2025-06-27T16:29:38.968Z \u001b[32mINFO\u001b[39m \u001b[33m CheerioCrawler:\u001b[39m Using the old RequestQueue implementation without request locking.\n",
      "\u001b[36m[apify.facebook-pages-scraper runId:vhaKUAHgNp5bGDJfW]\u001b[0m -> Status: RUNNING, Message: Crawled 0/1 pages, 0 failed requests, desired concurrency 10.\n",
      "\u001b[36m[apify.facebook-pages-scraper runId:vhaKUAHgNp5bGDJfW]\u001b[0m -> 2025-06-27T16:29:39.156Z \u001b[32mINFO\u001b[39m \u001b[33m CheerioCrawler:\u001b[39m Starting the crawler.\n",
      "\u001b[36m[apify.facebook-pages-scraper runId:vhaKUAHgNp5bGDJfW]\u001b[0m -> 2025-06-27T16:30:10.355Z \u001b[32mINFO\u001b[39m \u001b[33m CheerioCrawler:\u001b[39m All requests from the queue have been processed, the crawler will shut down.\n",
      "\u001b[36m[apify.facebook-pages-scraper runId:vhaKUAHgNp5bGDJfW]\u001b[0m -> 2025-06-27T16:30:10.421Z \u001b[32mINFO\u001b[39m \u001b[33m CheerioCrawler:\u001b[39m Final request statistics:\u001b[90m {\"requestsFinished\":1,\"requestsFailed\":0,\"retryHistogram\":[1],\"requestAvgFailedDurationMillis\":null,\"requestAvgFinishedDurationMillis\":31102,\"requestsFinishedPerMinute\":2,\"requestsFailedPerMinute\":0,\"requestTotalDurationMillis\":31102,\"requestsTotal\":1,\"crawlerRuntimeMillis\":31453}\u001b[39m\n",
      "\u001b[36m[apify.facebook-pages-scraper runId:vhaKUAHgNp5bGDJfW]\u001b[0m -> 2025-06-27T16:30:10.421Z \u001b[32mINFO\u001b[39m \u001b[33m CheerioCrawler:\u001b[39m Finished! Total 1 requests: 1 succeeded, 0 failed.\u001b[90m {\"terminal\":true}\u001b[39m\n",
      "\u001b[36m[apify.facebook-pages-scraper runId:vhaKUAHgNp5bGDJfW]\u001b[0m -> 2025-06-27T16:30:10.491Z \u001b[32mINFO\u001b[39m  *** DONE ***\n",
      "\u001b[36m[apify.facebook-pages-scraper runId:vhaKUAHgNp5bGDJfW]\u001b[0m -> Status: SUCCEEDED, Message: Finished! Total 1 requests: 1 succeeded, 0 failed.\n"
     ]
    },
    {
     "name": "stdout",
     "output_type": "stream",
     "text": [
      "🔍 Scraping: https://www.facebook.com/GoodReviewService\n"
     ]
    },
    {
     "name": "stderr",
     "output_type": "stream",
     "text": [
      "\u001b[36m[apify.facebook-pages-scraper runId:RERQ0e4BnKTXnsGV1]\u001b[0m -> Status: RUNNING, Message: \n",
      "\u001b[36m[apify.facebook-pages-scraper runId:RERQ0e4BnKTXnsGV1]\u001b[0m -> 2025-06-27T16:30:18.895Z ACTOR: Pulling Docker image of build fYUy7GidTW8TkhvRK from registry.\n",
      "\u001b[36m[apify.facebook-pages-scraper runId:RERQ0e4BnKTXnsGV1]\u001b[0m -> 2025-06-27T16:30:18.896Z ACTOR: Creating Docker container.\n",
      "\u001b[36m[apify.facebook-pages-scraper runId:RERQ0e4BnKTXnsGV1]\u001b[0m -> 2025-06-27T16:30:18.967Z ACTOR: Starting Docker container.\n",
      "\u001b[36m[apify.facebook-pages-scraper runId:RERQ0e4BnKTXnsGV1]\u001b[0m -> 2025-06-27T16:30:20.675Z \u001b[32mINFO\u001b[39m  System info\u001b[90m {\"apifyVersion\":\"3.4.2\",\"apifyClientVersion\":\"2.12.5\",\"crawleeVersion\":\"3.13.7\",\"osType\":\"Linux\",\"nodeVersion\":\"v20.19.2\"}\u001b[39m\n",
      "\u001b[36m[apify.facebook-pages-scraper runId:RERQ0e4BnKTXnsGV1]\u001b[0m -> 2025-06-27T16:30:21.068Z \u001b[32mINFO\u001b[39m  Results Limit undefined\n",
      "\u001b[36m[apify.facebook-pages-scraper runId:RERQ0e4BnKTXnsGV1]\u001b[0m -> 2025-06-27T16:30:21.069Z \u001b[32mINFO\u001b[39m  pushDataMaxAware 355\n",
      "\u001b[36m[apify.facebook-pages-scraper runId:RERQ0e4BnKTXnsGV1]\u001b[0m -> 2025-06-27T16:30:21.471Z \u001b[32mINFO\u001b[39m \u001b[33m CheerioCrawler:\u001b[39m Using the old RequestQueue implementation without request locking.\n",
      "\u001b[36m[apify.facebook-pages-scraper runId:RERQ0e4BnKTXnsGV1]\u001b[0m -> Status: RUNNING, Message: Starting the crawler.\n",
      "\u001b[36m[apify.facebook-pages-scraper runId:RERQ0e4BnKTXnsGV1]\u001b[0m -> Status: RUNNING, Message: Crawled 0/1 pages, 0 failed requests, desired concurrency 10.\n",
      "\u001b[36m[apify.facebook-pages-scraper runId:RERQ0e4BnKTXnsGV1]\u001b[0m -> 2025-06-27T16:30:21.726Z \u001b[32mINFO\u001b[39m \u001b[33m CheerioCrawler:\u001b[39m Starting the crawler.\n",
      "\u001b[36m[apify.facebook-pages-scraper runId:RERQ0e4BnKTXnsGV1]\u001b[0m -> 2025-06-27T16:30:56.880Z \u001b[33mWARN\u001b[39m \u001b[33m CheerioCrawler:\u001b[39m Reclaiming failed request back to the list or queue. BLOCKED\n",
      "\u001b[36m[apify.facebook-pages-scraper runId:RERQ0e4BnKTXnsGV1]\u001b[0m -> 2025-06-27T16:30:56.881Z     at getDetailsByAdditionalRequests (file:///usr/src/app/dist/src/src-facebook-pages/add-sections.js:50:19)\u001b[90m {\"id\":\"n4qGBxRgbtV4Pfx\",\"url\":\"https://www.facebook.com/GoodReviewService\",\"retryCount\":1}\u001b[39m\n",
      "\u001b[36m[apify.facebook-pages-scraper runId:RERQ0e4BnKTXnsGV1]\u001b[0m -> 2025-06-27T16:31:21.727Z \u001b[32mINFO\u001b[39m \u001b[33m CheerioCrawler:Statistics:\u001b[39m CheerioCrawler request statistics:\u001b[90m {\"requestAvgFailedDurationMillis\":null,\"requestAvgFinishedDurationMillis\":null,\"requestsFinishedPerMinute\":0,\"requestsFailedPerMinute\":0,\"requestTotalDurationMillis\":0,\"requestsTotal\":0,\"crawlerRuntimeMillis\":60279,\"retryHistogram\":[]}\u001b[39m\n",
      "\u001b[36m[apify.facebook-pages-scraper runId:RERQ0e4BnKTXnsGV1]\u001b[0m -> 2025-06-27T16:31:21.747Z \u001b[32mINFO\u001b[39m \u001b[33m CheerioCrawler:AutoscaledPool:\u001b[39m state\u001b[90m {\"currentConcurrency\":1,\"desiredConcurrency\":10,\"systemStatus\":{\"isSystemIdle\":true,\"memInfo\":{\"isOverloaded\":false,\"limitRatio\":0.2,\"actualRatio\":0},\"eventLoopInfo\":{\"isOverloaded\":false,\"limitRatio\":0.7,\"actualRatio\":0.088},\"cpuInfo\":{\"isOverloaded\":false,\"limitRatio\":0.4,\"actualRatio\":0.112},\"clientInfo\":{\"isOverloaded\":false,\"limitRatio\":0.3,\"actualRatio\":0}}}\u001b[39m\n",
      "\u001b[36m[apify.facebook-pages-scraper runId:RERQ0e4BnKTXnsGV1]\u001b[0m -> 2025-06-27T16:31:26.208Z \u001b[32mINFO\u001b[39m  [PROGRESS]: Found 1 new page details, 1/355 for URL https://www.facebook.com/GoodReviewService\n",
      "\u001b[36m[apify.facebook-pages-scraper runId:RERQ0e4BnKTXnsGV1]\u001b[0m -> 2025-06-27T16:31:26.398Z \u001b[32mINFO\u001b[39m \u001b[33m CheerioCrawler:\u001b[39m All requests from the queue have been processed, the crawler will shut down.\n",
      "\u001b[36m[apify.facebook-pages-scraper runId:RERQ0e4BnKTXnsGV1]\u001b[0m -> Status: RUNNING, Message: Finished! Total 1 requests: 1 succeeded, 0 failed.\n",
      "\u001b[36m[apify.facebook-pages-scraper runId:RERQ0e4BnKTXnsGV1]\u001b[0m -> 2025-06-27T16:31:26.566Z \u001b[32mINFO\u001b[39m \u001b[33m CheerioCrawler:\u001b[39m Final request statistics:\u001b[90m {\"requestsFinished\":1,\"requestsFailed\":0,\"retryHistogram\":[null,1],\"requestAvgFailedDurationMillis\":null,\"requestAvgFinishedDurationMillis\":26074,\"requestsFinishedPerMinute\":1,\"requestsFailedPerMinute\":0,\"requestTotalDurationMillis\":26074,\"requestsTotal\":1,\"crawlerRuntimeMillis\":65100}\u001b[39m\n",
      "\u001b[36m[apify.facebook-pages-scraper runId:RERQ0e4BnKTXnsGV1]\u001b[0m -> 2025-06-27T16:31:26.586Z \u001b[32mINFO\u001b[39m \u001b[33m CheerioCrawler:\u001b[39m Finished! Total 1 requests: 1 succeeded, 0 failed.\u001b[90m {\"terminal\":true}\u001b[39m\n",
      "\u001b[36m[apify.facebook-pages-scraper runId:RERQ0e4BnKTXnsGV1]\u001b[0m -> 2025-06-27T16:31:26.619Z \u001b[32mINFO\u001b[39m  *** DONE ***\n"
     ]
    },
    {
     "name": "stdout",
     "output_type": "stream",
     "text": [
      "🔍 Scraping: https://www.facebook.com/Nuvée\n"
     ]
    },
    {
     "name": "stderr",
     "output_type": "stream",
     "text": [
      "\u001b[36m[apify.facebook-pages-scraper runId:ayDj8Hls6uBICAh9j]\u001b[0m -> 2025-06-27T16:31:35.007Z ACTOR: Pulling Docker image of build fYUy7GidTW8TkhvRK from registry.\n",
      "\u001b[36m[apify.facebook-pages-scraper runId:ayDj8Hls6uBICAh9j]\u001b[0m -> 2025-06-27T16:31:35.009Z ACTOR: Creating Docker container.\n",
      "\u001b[36m[apify.facebook-pages-scraper runId:ayDj8Hls6uBICAh9j]\u001b[0m -> 2025-06-27T16:31:35.106Z ACTOR: Starting Docker container.\n",
      "\u001b[36m[apify.facebook-pages-scraper runId:ayDj8Hls6uBICAh9j]\u001b[0m -> 2025-06-27T16:31:37.096Z \u001b[32mINFO\u001b[39m  System info\u001b[90m {\"apifyVersion\":\"3.4.2\",\"apifyClientVersion\":\"2.12.5\",\"crawleeVersion\":\"3.13.7\",\"osType\":\"Linux\",\"nodeVersion\":\"v20.19.2\"}\u001b[39m\n",
      "\u001b[36m[apify.facebook-pages-scraper runId:ayDj8Hls6uBICAh9j]\u001b[0m -> 2025-06-27T16:31:37.248Z \u001b[32mINFO\u001b[39m  Results Limit undefined\n",
      "\u001b[36m[apify.facebook-pages-scraper runId:ayDj8Hls6uBICAh9j]\u001b[0m -> Status: RUNNING, Message: \n",
      "\u001b[36m[apify.facebook-pages-scraper runId:ayDj8Hls6uBICAh9j]\u001b[0m -> 2025-06-27T16:31:37.249Z \u001b[32mINFO\u001b[39m  pushDataMaxAware 355\n",
      "\u001b[36m[apify.facebook-pages-scraper runId:ayDj8Hls6uBICAh9j]\u001b[0m -> 2025-06-27T16:31:37.576Z \u001b[32mINFO\u001b[39m \u001b[33m CheerioCrawler:\u001b[39m Using the old RequestQueue implementation without request locking.\n",
      "\u001b[36m[apify.facebook-pages-scraper runId:ayDj8Hls6uBICAh9j]\u001b[0m -> Status: RUNNING, Message: Starting the crawler.\n",
      "\u001b[36m[apify.facebook-pages-scraper runId:ayDj8Hls6uBICAh9j]\u001b[0m -> 2025-06-27T16:31:37.805Z \u001b[32mINFO\u001b[39m \u001b[33m CheerioCrawler:\u001b[39m Starting the crawler.\n",
      "\u001b[36m[apify.facebook-pages-scraper runId:ayDj8Hls6uBICAh9j]\u001b[0m -> 2025-06-27T16:31:41.380Z \u001b[32mINFO\u001b[39m \u001b[33m CheerioCrawler:\u001b[39m All requests from the queue have been processed, the crawler will shut down.\n",
      "\u001b[36m[apify.facebook-pages-scraper runId:ayDj8Hls6uBICAh9j]\u001b[0m -> 2025-06-27T16:31:41.491Z \u001b[32mINFO\u001b[39m \u001b[33m CheerioCrawler:\u001b[39m Final request statistics:\u001b[90m {\"requestsFinished\":1,\"requestsFailed\":0,\"retryHistogram\":[1],\"requestAvgFailedDurationMillis\":null,\"requestAvgFinishedDurationMillis\":3460,\"requestsFinishedPerMinute\":15,\"requestsFailedPerMinute\":0,\"requestTotalDurationMillis\":3460,\"requestsTotal\":1,\"crawlerRuntimeMillis\":3915}\u001b[39m\n",
      "\u001b[36m[apify.facebook-pages-scraper runId:ayDj8Hls6uBICAh9j]\u001b[0m -> 2025-06-27T16:31:41.492Z \u001b[32mINFO\u001b[39m \u001b[33m CheerioCrawler:\u001b[39m Finished! Total 1 requests: 1 succeeded, 0 failed.\u001b[90m {\"terminal\":true}\u001b[39m\n",
      "\u001b[36m[apify.facebook-pages-scraper runId:ayDj8Hls6uBICAh9j]\u001b[0m -> 2025-06-27T16:31:41.551Z \u001b[32mINFO\u001b[39m  *** DONE ***\n",
      "\u001b[36m[apify.facebook-pages-scraper runId:ayDj8Hls6uBICAh9j]\u001b[0m -> Status: SUCCEEDED, Message: Finished! Total 1 requests: 1 succeeded, 0 failed.\n"
     ]
    },
    {
     "name": "stdout",
     "output_type": "stream",
     "text": [
      "🔍 Scraping: https://www.facebook.com/ApexAcquisition\n"
     ]
    },
    {
     "name": "stderr",
     "output_type": "stream",
     "text": [
      "\u001b[36m[apify.facebook-pages-scraper runId:ZOek0215eFueLyD8v]\u001b[0m -> Status: RUNNING, Message: \n",
      "\u001b[36m[apify.facebook-pages-scraper runId:ZOek0215eFueLyD8v]\u001b[0m -> Status: RUNNING, Message: Starting the crawler.\n",
      "\u001b[36m[apify.facebook-pages-scraper runId:ZOek0215eFueLyD8v]\u001b[0m -> 2025-06-27T16:31:49.555Z ACTOR: Pulling Docker image of build fYUy7GidTW8TkhvRK from registry.\n",
      "\u001b[36m[apify.facebook-pages-scraper runId:ZOek0215eFueLyD8v]\u001b[0m -> 2025-06-27T16:31:49.556Z ACTOR: Creating Docker container.\n",
      "\u001b[36m[apify.facebook-pages-scraper runId:ZOek0215eFueLyD8v]\u001b[0m -> 2025-06-27T16:31:49.595Z ACTOR: Starting Docker container.\n",
      "\u001b[36m[apify.facebook-pages-scraper runId:ZOek0215eFueLyD8v]\u001b[0m -> 2025-06-27T16:31:50.930Z \u001b[32mINFO\u001b[39m  System info\u001b[90m {\"apifyVersion\":\"3.4.2\",\"apifyClientVersion\":\"2.12.5\",\"crawleeVersion\":\"3.13.7\",\"osType\":\"Linux\",\"nodeVersion\":\"v20.19.2\"}\u001b[39m\n",
      "\u001b[36m[apify.facebook-pages-scraper runId:ZOek0215eFueLyD8v]\u001b[0m -> 2025-06-27T16:31:51.037Z \u001b[32mINFO\u001b[39m  Results Limit undefined\n",
      "\u001b[36m[apify.facebook-pages-scraper runId:ZOek0215eFueLyD8v]\u001b[0m -> 2025-06-27T16:31:51.038Z \u001b[32mINFO\u001b[39m  pushDataMaxAware 355\n",
      "\u001b[36m[apify.facebook-pages-scraper runId:ZOek0215eFueLyD8v]\u001b[0m -> 2025-06-27T16:31:51.400Z \u001b[32mINFO\u001b[39m \u001b[33m CheerioCrawler:\u001b[39m Using the old RequestQueue implementation without request locking.\n",
      "\u001b[36m[apify.facebook-pages-scraper runId:ZOek0215eFueLyD8v]\u001b[0m -> 2025-06-27T16:31:51.573Z \u001b[32mINFO\u001b[39m \u001b[33m CheerioCrawler:\u001b[39m Starting the crawler.\n",
      "\u001b[36m[apify.facebook-pages-scraper runId:ZOek0215eFueLyD8v]\u001b[0m -> 2025-06-27T16:31:54.008Z \u001b[33mWARN\u001b[39m \u001b[33m CheerioCrawler:\u001b[39m Reclaiming failed request back to the list or queue. Page access was blocked or page is not available, retrying with new session\n",
      "\u001b[36m[apify.facebook-pages-scraper runId:ZOek0215eFueLyD8v]\u001b[0m -> Status: RUNNING, Message: Crawled 0/1 pages, 0 failed requests, desired concurrency 10.\n",
      "\u001b[36m[apify.facebook-pages-scraper runId:ZOek0215eFueLyD8v]\u001b[0m -> 2025-06-27T16:31:54.009Z     at handleFacebookObject (file:///usr/src/app/dist/src/validate-urls-scraper/routes.js:85:15)\u001b[90m {\"id\":\"uX7uw1ldLRLWtke\",\"url\":\"https://www.facebook.com/ApexAcquisition\",\"retryCount\":1}\u001b[39m\n",
      "\u001b[36m[apify.facebook-pages-scraper runId:ZOek0215eFueLyD8v]\u001b[0m -> 2025-06-27T16:32:27.198Z \u001b[33mWARN\u001b[39m \u001b[33m CheerioCrawler:\u001b[39m Reclaiming failed request back to the list or queue. request timed out after 30 seconds.\u001b[90m {\"id\":\"uX7uw1ldLRLWtke\",\"url\":\"https://www.facebook.com/ApexAcquisition\",\"retryCount\":2}\u001b[39m\n",
      "\u001b[36m[apify.facebook-pages-scraper runId:ZOek0215eFueLyD8v]\u001b[0m -> 2025-06-27T16:32:51.577Z \u001b[32mINFO\u001b[39m \u001b[33m CheerioCrawler:Statistics:\u001b[39m CheerioCrawler request statistics:\u001b[90m {\"requestAvgFailedDurationMillis\":null,\"requestAvgFinishedDurationMillis\":null,\"requestsFinishedPerMinute\":0,\"requestsFailedPerMinute\":0,\"requestTotalDurationMillis\":0,\"requestsTotal\":0,\"crawlerRuntimeMillis\":60175,\"retryHistogram\":[]}\u001b[39m\n",
      "\u001b[36m[apify.facebook-pages-scraper runId:ZOek0215eFueLyD8v]\u001b[0m -> 2025-06-27T16:32:51.598Z \u001b[32mINFO\u001b[39m \u001b[33m CheerioCrawler:AutoscaledPool:\u001b[39m state\u001b[90m {\"currentConcurrency\":1,\"desiredConcurrency\":10,\"systemStatus\":{\"isSystemIdle\":true,\"memInfo\":{\"isOverloaded\":false,\"limitRatio\":0.2,\"actualRatio\":0},\"eventLoopInfo\":{\"isOverloaded\":false,\"limitRatio\":0.7,\"actualRatio\":0},\"cpuInfo\":{\"isOverloaded\":false,\"limitRatio\":0.4,\"actualRatio\":0.035},\"clientInfo\":{\"isOverloaded\":false,\"limitRatio\":0.3,\"actualRatio\":0}}}\u001b[39m\n",
      "\u001b[36m[apify.facebook-pages-scraper runId:ZOek0215eFueLyD8v]\u001b[0m -> 2025-06-27T16:33:01.643Z \u001b[32mINFO\u001b[39m  [PROGRESS]: Found 1 new page details, 1/355 for URL https://www.facebook.com/ApexAcquisition\n",
      "\u001b[36m[apify.facebook-pages-scraper runId:ZOek0215eFueLyD8v]\u001b[0m -> 2025-06-27T16:33:01.804Z \u001b[32mINFO\u001b[39m \u001b[33m CheerioCrawler:\u001b[39m All requests from the queue have been processed, the crawler will shut down.\n",
      "\u001b[36m[apify.facebook-pages-scraper runId:ZOek0215eFueLyD8v]\u001b[0m -> 2025-06-27T16:33:01.896Z \u001b[32mINFO\u001b[39m \u001b[33m CheerioCrawler:\u001b[39m Final request statistics:\u001b[90m {\"requestsFinished\":1,\"requestsFailed\":0,\"retryHistogram\":[null,null,1],\"requestAvgFailedDurationMillis\":null,\"requestAvgFinishedDurationMillis\":31347,\"requestsFinishedPerMinute\":1,\"requestsFailedPerMinute\":0,\"requestTotalDurationMillis\":31347,\"requestsTotal\":1,\"crawlerRuntimeMillis\":70497}\u001b[39m\n",
      "\u001b[36m[apify.facebook-pages-scraper runId:ZOek0215eFueLyD8v]\u001b[0m -> 2025-06-27T16:33:01.897Z \u001b[32mINFO\u001b[39m \u001b[33m CheerioCrawler:\u001b[39m Finished! Total 1 requests: 1 succeeded, 0 failed.\u001b[90m {\"terminal\":true}\u001b[39m\n",
      "\u001b[36m[apify.facebook-pages-scraper runId:ZOek0215eFueLyD8v]\u001b[0m -> 2025-06-27T16:33:01.964Z \u001b[32mINFO\u001b[39m  *** DONE ***\n",
      "\u001b[36m[apify.facebook-pages-scraper runId:ZOek0215eFueLyD8v]\u001b[0m -> Status: SUCCEEDED, Message: Finished! Total 1 requests: 1 succeeded, 0 failed.\n"
     ]
    },
    {
     "name": "stdout",
     "output_type": "stream",
     "text": [
      "🔍 Scraping: https://www.facebook.com/JJMerchantSales&Auctions\n"
     ]
    },
    {
     "name": "stderr",
     "output_type": "stream",
     "text": [
      "\u001b[36m[apify.facebook-pages-scraper runId:SxXcojKI0PeWMK5TY]\u001b[0m -> Status: RUNNING, Message: \n",
      "\u001b[36m[apify.facebook-pages-scraper runId:SxXcojKI0PeWMK5TY]\u001b[0m -> Status: RUNNING, Message: Starting the crawler.\n",
      "\u001b[36m[apify.facebook-pages-scraper runId:SxXcojKI0PeWMK5TY]\u001b[0m -> 2025-06-27T16:33:10.472Z ACTOR: Pulling Docker image of build fYUy7GidTW8TkhvRK from registry.\n",
      "\u001b[36m[apify.facebook-pages-scraper runId:SxXcojKI0PeWMK5TY]\u001b[0m -> 2025-06-27T16:33:10.473Z ACTOR: Creating Docker container.\n",
      "\u001b[36m[apify.facebook-pages-scraper runId:SxXcojKI0PeWMK5TY]\u001b[0m -> 2025-06-27T16:33:10.543Z ACTOR: Starting Docker container.\n",
      "\u001b[36m[apify.facebook-pages-scraper runId:SxXcojKI0PeWMK5TY]\u001b[0m -> 2025-06-27T16:33:12.252Z \u001b[32mINFO\u001b[39m  System info\u001b[90m {\"apifyVersion\":\"3.4.2\",\"apifyClientVersion\":\"2.12.5\",\"crawleeVersion\":\"3.13.7\",\"osType\":\"Linux\",\"nodeVersion\":\"v20.19.2\"}\u001b[39m\n",
      "\u001b[36m[apify.facebook-pages-scraper runId:SxXcojKI0PeWMK5TY]\u001b[0m -> 2025-06-27T16:33:12.352Z \u001b[32mINFO\u001b[39m  Results Limit undefined\n",
      "\u001b[36m[apify.facebook-pages-scraper runId:SxXcojKI0PeWMK5TY]\u001b[0m -> 2025-06-27T16:33:12.354Z \u001b[32mINFO\u001b[39m  pushDataMaxAware 355\n",
      "\u001b[36m[apify.facebook-pages-scraper runId:SxXcojKI0PeWMK5TY]\u001b[0m -> 2025-06-27T16:33:12.716Z \u001b[32mINFO\u001b[39m \u001b[33m CheerioCrawler:\u001b[39m Using the old RequestQueue implementation without request locking.\n",
      "\u001b[36m[apify.facebook-pages-scraper runId:SxXcojKI0PeWMK5TY]\u001b[0m -> 2025-06-27T16:33:12.919Z \u001b[32mINFO\u001b[39m \u001b[33m CheerioCrawler:\u001b[39m Starting the crawler.\n",
      "\u001b[36m[apify.facebook-pages-scraper runId:SxXcojKI0PeWMK5TY]\u001b[0m -> 2025-06-27T16:33:15.591Z \u001b[32mINFO\u001b[39m \u001b[33m CheerioCrawler:\u001b[39m All requests from the queue have been processed, the crawler will shut down.\n",
      "\u001b[36m[apify.facebook-pages-scraper runId:SxXcojKI0PeWMK5TY]\u001b[0m -> 2025-06-27T16:33:15.665Z \u001b[32mINFO\u001b[39m \u001b[33m CheerioCrawler:\u001b[39m Final request statistics:\u001b[90m {\"requestsFinished\":1,\"requestsFailed\":0,\"retryHistogram\":[1],\"requestAvgFailedDurationMillis\":null,\"requestAvgFinishedDurationMillis\":2563,\"requestsFinishedPerMinute\":20,\"requestsFailedPerMinute\":0,\"requestTotalDurationMillis\":2563,\"requestsTotal\":1,\"crawlerRuntimeMillis\":2949}\u001b[39m\n",
      "\u001b[36m[apify.facebook-pages-scraper runId:SxXcojKI0PeWMK5TY]\u001b[0m -> 2025-06-27T16:33:15.667Z \u001b[32mINFO\u001b[39m \u001b[33m CheerioCrawler:\u001b[39m Finished! Total 1 requests: 1 succeeded, 0 failed.\u001b[90m {\"terminal\":true}\u001b[39m\n",
      "\u001b[36m[apify.facebook-pages-scraper runId:SxXcojKI0PeWMK5TY]\u001b[0m -> Status: RUNNING, Message: Finished! Total 1 requests: 1 succeeded, 0 failed.\n",
      "\u001b[36m[apify.facebook-pages-scraper runId:SxXcojKI0PeWMK5TY]\u001b[0m -> 2025-06-27T16:33:15.722Z \u001b[32mINFO\u001b[39m  *** DONE ***\n"
     ]
    },
    {
     "name": "stdout",
     "output_type": "stream",
     "text": [
      "🔍 Scraping: https://www.facebook.com/DesignLogicAgency\n"
     ]
    },
    {
     "name": "stderr",
     "output_type": "stream",
     "text": [
      "\u001b[36m[apify.facebook-pages-scraper runId:hMBSDGLm8WLYCDCJG]\u001b[0m -> Status: RUNNING, Message: \n",
      "\u001b[36m[apify.facebook-pages-scraper runId:hMBSDGLm8WLYCDCJG]\u001b[0m -> Status: RUNNING, Message: Starting the crawler.\n",
      "\u001b[36m[apify.facebook-pages-scraper runId:hMBSDGLm8WLYCDCJG]\u001b[0m -> 2025-06-27T16:33:24.287Z ACTOR: Pulling Docker image of build fYUy7GidTW8TkhvRK from registry.\n",
      "\u001b[36m[apify.facebook-pages-scraper runId:hMBSDGLm8WLYCDCJG]\u001b[0m -> 2025-06-27T16:33:24.289Z ACTOR: Creating Docker container.\n",
      "\u001b[36m[apify.facebook-pages-scraper runId:hMBSDGLm8WLYCDCJG]\u001b[0m -> 2025-06-27T16:33:24.327Z ACTOR: Starting Docker container.\n",
      "\u001b[36m[apify.facebook-pages-scraper runId:hMBSDGLm8WLYCDCJG]\u001b[0m -> 2025-06-27T16:33:25.659Z \u001b[32mINFO\u001b[39m  System info\u001b[90m {\"apifyVersion\":\"3.4.2\",\"apifyClientVersion\":\"2.12.5\",\"crawleeVersion\":\"3.13.7\",\"osType\":\"Linux\",\"nodeVersion\":\"v20.19.2\"}\u001b[39m\n",
      "\u001b[36m[apify.facebook-pages-scraper runId:hMBSDGLm8WLYCDCJG]\u001b[0m -> 2025-06-27T16:33:25.782Z \u001b[32mINFO\u001b[39m  Results Limit undefined\n",
      "\u001b[36m[apify.facebook-pages-scraper runId:hMBSDGLm8WLYCDCJG]\u001b[0m -> 2025-06-27T16:33:25.790Z \u001b[32mINFO\u001b[39m  pushDataMaxAware 355\n",
      "\u001b[36m[apify.facebook-pages-scraper runId:hMBSDGLm8WLYCDCJG]\u001b[0m -> 2025-06-27T16:33:26.060Z \u001b[32mINFO\u001b[39m \u001b[33m CheerioCrawler:\u001b[39m Using the old RequestQueue implementation without request locking.\n",
      "\u001b[36m[apify.facebook-pages-scraper runId:hMBSDGLm8WLYCDCJG]\u001b[0m -> 2025-06-27T16:33:26.221Z \u001b[32mINFO\u001b[39m \u001b[33m CheerioCrawler:\u001b[39m Starting the crawler.\n",
      "\u001b[36m[apify.facebook-pages-scraper runId:hMBSDGLm8WLYCDCJG]\u001b[0m -> 2025-06-27T16:33:29.988Z \u001b[32mINFO\u001b[39m \u001b[33m CheerioCrawler:\u001b[39m All requests from the queue have been processed, the crawler will shut down.\n",
      "\u001b[36m[apify.facebook-pages-scraper runId:hMBSDGLm8WLYCDCJG]\u001b[0m -> 2025-06-27T16:33:30.138Z \u001b[32mINFO\u001b[39m \u001b[33m CheerioCrawler:\u001b[39m Final request statistics:\u001b[90m {\"requestsFinished\":1,\"requestsFailed\":0,\"retryHistogram\":[1],\"requestAvgFailedDurationMillis\":null,\"requestAvgFinishedDurationMillis\":3675,\"requestsFinishedPerMinute\":15,\"requestsFailedPerMinute\":0,\"requestTotalDurationMillis\":3675,\"requestsTotal\":1,\"crawlerRuntimeMillis\":4055}\u001b[39m\n",
      "\u001b[36m[apify.facebook-pages-scraper runId:hMBSDGLm8WLYCDCJG]\u001b[0m -> 2025-06-27T16:33:30.153Z \u001b[32mINFO\u001b[39m \u001b[33m CheerioCrawler:\u001b[39m Finished! Total 1 requests: 1 succeeded, 0 failed.\u001b[90m {\"terminal\":true}\u001b[39m\n",
      "\u001b[36m[apify.facebook-pages-scraper runId:hMBSDGLm8WLYCDCJG]\u001b[0m -> 2025-06-27T16:33:30.189Z \u001b[32mINFO\u001b[39m  *** DONE ***\n",
      "\u001b[36m[apify.facebook-pages-scraper runId:hMBSDGLm8WLYCDCJG]\u001b[0m -> Status: SUCCEEDED, Message: Finished! Total 1 requests: 1 succeeded, 0 failed.\n"
     ]
    },
    {
     "name": "stdout",
     "output_type": "stream",
     "text": [
      "🔍 Scraping: https://www.facebook.com/EstheticianMarketing-MarketingWithMeg\n"
     ]
    },
    {
     "name": "stderr",
     "output_type": "stream",
     "text": [
      "\u001b[36m[apify.facebook-pages-scraper runId:TFKrqZZWVZ3Srvi2A]\u001b[0m -> Status: RUNNING, Message: \n",
      "\u001b[36m[apify.facebook-pages-scraper runId:TFKrqZZWVZ3Srvi2A]\u001b[0m -> 2025-06-27T16:33:38.241Z ACTOR: Pulling Docker image of build fYUy7GidTW8TkhvRK from registry.\n",
      "\u001b[36m[apify.facebook-pages-scraper runId:TFKrqZZWVZ3Srvi2A]\u001b[0m -> 2025-06-27T16:33:38.242Z ACTOR: Creating Docker container.\n",
      "\u001b[36m[apify.facebook-pages-scraper runId:TFKrqZZWVZ3Srvi2A]\u001b[0m -> 2025-06-27T16:33:38.329Z ACTOR: Starting Docker container.\n",
      "\u001b[36m[apify.facebook-pages-scraper runId:TFKrqZZWVZ3Srvi2A]\u001b[0m -> 2025-06-27T16:33:39.845Z \u001b[32mINFO\u001b[39m  System info\u001b[90m {\"apifyVersion\":\"3.4.2\",\"apifyClientVersion\":\"2.12.5\",\"crawleeVersion\":\"3.13.7\",\"osType\":\"Linux\",\"nodeVersion\":\"v20.19.2\"}\u001b[39m\n",
      "\u001b[36m[apify.facebook-pages-scraper runId:TFKrqZZWVZ3Srvi2A]\u001b[0m -> 2025-06-27T16:33:40.017Z \u001b[32mINFO\u001b[39m  Results Limit undefined\n",
      "\u001b[36m[apify.facebook-pages-scraper runId:TFKrqZZWVZ3Srvi2A]\u001b[0m -> 2025-06-27T16:33:40.018Z \u001b[32mINFO\u001b[39m  pushDataMaxAware 355\n",
      "\u001b[36m[apify.facebook-pages-scraper runId:TFKrqZZWVZ3Srvi2A]\u001b[0m -> 2025-06-27T16:33:40.379Z \u001b[32mINFO\u001b[39m \u001b[33m CheerioCrawler:\u001b[39m Using the old RequestQueue implementation without request locking.\n",
      "\u001b[36m[apify.facebook-pages-scraper runId:TFKrqZZWVZ3Srvi2A]\u001b[0m -> Status: RUNNING, Message: Starting the crawler.\n",
      "\u001b[36m[apify.facebook-pages-scraper runId:TFKrqZZWVZ3Srvi2A]\u001b[0m -> 2025-06-27T16:33:40.610Z \u001b[32mINFO\u001b[39m \u001b[33m CheerioCrawler:\u001b[39m Starting the crawler.\n",
      "\u001b[36m[apify.facebook-pages-scraper runId:TFKrqZZWVZ3Srvi2A]\u001b[0m -> 2025-06-27T16:33:43.894Z \u001b[32mINFO\u001b[39m \u001b[33m CheerioCrawler:\u001b[39m All requests from the queue have been processed, the crawler will shut down.\n",
      "\u001b[36m[apify.facebook-pages-scraper runId:TFKrqZZWVZ3Srvi2A]\u001b[0m -> 2025-06-27T16:33:43.968Z \u001b[32mINFO\u001b[39m \u001b[33m CheerioCrawler:\u001b[39m Final request statistics:\u001b[90m {\"requestsFinished\":1,\"requestsFailed\":0,\"retryHistogram\":[1],\"requestAvgFailedDurationMillis\":null,\"requestAvgFinishedDurationMillis\":3178,\"requestsFinishedPerMinute\":17,\"requestsFailedPerMinute\":0,\"requestTotalDurationMillis\":3178,\"requestsTotal\":1,\"crawlerRuntimeMillis\":3589}\u001b[39m\n",
      "\u001b[36m[apify.facebook-pages-scraper runId:TFKrqZZWVZ3Srvi2A]\u001b[0m -> 2025-06-27T16:33:43.969Z \u001b[32mINFO\u001b[39m \u001b[33m CheerioCrawler:\u001b[39m Finished! Total 1 requests: 1 succeeded, 0 failed.\u001b[90m {\"terminal\":true}\u001b[39m\n",
      "\u001b[36m[apify.facebook-pages-scraper runId:TFKrqZZWVZ3Srvi2A]\u001b[0m -> Status: RUNNING, Message: Finished! Total 1 requests: 1 succeeded, 0 failed.\n",
      "\u001b[36m[apify.facebook-pages-scraper runId:TFKrqZZWVZ3Srvi2A]\u001b[0m -> 2025-06-27T16:33:44.024Z \u001b[32mINFO\u001b[39m  *** DONE ***\n"
     ]
    },
    {
     "name": "stdout",
     "output_type": "stream",
     "text": [
      "🔍 Scraping: https://www.facebook.com/RiseMarketing\n"
     ]
    },
    {
     "name": "stderr",
     "output_type": "stream",
     "text": [
      "\u001b[36m[apify.facebook-pages-scraper runId:XP2UhmeJS4VQcZ9qP]\u001b[0m -> Status: RUNNING, Message: \n",
      "\u001b[36m[apify.facebook-pages-scraper runId:XP2UhmeJS4VQcZ9qP]\u001b[0m -> 2025-06-27T16:33:52.283Z ACTOR: Pulling Docker image of build fYUy7GidTW8TkhvRK from registry.\n",
      "\u001b[36m[apify.facebook-pages-scraper runId:XP2UhmeJS4VQcZ9qP]\u001b[0m -> 2025-06-27T16:33:52.284Z ACTOR: Creating Docker container.\n",
      "\u001b[36m[apify.facebook-pages-scraper runId:XP2UhmeJS4VQcZ9qP]\u001b[0m -> Status: RUNNING, Message: Starting the crawler.\n",
      "\u001b[36m[apify.facebook-pages-scraper runId:XP2UhmeJS4VQcZ9qP]\u001b[0m -> 2025-06-27T16:33:52.426Z ACTOR: Starting Docker container.\n",
      "\u001b[36m[apify.facebook-pages-scraper runId:XP2UhmeJS4VQcZ9qP]\u001b[0m -> 2025-06-27T16:33:54.077Z \u001b[32mINFO\u001b[39m  System info\u001b[90m {\"apifyVersion\":\"3.4.2\",\"apifyClientVersion\":\"2.12.5\",\"crawleeVersion\":\"3.13.7\",\"osType\":\"Linux\",\"nodeVersion\":\"v20.19.2\"}\u001b[39m\n",
      "\u001b[36m[apify.facebook-pages-scraper runId:XP2UhmeJS4VQcZ9qP]\u001b[0m -> 2025-06-27T16:33:54.191Z \u001b[32mINFO\u001b[39m  Results Limit undefined\n",
      "\u001b[36m[apify.facebook-pages-scraper runId:XP2UhmeJS4VQcZ9qP]\u001b[0m -> 2025-06-27T16:33:54.192Z \u001b[32mINFO\u001b[39m  pushDataMaxAware 355\n",
      "\u001b[36m[apify.facebook-pages-scraper runId:XP2UhmeJS4VQcZ9qP]\u001b[0m -> 2025-06-27T16:33:54.458Z \u001b[32mINFO\u001b[39m \u001b[33m CheerioCrawler:\u001b[39m Using the old RequestQueue implementation without request locking.\n",
      "\u001b[36m[apify.facebook-pages-scraper runId:XP2UhmeJS4VQcZ9qP]\u001b[0m -> 2025-06-27T16:33:54.600Z \u001b[32mINFO\u001b[39m \u001b[33m CheerioCrawler:\u001b[39m Starting the crawler.\n",
      "\u001b[36m[apify.facebook-pages-scraper runId:XP2UhmeJS4VQcZ9qP]\u001b[0m -> 2025-06-27T16:33:59.723Z \u001b[32mINFO\u001b[39m \u001b[33m CheerioCrawler:\u001b[39m All requests from the queue have been processed, the crawler will shut down.\n",
      "\u001b[36m[apify.facebook-pages-scraper runId:XP2UhmeJS4VQcZ9qP]\u001b[0m -> 2025-06-27T16:33:59.859Z \u001b[32mINFO\u001b[39m \u001b[33m CheerioCrawler:\u001b[39m Final request statistics:\u001b[90m {\"requestsFinished\":1,\"requestsFailed\":0,\"retryHistogram\":[1],\"requestAvgFailedDurationMillis\":null,\"requestAvgFinishedDurationMillis\":4977,\"requestsFinishedPerMinute\":11,\"requestsFailedPerMinute\":0,\"requestTotalDurationMillis\":4977,\"requestsTotal\":1,\"crawlerRuntimeMillis\":5402}\u001b[39m\n",
      "\u001b[36m[apify.facebook-pages-scraper runId:XP2UhmeJS4VQcZ9qP]\u001b[0m -> 2025-06-27T16:33:59.860Z \u001b[32mINFO\u001b[39m \u001b[33m CheerioCrawler:\u001b[39m Finished! Total 1 requests: 1 succeeded, 0 failed.\u001b[90m {\"terminal\":true}\u001b[39m\n",
      "\u001b[36m[apify.facebook-pages-scraper runId:XP2UhmeJS4VQcZ9qP]\u001b[0m -> 2025-06-27T16:33:59.922Z \u001b[32mINFO\u001b[39m  *** DONE ***\n",
      "\u001b[36m[apify.facebook-pages-scraper runId:XP2UhmeJS4VQcZ9qP]\u001b[0m -> Status: SUCCEEDED, Message: Finished! Total 1 requests: 1 succeeded, 0 failed.\n"
     ]
    },
    {
     "name": "stdout",
     "output_type": "stream",
     "text": [
      "🔍 Scraping: https://www.facebook.com/GenTechMarketing\n"
     ]
    },
    {
     "name": "stderr",
     "output_type": "stream",
     "text": [
      "\u001b[36m[apify.facebook-pages-scraper runId:p9CsoKOgot1apcYF1]\u001b[0m -> Status: RUNNING, Message: \n",
      "\u001b[36m[apify.facebook-pages-scraper runId:p9CsoKOgot1apcYF1]\u001b[0m -> Status: RUNNING, Message: Starting the crawler.\n",
      "\u001b[36m[apify.facebook-pages-scraper runId:p9CsoKOgot1apcYF1]\u001b[0m -> 2025-06-27T16:34:09.108Z ACTOR: Pulling Docker image of build fYUy7GidTW8TkhvRK from registry.\n",
      "\u001b[36m[apify.facebook-pages-scraper runId:p9CsoKOgot1apcYF1]\u001b[0m -> 2025-06-27T16:34:09.111Z ACTOR: Creating Docker container.\n",
      "\u001b[36m[apify.facebook-pages-scraper runId:p9CsoKOgot1apcYF1]\u001b[0m -> 2025-06-27T16:34:09.163Z ACTOR: Starting Docker container.\n",
      "\u001b[36m[apify.facebook-pages-scraper runId:p9CsoKOgot1apcYF1]\u001b[0m -> 2025-06-27T16:34:10.783Z \u001b[32mINFO\u001b[39m  System info\u001b[90m {\"apifyVersion\":\"3.4.2\",\"apifyClientVersion\":\"2.12.5\",\"crawleeVersion\":\"3.13.7\",\"osType\":\"Linux\",\"nodeVersion\":\"v20.19.2\"}\u001b[39m\n",
      "\u001b[36m[apify.facebook-pages-scraper runId:p9CsoKOgot1apcYF1]\u001b[0m -> 2025-06-27T16:34:10.916Z \u001b[32mINFO\u001b[39m  Results Limit undefined\n",
      "\u001b[36m[apify.facebook-pages-scraper runId:p9CsoKOgot1apcYF1]\u001b[0m -> 2025-06-27T16:34:10.919Z \u001b[32mINFO\u001b[39m  pushDataMaxAware 355\n",
      "\u001b[36m[apify.facebook-pages-scraper runId:p9CsoKOgot1apcYF1]\u001b[0m -> 2025-06-27T16:34:11.222Z \u001b[32mINFO\u001b[39m \u001b[33m CheerioCrawler:\u001b[39m Using the old RequestQueue implementation without request locking.\n",
      "\u001b[36m[apify.facebook-pages-scraper runId:p9CsoKOgot1apcYF1]\u001b[0m -> Status: RUNNING, Message: Crawled 0/1 pages, 0 failed requests, desired concurrency 10.\n",
      "\u001b[36m[apify.facebook-pages-scraper runId:p9CsoKOgot1apcYF1]\u001b[0m -> 2025-06-27T16:34:11.488Z \u001b[32mINFO\u001b[39m \u001b[33m CheerioCrawler:\u001b[39m Starting the crawler.\n",
      "\u001b[36m[apify.facebook-pages-scraper runId:p9CsoKOgot1apcYF1]\u001b[0m -> 2025-06-27T16:34:25.840Z \u001b[32mINFO\u001b[39m  [PROGRESS]: Found 1 new page details, 1/355 for URL https://www.facebook.com/GenTechMarketing\n",
      "\u001b[36m[apify.facebook-pages-scraper runId:p9CsoKOgot1apcYF1]\u001b[0m -> 2025-06-27T16:34:25.964Z \u001b[32mINFO\u001b[39m \u001b[33m CheerioCrawler:\u001b[39m All requests from the queue have been processed, the crawler will shut down.\n",
      "\u001b[36m[apify.facebook-pages-scraper runId:p9CsoKOgot1apcYF1]\u001b[0m -> 2025-06-27T16:34:26.076Z \u001b[32mINFO\u001b[39m \u001b[33m CheerioCrawler:\u001b[39m Final request statistics:\u001b[90m {\"requestsFinished\":1,\"requestsFailed\":0,\"retryHistogram\":[1],\"requestAvgFailedDurationMillis\":null,\"requestAvgFinishedDurationMillis\":14374,\"requestsFinishedPerMinute\":4,\"requestsFailedPerMinute\":0,\"requestTotalDurationMillis\":14374,\"requestsTotal\":1,\"crawlerRuntimeMillis\":14855}\u001b[39m\n",
      "\u001b[36m[apify.facebook-pages-scraper runId:p9CsoKOgot1apcYF1]\u001b[0m -> 2025-06-27T16:34:26.078Z \u001b[32mINFO\u001b[39m \u001b[33m CheerioCrawler:\u001b[39m Finished! Total 1 requests: 1 succeeded, 0 failed.\u001b[90m {\"terminal\":true}\u001b[39m\n",
      "\u001b[36m[apify.facebook-pages-scraper runId:p9CsoKOgot1apcYF1]\u001b[0m -> Status: RUNNING, Message: Finished! Total 1 requests: 1 succeeded, 0 failed.\n",
      "\u001b[36m[apify.facebook-pages-scraper runId:p9CsoKOgot1apcYF1]\u001b[0m -> 2025-06-27T16:34:26.201Z \u001b[32mINFO\u001b[39m  *** DONE ***\n"
     ]
    },
    {
     "name": "stdout",
     "output_type": "stream",
     "text": [
      "🔍 Scraping: https://www.facebook.com/SmartAgents\n"
     ]
    },
    {
     "name": "stderr",
     "output_type": "stream",
     "text": [
      "\u001b[36m[apify.facebook-pages-scraper runId:vHjcTHvlf7kdYA9c6]\u001b[0m -> Status: RUNNING, Message: Starting the crawler.\n",
      "\u001b[36m[apify.facebook-pages-scraper runId:vHjcTHvlf7kdYA9c6]\u001b[0m -> 2025-06-27T16:34:35.955Z ACTOR: Pulling Docker image of build fYUy7GidTW8TkhvRK from registry.\n",
      "\u001b[36m[apify.facebook-pages-scraper runId:vHjcTHvlf7kdYA9c6]\u001b[0m -> 2025-06-27T16:34:35.957Z ACTOR: Creating Docker container.\n",
      "\u001b[36m[apify.facebook-pages-scraper runId:vHjcTHvlf7kdYA9c6]\u001b[0m -> 2025-06-27T16:34:36.048Z ACTOR: Starting Docker container.\n",
      "\u001b[36m[apify.facebook-pages-scraper runId:vHjcTHvlf7kdYA9c6]\u001b[0m -> 2025-06-27T16:34:37.660Z \u001b[32mINFO\u001b[39m  System info\u001b[90m {\"apifyVersion\":\"3.4.2\",\"apifyClientVersion\":\"2.12.5\",\"crawleeVersion\":\"3.13.7\",\"osType\":\"Linux\",\"nodeVersion\":\"v20.19.2\"}\u001b[39m\n",
      "\u001b[36m[apify.facebook-pages-scraper runId:vHjcTHvlf7kdYA9c6]\u001b[0m -> 2025-06-27T16:34:37.805Z \u001b[32mINFO\u001b[39m  Results Limit undefined\n",
      "\u001b[36m[apify.facebook-pages-scraper runId:vHjcTHvlf7kdYA9c6]\u001b[0m -> 2025-06-27T16:34:37.807Z \u001b[32mINFO\u001b[39m  pushDataMaxAware 355\n",
      "\u001b[36m[apify.facebook-pages-scraper runId:vHjcTHvlf7kdYA9c6]\u001b[0m -> 2025-06-27T16:34:38.093Z \u001b[32mINFO\u001b[39m \u001b[33m CheerioCrawler:\u001b[39m Using the old RequestQueue implementation without request locking.\n",
      "\u001b[36m[apify.facebook-pages-scraper runId:vHjcTHvlf7kdYA9c6]\u001b[0m -> 2025-06-27T16:34:38.288Z \u001b[32mINFO\u001b[39m \u001b[33m CheerioCrawler:\u001b[39m Starting the crawler.\n",
      "\u001b[36m[apify.facebook-pages-scraper runId:vHjcTHvlf7kdYA9c6]\u001b[0m -> Status: RUNNING, Message: Crawled 0/1 pages, 0 failed requests, desired concurrency 10.\n",
      "\u001b[36m[apify.facebook-pages-scraper runId:vHjcTHvlf7kdYA9c6]\u001b[0m -> 2025-06-27T16:34:49.939Z \u001b[32mINFO\u001b[39m  [PROGRESS]: Found 1 new page details, 1/355 for URL https://www.facebook.com/SmartAgents\n",
      "\u001b[36m[apify.facebook-pages-scraper runId:vHjcTHvlf7kdYA9c6]\u001b[0m -> 2025-06-27T16:34:50.578Z \u001b[32mINFO\u001b[39m \u001b[33m CheerioCrawler:\u001b[39m All requests from the queue have been processed, the crawler will shut down.\n",
      "\u001b[36m[apify.facebook-pages-scraper runId:vHjcTHvlf7kdYA9c6]\u001b[0m -> 2025-06-27T16:34:50.781Z \u001b[32mINFO\u001b[39m \u001b[33m CheerioCrawler:\u001b[39m Final request statistics:\u001b[90m {\"requestsFinished\":1,\"requestsFailed\":0,\"retryHistogram\":[1],\"requestAvgFailedDurationMillis\":null,\"requestAvgFinishedDurationMillis\":12170,\"requestsFinishedPerMinute\":5,\"requestsFailedPerMinute\":0,\"requestTotalDurationMillis\":12170,\"requestsTotal\":1,\"crawlerRuntimeMillis\":12688}\u001b[39m\n",
      "\u001b[36m[apify.facebook-pages-scraper runId:vHjcTHvlf7kdYA9c6]\u001b[0m -> 2025-06-27T16:34:50.784Z \u001b[32mINFO\u001b[39m \u001b[33m CheerioCrawler:\u001b[39m Finished! Total 1 requests: 1 succeeded, 0 failed.\u001b[90m {\"terminal\":true}\u001b[39m\n",
      "\u001b[36m[apify.facebook-pages-scraper runId:vHjcTHvlf7kdYA9c6]\u001b[0m -> 2025-06-27T16:34:50.897Z \u001b[32mINFO\u001b[39m  *** DONE ***\n",
      "\u001b[36m[apify.facebook-pages-scraper runId:vHjcTHvlf7kdYA9c6]\u001b[0m -> Status: SUCCEEDED, Message: Finished! Total 1 requests: 1 succeeded, 0 failed.\n"
     ]
    },
    {
     "name": "stdout",
     "output_type": "stream",
     "text": [
      "🔍 Scraping: https://www.facebook.com/Alvllak-Ads&MarketingExperts\n"
     ]
    },
    {
     "name": "stderr",
     "output_type": "stream",
     "text": [
      "\u001b[36m[apify.facebook-pages-scraper runId:o2lg6qtqUbrKp2qtO]\u001b[0m -> Status: RUNNING, Message: \n",
      "\u001b[36m[apify.facebook-pages-scraper runId:o2lg6qtqUbrKp2qtO]\u001b[0m -> 2025-06-27T16:35:00.565Z ACTOR: Pulling Docker image of build fYUy7GidTW8TkhvRK from registry.\n",
      "\u001b[36m[apify.facebook-pages-scraper runId:o2lg6qtqUbrKp2qtO]\u001b[0m -> 2025-06-27T16:35:00.567Z ACTOR: Creating Docker container.\n",
      "\u001b[36m[apify.facebook-pages-scraper runId:o2lg6qtqUbrKp2qtO]\u001b[0m -> 2025-06-27T16:35:00.809Z ACTOR: Starting Docker container.\n",
      "\u001b[36m[apify.facebook-pages-scraper runId:o2lg6qtqUbrKp2qtO]\u001b[0m -> 2025-06-27T16:35:02.403Z \u001b[32mINFO\u001b[39m  System info\u001b[90m {\"apifyVersion\":\"3.4.2\",\"apifyClientVersion\":\"2.12.5\",\"crawleeVersion\":\"3.13.7\",\"osType\":\"Linux\",\"nodeVersion\":\"v20.19.2\"}\u001b[39m\n",
      "\u001b[36m[apify.facebook-pages-scraper runId:o2lg6qtqUbrKp2qtO]\u001b[0m -> 2025-06-27T16:35:02.539Z \u001b[32mINFO\u001b[39m  Results Limit undefined\n",
      "\u001b[36m[apify.facebook-pages-scraper runId:o2lg6qtqUbrKp2qtO]\u001b[0m -> 2025-06-27T16:35:02.543Z \u001b[32mINFO\u001b[39m  pushDataMaxAware 355\n",
      "\u001b[36m[apify.facebook-pages-scraper runId:o2lg6qtqUbrKp2qtO]\u001b[0m -> 2025-06-27T16:35:02.886Z \u001b[32mINFO\u001b[39m \u001b[33m CheerioCrawler:\u001b[39m Using the old RequestQueue implementation without request locking.\n",
      "\u001b[36m[apify.facebook-pages-scraper runId:o2lg6qtqUbrKp2qtO]\u001b[0m -> Status: RUNNING, Message: Starting the crawler.\n",
      "\u001b[36m[apify.facebook-pages-scraper runId:o2lg6qtqUbrKp2qtO]\u001b[0m -> 2025-06-27T16:35:03.078Z \u001b[32mINFO\u001b[39m \u001b[33m CheerioCrawler:\u001b[39m Starting the crawler.\n",
      "\u001b[36m[apify.facebook-pages-scraper runId:o2lg6qtqUbrKp2qtO]\u001b[0m -> 2025-06-27T16:35:06.568Z \u001b[32mINFO\u001b[39m \u001b[33m CheerioCrawler:\u001b[39m All requests from the queue have been processed, the crawler will shut down.\n",
      "\u001b[36m[apify.facebook-pages-scraper runId:o2lg6qtqUbrKp2qtO]\u001b[0m -> 2025-06-27T16:35:06.640Z \u001b[32mINFO\u001b[39m \u001b[33m CheerioCrawler:\u001b[39m Final request statistics:\u001b[90m {\"requestsFinished\":1,\"requestsFailed\":0,\"retryHistogram\":[1],\"requestAvgFailedDurationMillis\":null,\"requestAvgFinishedDurationMillis\":3359,\"requestsFinishedPerMinute\":16,\"requestsFailedPerMinute\":0,\"requestTotalDurationMillis\":3359,\"requestsTotal\":1,\"crawlerRuntimeMillis\":3755}\u001b[39m\n",
      "\u001b[36m[apify.facebook-pages-scraper runId:o2lg6qtqUbrKp2qtO]\u001b[0m -> 2025-06-27T16:35:06.642Z \u001b[32mINFO\u001b[39m \u001b[33m CheerioCrawler:\u001b[39m Finished! Total 1 requests: 1 succeeded, 0 failed.\u001b[90m {\"terminal\":true}\u001b[39m\n",
      "\u001b[36m[apify.facebook-pages-scraper runId:o2lg6qtqUbrKp2qtO]\u001b[0m -> 2025-06-27T16:35:06.686Z \u001b[32mINFO\u001b[39m  *** DONE ***\n",
      "\u001b[36m[apify.facebook-pages-scraper runId:o2lg6qtqUbrKp2qtO]\u001b[0m -> Status: SUCCEEDED, Message: Finished! Total 1 requests: 1 succeeded, 0 failed.\n"
     ]
    },
    {
     "name": "stdout",
     "output_type": "stream",
     "text": [
      "🔍 Scraping: https://www.facebook.com/SushiyaPrimeAllYouCanEat\n"
     ]
    },
    {
     "name": "stderr",
     "output_type": "stream",
     "text": [
      "\u001b[36m[apify.facebook-pages-scraper runId:XRP6I9DwdkHx1q5Oh]\u001b[0m -> Status: RUNNING, Message: \n",
      "\u001b[36m[apify.facebook-pages-scraper runId:XRP6I9DwdkHx1q5Oh]\u001b[0m -> Status: RUNNING, Message: Starting the crawler.\n",
      "\u001b[36m[apify.facebook-pages-scraper runId:XRP6I9DwdkHx1q5Oh]\u001b[0m -> 2025-06-27T16:35:15.420Z ACTOR: Pulling Docker image of build fYUy7GidTW8TkhvRK from registry.\n",
      "\u001b[36m[apify.facebook-pages-scraper runId:XRP6I9DwdkHx1q5Oh]\u001b[0m -> 2025-06-27T16:35:15.421Z ACTOR: Creating Docker container.\n",
      "\u001b[36m[apify.facebook-pages-scraper runId:XRP6I9DwdkHx1q5Oh]\u001b[0m -> 2025-06-27T16:35:15.575Z ACTOR: Starting Docker container.\n",
      "\u001b[36m[apify.facebook-pages-scraper runId:XRP6I9DwdkHx1q5Oh]\u001b[0m -> 2025-06-27T16:35:17.592Z \u001b[32mINFO\u001b[39m  System info\u001b[90m {\"apifyVersion\":\"3.4.2\",\"apifyClientVersion\":\"2.12.5\",\"crawleeVersion\":\"3.13.7\",\"osType\":\"Linux\",\"nodeVersion\":\"v20.19.2\"}\u001b[39m\n",
      "\u001b[36m[apify.facebook-pages-scraper runId:XRP6I9DwdkHx1q5Oh]\u001b[0m -> 2025-06-27T16:35:17.705Z \u001b[32mINFO\u001b[39m  Results Limit undefined\n",
      "\u001b[36m[apify.facebook-pages-scraper runId:XRP6I9DwdkHx1q5Oh]\u001b[0m -> 2025-06-27T16:35:17.706Z \u001b[32mINFO\u001b[39m  pushDataMaxAware 355\n",
      "\u001b[36m[apify.facebook-pages-scraper runId:XRP6I9DwdkHx1q5Oh]\u001b[0m -> 2025-06-27T16:35:18.091Z \u001b[32mINFO\u001b[39m \u001b[33m CheerioCrawler:\u001b[39m Using the old RequestQueue implementation without request locking.\n",
      "\u001b[36m[apify.facebook-pages-scraper runId:XRP6I9DwdkHx1q5Oh]\u001b[0m -> 2025-06-27T16:35:18.324Z \u001b[32mINFO\u001b[39m \u001b[33m CheerioCrawler:\u001b[39m Starting the crawler.\n",
      "\u001b[36m[apify.facebook-pages-scraper runId:XRP6I9DwdkHx1q5Oh]\u001b[0m -> 2025-06-27T16:35:22.928Z \u001b[33mWARN\u001b[39m \u001b[33m CheerioCrawler:\u001b[39m Reclaiming failed request back to the list or queue. Page access was blocked or page is not available, retrying with new session\n",
      "\u001b[36m[apify.facebook-pages-scraper runId:XRP6I9DwdkHx1q5Oh]\u001b[0m -> Status: RUNNING, Message: Crawled 0/1 pages, 0 failed requests, desired concurrency 10.\n",
      "\u001b[36m[apify.facebook-pages-scraper runId:XRP6I9DwdkHx1q5Oh]\u001b[0m -> 2025-06-27T16:35:22.929Z     at handleFacebookObject (file:///usr/src/app/dist/src/validate-urls-scraper/routes.js:85:15)\u001b[90m {\"id\":\"4vy58rFNsVn0S4H\",\"url\":\"https://www.facebook.com/SushiyaPrimeAllYouCanEat\",\"retryCount\":1}\u001b[39m\n",
      "\u001b[36m[apify.facebook-pages-scraper runId:XRP6I9DwdkHx1q5Oh]\u001b[0m -> 2025-06-27T16:35:31.151Z \u001b[32mINFO\u001b[39m \u001b[33m CheerioCrawler:\u001b[39m All requests from the queue have been processed, the crawler will shut down.\n",
      "\u001b[36m[apify.facebook-pages-scraper runId:XRP6I9DwdkHx1q5Oh]\u001b[0m -> 2025-06-27T16:35:31.247Z \u001b[32mINFO\u001b[39m \u001b[33m CheerioCrawler:\u001b[39m Final request statistics:\u001b[90m {\"requestsFinished\":1,\"requestsFailed\":0,\"retryHistogram\":[null,1],\"requestAvgFailedDurationMillis\":null,\"requestAvgFinishedDurationMillis\":4769,\"requestsFinishedPerMinute\":5,\"requestsFailedPerMinute\":0,\"requestTotalDurationMillis\":4769,\"requestsTotal\":1,\"crawlerRuntimeMillis\":13158}\u001b[39m\n",
      "\u001b[36m[apify.facebook-pages-scraper runId:XRP6I9DwdkHx1q5Oh]\u001b[0m -> 2025-06-27T16:35:31.249Z \u001b[32mINFO\u001b[39m \u001b[33m CheerioCrawler:\u001b[39m Finished! Total 1 requests: 1 succeeded, 0 failed.\u001b[90m {\"terminal\":true}\u001b[39m\n",
      "\u001b[36m[apify.facebook-pages-scraper runId:XRP6I9DwdkHx1q5Oh]\u001b[0m -> 2025-06-27T16:35:31.344Z \u001b[32mINFO\u001b[39m  *** DONE ***\n",
      "\u001b[36m[apify.facebook-pages-scraper runId:XRP6I9DwdkHx1q5Oh]\u001b[0m -> Status: SUCCEEDED, Message: Finished! Total 1 requests: 1 succeeded, 0 failed.\n"
     ]
    },
    {
     "name": "stdout",
     "output_type": "stream",
     "text": [
      "🔍 Scraping: https://www.facebook.com/Dominguezhandymanllc\n"
     ]
    },
    {
     "name": "stderr",
     "output_type": "stream",
     "text": [
      "\u001b[36m[apify.facebook-pages-scraper runId:8m1e5YArO9gCpmfEC]\u001b[0m -> Status: RUNNING, Message: \n",
      "\u001b[36m[apify.facebook-pages-scraper runId:8m1e5YArO9gCpmfEC]\u001b[0m -> 2025-06-27T16:35:40.805Z ACTOR: Pulling Docker image of build fYUy7GidTW8TkhvRK from registry.\n",
      "\u001b[36m[apify.facebook-pages-scraper runId:8m1e5YArO9gCpmfEC]\u001b[0m -> 2025-06-27T16:35:40.840Z ACTOR: Creating Docker container.\n",
      "\u001b[36m[apify.facebook-pages-scraper runId:8m1e5YArO9gCpmfEC]\u001b[0m -> 2025-06-27T16:35:40.912Z ACTOR: Starting Docker container.\n",
      "\u001b[36m[apify.facebook-pages-scraper runId:8m1e5YArO9gCpmfEC]\u001b[0m -> 2025-06-27T16:35:42.681Z \u001b[32mINFO\u001b[39m  System info\u001b[90m {\"apifyVersion\":\"3.4.2\",\"apifyClientVersion\":\"2.12.5\",\"crawleeVersion\":\"3.13.7\",\"osType\":\"Linux\",\"nodeVersion\":\"v20.19.2\"}\u001b[39m\n",
      "\u001b[36m[apify.facebook-pages-scraper runId:8m1e5YArO9gCpmfEC]\u001b[0m -> 2025-06-27T16:35:42.827Z \u001b[32mINFO\u001b[39m  Results Limit undefined\n",
      "\u001b[36m[apify.facebook-pages-scraper runId:8m1e5YArO9gCpmfEC]\u001b[0m -> 2025-06-27T16:35:42.828Z \u001b[32mINFO\u001b[39m  pushDataMaxAware 355\n",
      "\u001b[36m[apify.facebook-pages-scraper runId:8m1e5YArO9gCpmfEC]\u001b[0m -> 2025-06-27T16:35:43.242Z \u001b[32mINFO\u001b[39m \u001b[33m CheerioCrawler:\u001b[39m Using the old RequestQueue implementation without request locking.\n",
      "\u001b[36m[apify.facebook-pages-scraper runId:8m1e5YArO9gCpmfEC]\u001b[0m -> Status: RUNNING, Message: Starting the crawler.\n",
      "\u001b[36m[apify.facebook-pages-scraper runId:8m1e5YArO9gCpmfEC]\u001b[0m -> 2025-06-27T16:35:43.418Z \u001b[32mINFO\u001b[39m \u001b[33m CheerioCrawler:\u001b[39m Starting the crawler.\n",
      "\u001b[36m[apify.facebook-pages-scraper runId:8m1e5YArO9gCpmfEC]\u001b[0m -> 2025-06-27T16:35:52.323Z \u001b[32mINFO\u001b[39m \u001b[33m CheerioCrawler:\u001b[39m All requests from the queue have been processed, the crawler will shut down.\n",
      "\u001b[36m[apify.facebook-pages-scraper runId:8m1e5YArO9gCpmfEC]\u001b[0m -> 2025-06-27T16:35:52.514Z \u001b[32mINFO\u001b[39m \u001b[33m CheerioCrawler:\u001b[39m Final request statistics:\u001b[90m {\"requestsFinished\":1,\"requestsFailed\":0,\"retryHistogram\":[1],\"requestAvgFailedDurationMillis\":null,\"requestAvgFinishedDurationMillis\":8793,\"requestsFinishedPerMinute\":6,\"requestsFailedPerMinute\":0,\"requestTotalDurationMillis\":8793,\"requestsTotal\":1,\"crawlerRuntimeMillis\":9273}\u001b[39m\n",
      "\u001b[36m[apify.facebook-pages-scraper runId:8m1e5YArO9gCpmfEC]\u001b[0m -> 2025-06-27T16:35:52.515Z \u001b[32mINFO\u001b[39m \u001b[33m CheerioCrawler:\u001b[39m Finished! Total 1 requests: 1 succeeded, 0 failed.\u001b[90m {\"terminal\":true}\u001b[39m\n",
      "\u001b[36m[apify.facebook-pages-scraper runId:8m1e5YArO9gCpmfEC]\u001b[0m -> 2025-06-27T16:35:52.579Z \u001b[32mINFO\u001b[39m  *** DONE ***\n",
      "\u001b[36m[apify.facebook-pages-scraper runId:8m1e5YArO9gCpmfEC]\u001b[0m -> Status: SUCCEEDED, Message: Finished! Total 1 requests: 1 succeeded, 0 failed.\n"
     ]
    },
    {
     "name": "stdout",
     "output_type": "stream",
     "text": [
      "🔍 Scraping: https://www.facebook.com/MossMarketingGroup\n"
     ]
    },
    {
     "name": "stderr",
     "output_type": "stream",
     "text": [
      "\u001b[36m[apify.facebook-pages-scraper runId:XQPfIAYImEhzxXd8D]\u001b[0m -> Status: RUNNING, Message: \n",
      "\u001b[36m[apify.facebook-pages-scraper runId:XQPfIAYImEhzxXd8D]\u001b[0m -> 2025-06-27T16:36:01.784Z ACTOR: Pulling Docker image of build fYUy7GidTW8TkhvRK from registry.\n",
      "\u001b[36m[apify.facebook-pages-scraper runId:XQPfIAYImEhzxXd8D]\u001b[0m -> 2025-06-27T16:36:01.793Z ACTOR: Creating Docker container.\n",
      "\u001b[36m[apify.facebook-pages-scraper runId:XQPfIAYImEhzxXd8D]\u001b[0m -> 2025-06-27T16:36:01.826Z ACTOR: Starting Docker container.\n",
      "\u001b[36m[apify.facebook-pages-scraper runId:XQPfIAYImEhzxXd8D]\u001b[0m -> 2025-06-27T16:36:03.470Z \u001b[32mINFO\u001b[39m  System info\u001b[90m {\"apifyVersion\":\"3.4.2\",\"apifyClientVersion\":\"2.12.5\",\"crawleeVersion\":\"3.13.7\",\"osType\":\"Linux\",\"nodeVersion\":\"v20.19.2\"}\u001b[39m\n",
      "\u001b[36m[apify.facebook-pages-scraper runId:XQPfIAYImEhzxXd8D]\u001b[0m -> 2025-06-27T16:36:03.586Z \u001b[32mINFO\u001b[39m  Results Limit undefined\n",
      "\u001b[36m[apify.facebook-pages-scraper runId:XQPfIAYImEhzxXd8D]\u001b[0m -> 2025-06-27T16:36:03.587Z \u001b[32mINFO\u001b[39m  pushDataMaxAware 355\n",
      "\u001b[36m[apify.facebook-pages-scraper runId:XQPfIAYImEhzxXd8D]\u001b[0m -> 2025-06-27T16:36:03.903Z \u001b[32mINFO\u001b[39m \u001b[33m CheerioCrawler:\u001b[39m Using the old RequestQueue implementation without request locking.\n",
      "\u001b[36m[apify.facebook-pages-scraper runId:XQPfIAYImEhzxXd8D]\u001b[0m -> Status: RUNNING, Message: Starting the crawler.\n",
      "\u001b[36m[apify.facebook-pages-scraper runId:XQPfIAYImEhzxXd8D]\u001b[0m -> Status: RUNNING, Message: Crawled 0/1 pages, 0 failed requests, desired concurrency 10.\n",
      "\u001b[36m[apify.facebook-pages-scraper runId:XQPfIAYImEhzxXd8D]\u001b[0m -> 2025-06-27T16:36:04.228Z \u001b[32mINFO\u001b[39m \u001b[33m CheerioCrawler:\u001b[39m Starting the crawler.\n",
      "\u001b[36m[apify.facebook-pages-scraper runId:XQPfIAYImEhzxXd8D]\u001b[0m -> 2025-06-27T16:36:27.324Z \u001b[32mINFO\u001b[39m  [PROGRESS]: Found 1 new page details, 1/355 for URL https://www.facebook.com/MossMarketingGroup\n",
      "\u001b[36m[apify.facebook-pages-scraper runId:XQPfIAYImEhzxXd8D]\u001b[0m -> 2025-06-27T16:36:27.567Z \u001b[32mINFO\u001b[39m \u001b[33m CheerioCrawler:\u001b[39m All requests from the queue have been processed, the crawler will shut down.\n",
      "\u001b[36m[apify.facebook-pages-scraper runId:XQPfIAYImEhzxXd8D]\u001b[0m -> 2025-06-27T16:36:27.684Z \u001b[32mINFO\u001b[39m \u001b[33m CheerioCrawler:\u001b[39m Final request statistics:\u001b[90m {\"requestsFinished\":1,\"requestsFailed\":0,\"retryHistogram\":[1],\"requestAvgFailedDurationMillis\":null,\"requestAvgFinishedDurationMillis\":23227,\"requestsFinishedPerMinute\":3,\"requestsFailedPerMinute\":0,\"requestTotalDurationMillis\":23227,\"requestsTotal\":1,\"crawlerRuntimeMillis\":23781}\u001b[39m\n",
      "\u001b[36m[apify.facebook-pages-scraper runId:XQPfIAYImEhzxXd8D]\u001b[0m -> Status: RUNNING, Message: Finished! Total 1 requests: 1 succeeded, 0 failed.\n",
      "\u001b[36m[apify.facebook-pages-scraper runId:XQPfIAYImEhzxXd8D]\u001b[0m -> 2025-06-27T16:36:27.685Z \u001b[32mINFO\u001b[39m \u001b[33m CheerioCrawler:\u001b[39m Finished! Total 1 requests: 1 succeeded, 0 failed.\u001b[90m {\"terminal\":true}\u001b[39m\n",
      "\u001b[36m[apify.facebook-pages-scraper runId:XQPfIAYImEhzxXd8D]\u001b[0m -> 2025-06-27T16:36:27.732Z \u001b[32mINFO\u001b[39m  *** DONE ***\n"
     ]
    },
    {
     "name": "stdout",
     "output_type": "stream",
     "text": [
      "🔍 Scraping: https://www.facebook.com/Marvin'sMailers\n"
     ]
    },
    {
     "name": "stderr",
     "output_type": "stream",
     "text": [
      "\u001b[36m[apify.facebook-pages-scraper runId:PSkuU9YVlMIaAb5aI]\u001b[0m -> Status: RUNNING, Message: \n",
      "\u001b[36m[apify.facebook-pages-scraper runId:PSkuU9YVlMIaAb5aI]\u001b[0m -> Status: RUNNING, Message: Starting the crawler.\n",
      "\u001b[36m[apify.facebook-pages-scraper runId:PSkuU9YVlMIaAb5aI]\u001b[0m -> 2025-06-27T16:36:36.261Z ACTOR: Pulling Docker image of build fYUy7GidTW8TkhvRK from registry.\n",
      "\u001b[36m[apify.facebook-pages-scraper runId:PSkuU9YVlMIaAb5aI]\u001b[0m -> 2025-06-27T16:36:36.268Z ACTOR: Creating Docker container.\n",
      "\u001b[36m[apify.facebook-pages-scraper runId:PSkuU9YVlMIaAb5aI]\u001b[0m -> 2025-06-27T16:36:36.314Z ACTOR: Starting Docker container.\n",
      "\u001b[36m[apify.facebook-pages-scraper runId:PSkuU9YVlMIaAb5aI]\u001b[0m -> 2025-06-27T16:36:37.895Z \u001b[32mINFO\u001b[39m  System info\u001b[90m {\"apifyVersion\":\"3.4.2\",\"apifyClientVersion\":\"2.12.5\",\"crawleeVersion\":\"3.13.7\",\"osType\":\"Linux\",\"nodeVersion\":\"v20.19.2\"}\u001b[39m\n",
      "\u001b[36m[apify.facebook-pages-scraper runId:PSkuU9YVlMIaAb5aI]\u001b[0m -> 2025-06-27T16:36:38.000Z \u001b[32mINFO\u001b[39m  Results Limit undefined\n",
      "\u001b[36m[apify.facebook-pages-scraper runId:PSkuU9YVlMIaAb5aI]\u001b[0m -> 2025-06-27T16:36:38.004Z \u001b[32mINFO\u001b[39m  pushDataMaxAware 355\n",
      "\u001b[36m[apify.facebook-pages-scraper runId:PSkuU9YVlMIaAb5aI]\u001b[0m -> 2025-06-27T16:36:38.365Z \u001b[32mINFO\u001b[39m \u001b[33m CheerioCrawler:\u001b[39m Using the old RequestQueue implementation without request locking.\n",
      "\u001b[36m[apify.facebook-pages-scraper runId:PSkuU9YVlMIaAb5aI]\u001b[0m -> 2025-06-27T16:36:38.552Z \u001b[32mINFO\u001b[39m \u001b[33m CheerioCrawler:\u001b[39m Starting the crawler.\n",
      "\u001b[36m[apify.facebook-pages-scraper runId:PSkuU9YVlMIaAb5aI]\u001b[0m -> 2025-06-27T16:36:41.656Z \u001b[32mINFO\u001b[39m \u001b[33m CheerioCrawler:\u001b[39m All requests from the queue have been processed, the crawler will shut down.\n",
      "\u001b[36m[apify.facebook-pages-scraper runId:PSkuU9YVlMIaAb5aI]\u001b[0m -> 2025-06-27T16:36:41.854Z \u001b[32mINFO\u001b[39m \u001b[33m CheerioCrawler:\u001b[39m Final request statistics:\u001b[90m {\"requestsFinished\":1,\"requestsFailed\":0,\"retryHistogram\":[1],\"requestAvgFailedDurationMillis\":null,\"requestAvgFinishedDurationMillis\":2992,\"requestsFinishedPerMinute\":17,\"requestsFailedPerMinute\":0,\"requestTotalDurationMillis\":2992,\"requestsTotal\":1,\"crawlerRuntimeMillis\":3490}\u001b[39m\n",
      "\u001b[36m[apify.facebook-pages-scraper runId:PSkuU9YVlMIaAb5aI]\u001b[0m -> 2025-06-27T16:36:41.856Z \u001b[32mINFO\u001b[39m \u001b[33m CheerioCrawler:\u001b[39m Finished! Total 1 requests: 1 succeeded, 0 failed.\u001b[90m {\"terminal\":true}\u001b[39m\n",
      "\u001b[36m[apify.facebook-pages-scraper runId:PSkuU9YVlMIaAb5aI]\u001b[0m -> Status: RUNNING, Message: Finished! Total 1 requests: 1 succeeded, 0 failed.\n",
      "\u001b[36m[apify.facebook-pages-scraper runId:PSkuU9YVlMIaAb5aI]\u001b[0m -> 2025-06-27T16:36:41.935Z \u001b[32mINFO\u001b[39m  *** DONE ***\n"
     ]
    },
    {
     "name": "stdout",
     "output_type": "stream",
     "text": [
      "🔍 Scraping: https://www.facebook.com/VibrantVisionsMarketingLLC\n"
     ]
    },
    {
     "name": "stderr",
     "output_type": "stream",
     "text": [
      "\u001b[36m[apify.facebook-pages-scraper runId:4iCbMMqgG7dhneghn]\u001b[0m -> Status: RUNNING, Message: \n",
      "\u001b[36m[apify.facebook-pages-scraper runId:4iCbMMqgG7dhneghn]\u001b[0m -> 2025-06-27T16:36:50.039Z ACTOR: Pulling Docker image of build fYUy7GidTW8TkhvRK from registry.\n",
      "\u001b[36m[apify.facebook-pages-scraper runId:4iCbMMqgG7dhneghn]\u001b[0m -> 2025-06-27T16:36:50.040Z ACTOR: Creating Docker container.\n",
      "\u001b[36m[apify.facebook-pages-scraper runId:4iCbMMqgG7dhneghn]\u001b[0m -> 2025-06-27T16:36:50.087Z ACTOR: Starting Docker container.\n",
      "\u001b[36m[apify.facebook-pages-scraper runId:4iCbMMqgG7dhneghn]\u001b[0m -> 2025-06-27T16:36:52.134Z \u001b[32mINFO\u001b[39m  System info\u001b[90m {\"apifyVersion\":\"3.4.2\",\"apifyClientVersion\":\"2.12.5\",\"crawleeVersion\":\"3.13.7\",\"osType\":\"Linux\",\"nodeVersion\":\"v20.19.2\"}\u001b[39m\n",
      "\u001b[36m[apify.facebook-pages-scraper runId:4iCbMMqgG7dhneghn]\u001b[0m -> 2025-06-27T16:36:52.315Z \u001b[32mINFO\u001b[39m  Results Limit undefined\n",
      "\u001b[36m[apify.facebook-pages-scraper runId:4iCbMMqgG7dhneghn]\u001b[0m -> 2025-06-27T16:36:52.316Z \u001b[32mINFO\u001b[39m  pushDataMaxAware 355\n",
      "\u001b[36m[apify.facebook-pages-scraper runId:4iCbMMqgG7dhneghn]\u001b[0m -> 2025-06-27T16:36:52.803Z \u001b[32mINFO\u001b[39m \u001b[33m CheerioCrawler:\u001b[39m Using the old RequestQueue implementation without request locking.\n",
      "\u001b[36m[apify.facebook-pages-scraper runId:4iCbMMqgG7dhneghn]\u001b[0m -> Status: RUNNING, Message: Starting the crawler.\n",
      "\u001b[36m[apify.facebook-pages-scraper runId:4iCbMMqgG7dhneghn]\u001b[0m -> 2025-06-27T16:36:53.056Z \u001b[32mINFO\u001b[39m \u001b[33m CheerioCrawler:\u001b[39m Starting the crawler.\n",
      "\u001b[36m[apify.facebook-pages-scraper runId:4iCbMMqgG7dhneghn]\u001b[0m -> 2025-06-27T16:36:56.418Z \u001b[32mINFO\u001b[39m \u001b[33m CheerioCrawler:\u001b[39m All requests from the queue have been processed, the crawler will shut down.\n",
      "\u001b[36m[apify.facebook-pages-scraper runId:4iCbMMqgG7dhneghn]\u001b[0m -> 2025-06-27T16:36:56.502Z \u001b[32mINFO\u001b[39m \u001b[33m CheerioCrawler:\u001b[39m Final request statistics:\u001b[90m {\"requestsFinished\":1,\"requestsFailed\":0,\"retryHistogram\":[1],\"requestAvgFailedDurationMillis\":null,\"requestAvgFinishedDurationMillis\":3259,\"requestsFinishedPerMinute\":16,\"requestsFailedPerMinute\":0,\"requestTotalDurationMillis\":3259,\"requestsTotal\":1,\"crawlerRuntimeMillis\":3699}\u001b[39m\n",
      "\u001b[36m[apify.facebook-pages-scraper runId:4iCbMMqgG7dhneghn]\u001b[0m -> 2025-06-27T16:36:56.503Z \u001b[32mINFO\u001b[39m \u001b[33m CheerioCrawler:\u001b[39m Finished! Total 1 requests: 1 succeeded, 0 failed.\u001b[90m {\"terminal\":true}\u001b[39m\n",
      "\u001b[36m[apify.facebook-pages-scraper runId:4iCbMMqgG7dhneghn]\u001b[0m -> 2025-06-27T16:36:56.619Z \u001b[32mINFO\u001b[39m  *** DONE ***\n",
      "\u001b[36m[apify.facebook-pages-scraper runId:4iCbMMqgG7dhneghn]\u001b[0m -> Status: SUCCEEDED, Message: Finished! Total 1 requests: 1 succeeded, 0 failed.\n"
     ]
    },
    {
     "name": "stdout",
     "output_type": "stream",
     "text": [
      "🔍 Scraping: https://www.facebook.com/FacteurPR\n"
     ]
    },
    {
     "name": "stderr",
     "output_type": "stream",
     "text": [
      "\u001b[36m[apify.facebook-pages-scraper runId:412qOmKIoUKsERefT]\u001b[0m -> Status: RUNNING, Message: \n",
      "\u001b[36m[apify.facebook-pages-scraper runId:412qOmKIoUKsERefT]\u001b[0m -> 2025-06-27T16:37:04.996Z ACTOR: Pulling Docker image of build fYUy7GidTW8TkhvRK from registry.\n",
      "\u001b[36m[apify.facebook-pages-scraper runId:412qOmKIoUKsERefT]\u001b[0m -> 2025-06-27T16:37:04.997Z ACTOR: Creating Docker container.\n",
      "\u001b[36m[apify.facebook-pages-scraper runId:412qOmKIoUKsERefT]\u001b[0m -> 2025-06-27T16:37:05.046Z ACTOR: Starting Docker container.\n",
      "\u001b[36m[apify.facebook-pages-scraper runId:412qOmKIoUKsERefT]\u001b[0m -> 2025-06-27T16:37:06.623Z \u001b[32mINFO\u001b[39m  System info\u001b[90m {\"apifyVersion\":\"3.4.2\",\"apifyClientVersion\":\"2.12.5\",\"crawleeVersion\":\"3.13.7\",\"osType\":\"Linux\",\"nodeVersion\":\"v20.19.2\"}\u001b[39m\n",
      "\u001b[36m[apify.facebook-pages-scraper runId:412qOmKIoUKsERefT]\u001b[0m -> 2025-06-27T16:37:06.803Z \u001b[32mINFO\u001b[39m  Results Limit undefined\n",
      "\u001b[36m[apify.facebook-pages-scraper runId:412qOmKIoUKsERefT]\u001b[0m -> 2025-06-27T16:37:06.804Z \u001b[32mINFO\u001b[39m  pushDataMaxAware 343\n",
      "\u001b[36m[apify.facebook-pages-scraper runId:412qOmKIoUKsERefT]\u001b[0m -> 2025-06-27T16:37:07.126Z \u001b[32mINFO\u001b[39m \u001b[33m CheerioCrawler:\u001b[39m Using the old RequestQueue implementation without request locking.\n",
      "\u001b[36m[apify.facebook-pages-scraper runId:412qOmKIoUKsERefT]\u001b[0m -> 2025-06-27T16:37:07.465Z \u001b[32mINFO\u001b[39m \u001b[33m CheerioCrawler:\u001b[39m Starting the crawler.\n",
      "\u001b[36m[apify.facebook-pages-scraper runId:412qOmKIoUKsERefT]\u001b[0m -> 2025-06-27T16:37:09.169Z \u001b[33mWARN\u001b[39m \u001b[33m CheerioCrawler:\u001b[39m Reclaiming failed request back to the list or queue. Page access was blocked or page is not available, retrying with new session\n",
      "\u001b[36m[apify.facebook-pages-scraper runId:412qOmKIoUKsERefT]\u001b[0m -> Status: RUNNING, Message: Starting the crawler.\n",
      "\u001b[36m[apify.facebook-pages-scraper runId:412qOmKIoUKsERefT]\u001b[0m -> Status: RUNNING, Message: Crawled 0/1 pages, 0 failed requests, desired concurrency 10.\n",
      "\u001b[36m[apify.facebook-pages-scraper runId:412qOmKIoUKsERefT]\u001b[0m -> 2025-06-27T16:37:09.173Z     at handleFacebookObject (file:///usr/src/app/dist/src/validate-urls-scraper/routes.js:85:15)\u001b[90m {\"id\":\"jmlbYnVTRbar4C5\",\"url\":\"https://www.facebook.com/FacteurPR\",\"retryCount\":1}\u001b[39m\n",
      "\u001b[36m[apify.facebook-pages-scraper runId:412qOmKIoUKsERefT]\u001b[0m -> 2025-06-27T16:37:26.984Z \u001b[32mINFO\u001b[39m  [PROGRESS]: Found 1 new page details, 1/343 for URL https://www.facebook.com/FacteurPR\n",
      "\u001b[36m[apify.facebook-pages-scraper runId:412qOmKIoUKsERefT]\u001b[0m -> 2025-06-27T16:37:27.346Z \u001b[32mINFO\u001b[39m \u001b[33m CheerioCrawler:\u001b[39m All requests from the queue have been processed, the crawler will shut down.\n",
      "\u001b[36m[apify.facebook-pages-scraper runId:412qOmKIoUKsERefT]\u001b[0m -> 2025-06-27T16:37:27.420Z \u001b[32mINFO\u001b[39m \u001b[33m CheerioCrawler:\u001b[39m Final request statistics:\u001b[90m {\"requestsFinished\":1,\"requestsFailed\":0,\"retryHistogram\":[null,1],\"requestAvgFailedDurationMillis\":null,\"requestAvgFinishedDurationMillis\":14810,\"requestsFinishedPerMinute\":3,\"requestsFailedPerMinute\":0,\"requestTotalDurationMillis\":14810,\"requestsTotal\":1,\"crawlerRuntimeMillis\":20294}\u001b[39m\n",
      "\u001b[36m[apify.facebook-pages-scraper runId:412qOmKIoUKsERefT]\u001b[0m -> 2025-06-27T16:37:27.421Z \u001b[32mINFO\u001b[39m \u001b[33m CheerioCrawler:\u001b[39m Finished! Total 1 requests: 1 succeeded, 0 failed.\u001b[90m {\"terminal\":true}\u001b[39m\n",
      "\u001b[36m[apify.facebook-pages-scraper runId:412qOmKIoUKsERefT]\u001b[0m -> 2025-06-27T16:37:27.493Z \u001b[32mINFO\u001b[39m  *** DONE ***\n",
      "\u001b[36m[apify.facebook-pages-scraper runId:412qOmKIoUKsERefT]\u001b[0m -> Status: SUCCEEDED, Message: Finished! Total 1 requests: 1 succeeded, 0 failed.\n"
     ]
    },
    {
     "name": "stdout",
     "output_type": "stream",
     "text": [
      "🔍 Scraping: https://www.facebook.com/TopangaBrands\n"
     ]
    },
    {
     "name": "stderr",
     "output_type": "stream",
     "text": [
      "\u001b[36m[apify.facebook-pages-scraper runId:qMDqp2ORLNG4itCyo]\u001b[0m -> Status: RUNNING, Message: \n",
      "\u001b[36m[apify.facebook-pages-scraper runId:qMDqp2ORLNG4itCyo]\u001b[0m -> Status: RUNNING, Message: Starting the crawler.\n",
      "\u001b[36m[apify.facebook-pages-scraper runId:qMDqp2ORLNG4itCyo]\u001b[0m -> 2025-06-27T16:37:35.715Z ACTOR: Pulling Docker image of build fYUy7GidTW8TkhvRK from registry.\n",
      "\u001b[36m[apify.facebook-pages-scraper runId:qMDqp2ORLNG4itCyo]\u001b[0m -> 2025-06-27T16:37:35.717Z ACTOR: Creating Docker container.\n",
      "\u001b[36m[apify.facebook-pages-scraper runId:qMDqp2ORLNG4itCyo]\u001b[0m -> 2025-06-27T16:37:35.760Z ACTOR: Starting Docker container.\n",
      "\u001b[36m[apify.facebook-pages-scraper runId:qMDqp2ORLNG4itCyo]\u001b[0m -> 2025-06-27T16:37:37.395Z \u001b[32mINFO\u001b[39m  System info\u001b[90m {\"apifyVersion\":\"3.4.2\",\"apifyClientVersion\":\"2.12.5\",\"crawleeVersion\":\"3.13.7\",\"osType\":\"Linux\",\"nodeVersion\":\"v20.19.2\"}\u001b[39m\n",
      "\u001b[36m[apify.facebook-pages-scraper runId:qMDqp2ORLNG4itCyo]\u001b[0m -> 2025-06-27T16:37:37.606Z \u001b[32mINFO\u001b[39m  Results Limit undefined\n",
      "\u001b[36m[apify.facebook-pages-scraper runId:qMDqp2ORLNG4itCyo]\u001b[0m -> 2025-06-27T16:37:37.607Z \u001b[32mINFO\u001b[39m  pushDataMaxAware 343\n",
      "\u001b[36m[apify.facebook-pages-scraper runId:qMDqp2ORLNG4itCyo]\u001b[0m -> 2025-06-27T16:37:37.956Z \u001b[32mINFO\u001b[39m \u001b[33m CheerioCrawler:\u001b[39m Using the old RequestQueue implementation without request locking.\n",
      "\u001b[36m[apify.facebook-pages-scraper runId:qMDqp2ORLNG4itCyo]\u001b[0m -> Status: RUNNING, Message: Crawled 0/1 pages, 0 failed requests, desired concurrency 10.\n",
      "\u001b[36m[apify.facebook-pages-scraper runId:qMDqp2ORLNG4itCyo]\u001b[0m -> 2025-06-27T16:37:38.144Z \u001b[32mINFO\u001b[39m \u001b[33m CheerioCrawler:\u001b[39m Starting the crawler.\n",
      "\u001b[36m[apify.facebook-pages-scraper runId:qMDqp2ORLNG4itCyo]\u001b[0m -> 2025-06-27T16:37:53.606Z \u001b[32mINFO\u001b[39m  [PROGRESS]: Found 1 new page details, 1/343 for URL https://www.facebook.com/TopangaBrands\n",
      "\u001b[36m[apify.facebook-pages-scraper runId:qMDqp2ORLNG4itCyo]\u001b[0m -> 2025-06-27T16:37:53.882Z \u001b[32mINFO\u001b[39m \u001b[33m CheerioCrawler:\u001b[39m All requests from the queue have been processed, the crawler will shut down.\n",
      "\u001b[36m[apify.facebook-pages-scraper runId:qMDqp2ORLNG4itCyo]\u001b[0m -> 2025-06-27T16:37:53.996Z \u001b[32mINFO\u001b[39m \u001b[33m CheerioCrawler:\u001b[39m Final request statistics:\u001b[90m {\"requestsFinished\":1,\"requestsFailed\":0,\"retryHistogram\":[1],\"requestAvgFailedDurationMillis\":null,\"requestAvgFinishedDurationMillis\":15591,\"requestsFinishedPerMinute\":4,\"requestsFailedPerMinute\":0,\"requestTotalDurationMillis\":15591,\"requestsTotal\":1,\"crawlerRuntimeMillis\":16050}\u001b[39m\n",
      "\u001b[36m[apify.facebook-pages-scraper runId:qMDqp2ORLNG4itCyo]\u001b[0m -> 2025-06-27T16:37:53.997Z \u001b[32mINFO\u001b[39m \u001b[33m CheerioCrawler:\u001b[39m Finished! Total 1 requests: 1 succeeded, 0 failed.\u001b[90m {\"terminal\":true}\u001b[39m\n",
      "\u001b[36m[apify.facebook-pages-scraper runId:qMDqp2ORLNG4itCyo]\u001b[0m -> 2025-06-27T16:37:54.049Z \u001b[32mINFO\u001b[39m  *** DONE ***\n",
      "\u001b[36m[apify.facebook-pages-scraper runId:qMDqp2ORLNG4itCyo]\u001b[0m -> Status: RUNNING, Message: Finished! Total 1 requests: 1 succeeded, 0 failed.\n"
     ]
    },
    {
     "name": "stdout",
     "output_type": "stream",
     "text": [
      "🔍 Scraping: https://www.facebook.com/Kix102.5\n"
     ]
    },
    {
     "name": "stderr",
     "output_type": "stream",
     "text": [
      "\u001b[36m[apify.facebook-pages-scraper runId:ZuT2CNdkmiqvGLN2V]\u001b[0m -> Status: RUNNING, Message: \n",
      "\u001b[36m[apify.facebook-pages-scraper runId:ZuT2CNdkmiqvGLN2V]\u001b[0m -> 2025-06-27T16:38:02.060Z ACTOR: Pulling Docker image of build fYUy7GidTW8TkhvRK from registry.\n",
      "\u001b[36m[apify.facebook-pages-scraper runId:ZuT2CNdkmiqvGLN2V]\u001b[0m -> 2025-06-27T16:38:02.065Z ACTOR: Creating Docker container.\n",
      "\u001b[36m[apify.facebook-pages-scraper runId:ZuT2CNdkmiqvGLN2V]\u001b[0m -> 2025-06-27T16:38:02.110Z ACTOR: Starting Docker container.\n",
      "\u001b[36m[apify.facebook-pages-scraper runId:ZuT2CNdkmiqvGLN2V]\u001b[0m -> 2025-06-27T16:38:03.910Z \u001b[32mINFO\u001b[39m  System info\u001b[90m {\"apifyVersion\":\"3.4.2\",\"apifyClientVersion\":\"2.12.5\",\"crawleeVersion\":\"3.13.7\",\"osType\":\"Linux\",\"nodeVersion\":\"v20.19.2\"}\u001b[39m\n",
      "\u001b[36m[apify.facebook-pages-scraper runId:ZuT2CNdkmiqvGLN2V]\u001b[0m -> 2025-06-27T16:38:04.045Z \u001b[32mINFO\u001b[39m  Results Limit undefined\n",
      "\u001b[36m[apify.facebook-pages-scraper runId:ZuT2CNdkmiqvGLN2V]\u001b[0m -> 2025-06-27T16:38:04.048Z \u001b[32mINFO\u001b[39m  pushDataMaxAware 343\n",
      "\u001b[36m[apify.facebook-pages-scraper runId:ZuT2CNdkmiqvGLN2V]\u001b[0m -> 2025-06-27T16:38:04.417Z \u001b[32mINFO\u001b[39m \u001b[33m CheerioCrawler:\u001b[39m Using the old RequestQueue implementation without request locking.\n",
      "\u001b[36m[apify.facebook-pages-scraper runId:ZuT2CNdkmiqvGLN2V]\u001b[0m -> Status: RUNNING, Message: Starting the crawler.\n",
      "\u001b[36m[apify.facebook-pages-scraper runId:ZuT2CNdkmiqvGLN2V]\u001b[0m -> Status: RUNNING, Message: Crawled 0/1 pages, 0 failed requests, desired concurrency 10.\n",
      "\u001b[36m[apify.facebook-pages-scraper runId:ZuT2CNdkmiqvGLN2V]\u001b[0m -> 2025-06-27T16:38:04.782Z \u001b[32mINFO\u001b[39m \u001b[33m CheerioCrawler:\u001b[39m Starting the crawler.\n",
      "\u001b[36m[apify.facebook-pages-scraper runId:ZuT2CNdkmiqvGLN2V]\u001b[0m -> 2025-06-27T16:38:21.173Z \u001b[32mINFO\u001b[39m  [PROGRESS]: Found 1 new page details, 1/343 for URL https://www.facebook.com/Kix102.5\n",
      "\u001b[36m[apify.facebook-pages-scraper runId:ZuT2CNdkmiqvGLN2V]\u001b[0m -> 2025-06-27T16:38:21.348Z \u001b[32mINFO\u001b[39m \u001b[33m CheerioCrawler:\u001b[39m All requests from the queue have been processed, the crawler will shut down.\n",
      "\u001b[36m[apify.facebook-pages-scraper runId:ZuT2CNdkmiqvGLN2V]\u001b[0m -> 2025-06-27T16:38:21.489Z \u001b[32mINFO\u001b[39m \u001b[33m CheerioCrawler:\u001b[39m Final request statistics:\u001b[90m {\"requestsFinished\":1,\"requestsFailed\":0,\"retryHistogram\":[1],\"requestAvgFailedDurationMillis\":null,\"requestAvgFinishedDurationMillis\":16458,\"requestsFinishedPerMinute\":4,\"requestsFailedPerMinute\":0,\"requestTotalDurationMillis\":16458,\"requestsTotal\":1,\"crawlerRuntimeMillis\":17073}\u001b[39m\n",
      "\u001b[36m[apify.facebook-pages-scraper runId:ZuT2CNdkmiqvGLN2V]\u001b[0m -> 2025-06-27T16:38:21.491Z \u001b[32mINFO\u001b[39m \u001b[33m CheerioCrawler:\u001b[39m Finished! Total 1 requests: 1 succeeded, 0 failed.\u001b[90m {\"terminal\":true}\u001b[39m\n",
      "\u001b[36m[apify.facebook-pages-scraper runId:ZuT2CNdkmiqvGLN2V]\u001b[0m -> 2025-06-27T16:38:21.542Z \u001b[32mINFO\u001b[39m  *** DONE ***\n",
      "\u001b[36m[apify.facebook-pages-scraper runId:ZuT2CNdkmiqvGLN2V]\u001b[0m -> Status: SUCCEEDED, Message: Finished! Total 1 requests: 1 succeeded, 0 failed.\n"
     ]
    },
    {
     "name": "stdout",
     "output_type": "stream",
     "text": [
      "🔍 Scraping: https://www.facebook.com/TheArtfulDollar\n"
     ]
    },
    {
     "name": "stderr",
     "output_type": "stream",
     "text": [
      "\u001b[36m[apify.facebook-pages-scraper runId:ZLo4HN0zuTbjoJ2dJ]\u001b[0m -> Status: RUNNING, Message: \n",
      "\u001b[36m[apify.facebook-pages-scraper runId:ZLo4HN0zuTbjoJ2dJ]\u001b[0m -> Status: RUNNING, Message: Starting the crawler.\n",
      "\u001b[36m[apify.facebook-pages-scraper runId:ZLo4HN0zuTbjoJ2dJ]\u001b[0m -> 2025-06-27T16:38:30.118Z ACTOR: Pulling Docker image of build fYUy7GidTW8TkhvRK from registry.\n",
      "\u001b[36m[apify.facebook-pages-scraper runId:ZLo4HN0zuTbjoJ2dJ]\u001b[0m -> 2025-06-27T16:38:30.119Z ACTOR: Creating Docker container.\n",
      "\u001b[36m[apify.facebook-pages-scraper runId:ZLo4HN0zuTbjoJ2dJ]\u001b[0m -> 2025-06-27T16:38:30.198Z ACTOR: Starting Docker container.\n",
      "\u001b[36m[apify.facebook-pages-scraper runId:ZLo4HN0zuTbjoJ2dJ]\u001b[0m -> 2025-06-27T16:38:31.744Z \u001b[32mINFO\u001b[39m  System info\u001b[90m {\"apifyVersion\":\"3.4.2\",\"apifyClientVersion\":\"2.12.5\",\"crawleeVersion\":\"3.13.7\",\"osType\":\"Linux\",\"nodeVersion\":\"v20.19.2\"}\u001b[39m\n",
      "\u001b[36m[apify.facebook-pages-scraper runId:ZLo4HN0zuTbjoJ2dJ]\u001b[0m -> 2025-06-27T16:38:31.842Z \u001b[32mINFO\u001b[39m  Results Limit undefined\n",
      "\u001b[36m[apify.facebook-pages-scraper runId:ZLo4HN0zuTbjoJ2dJ]\u001b[0m -> 2025-06-27T16:38:31.843Z \u001b[32mINFO\u001b[39m  pushDataMaxAware 343\n",
      "\u001b[36m[apify.facebook-pages-scraper runId:ZLo4HN0zuTbjoJ2dJ]\u001b[0m -> 2025-06-27T16:38:32.137Z \u001b[32mINFO\u001b[39m \u001b[33m CheerioCrawler:\u001b[39m Using the old RequestQueue implementation without request locking.\n",
      "\u001b[36m[apify.facebook-pages-scraper runId:ZLo4HN0zuTbjoJ2dJ]\u001b[0m -> Status: RUNNING, Message: Crawled 0/1 pages, 0 failed requests, desired concurrency 10.\n",
      "\u001b[36m[apify.facebook-pages-scraper runId:ZLo4HN0zuTbjoJ2dJ]\u001b[0m -> 2025-06-27T16:38:32.310Z \u001b[32mINFO\u001b[39m \u001b[33m CheerioCrawler:\u001b[39m Starting the crawler.\n",
      "\u001b[36m[apify.facebook-pages-scraper runId:ZLo4HN0zuTbjoJ2dJ]\u001b[0m -> 2025-06-27T16:38:43.481Z \u001b[32mINFO\u001b[39m  [PROGRESS]: Found 1 new page details, 1/343 for URL https://www.facebook.com/TheArtfulDollar\n",
      "\u001b[36m[apify.facebook-pages-scraper runId:ZLo4HN0zuTbjoJ2dJ]\u001b[0m -> 2025-06-27T16:38:43.911Z \u001b[32mINFO\u001b[39m \u001b[33m CheerioCrawler:\u001b[39m All requests from the queue have been processed, the crawler will shut down.\n",
      "\u001b[36m[apify.facebook-pages-scraper runId:ZLo4HN0zuTbjoJ2dJ]\u001b[0m -> 2025-06-27T16:38:44.027Z \u001b[32mINFO\u001b[39m \u001b[33m CheerioCrawler:\u001b[39m Final request statistics:\u001b[90m {\"requestsFinished\":1,\"requestsFailed\":0,\"retryHistogram\":[1],\"requestAvgFailedDurationMillis\":null,\"requestAvgFinishedDurationMillis\":11342,\"requestsFinishedPerMinute\":5,\"requestsFailedPerMinute\":0,\"requestTotalDurationMillis\":11342,\"requestsTotal\":1,\"crawlerRuntimeMillis\":11889}\u001b[39m\n",
      "\u001b[36m[apify.facebook-pages-scraper runId:ZLo4HN0zuTbjoJ2dJ]\u001b[0m -> 2025-06-27T16:38:44.031Z \u001b[32mINFO\u001b[39m \u001b[33m CheerioCrawler:\u001b[39m Finished! Total 1 requests: 1 succeeded, 0 failed.\u001b[90m {\"terminal\":true}\u001b[39m\n",
      "\u001b[36m[apify.facebook-pages-scraper runId:ZLo4HN0zuTbjoJ2dJ]\u001b[0m -> 2025-06-27T16:38:44.085Z \u001b[32mINFO\u001b[39m  *** DONE ***\n",
      "\u001b[36m[apify.facebook-pages-scraper runId:ZLo4HN0zuTbjoJ2dJ]\u001b[0m -> Status: SUCCEEDED, Message: Finished! Total 1 requests: 1 succeeded, 0 failed.\n"
     ]
    },
    {
     "name": "stdout",
     "output_type": "stream",
     "text": [
      "🔍 Scraping: https://www.facebook.com/Certifica\n"
     ]
    },
    {
     "name": "stderr",
     "output_type": "stream",
     "text": [
      "\u001b[36m[apify.facebook-pages-scraper runId:0ZiVng1VsgNszMZhQ]\u001b[0m -> Status: RUNNING, Message: \n",
      "\u001b[36m[apify.facebook-pages-scraper runId:0ZiVng1VsgNszMZhQ]\u001b[0m -> 2025-06-27T16:38:52.605Z ACTOR: Pulling Docker image of build fYUy7GidTW8TkhvRK from registry.\n",
      "\u001b[36m[apify.facebook-pages-scraper runId:0ZiVng1VsgNszMZhQ]\u001b[0m -> 2025-06-27T16:38:52.607Z ACTOR: Creating Docker container.\n",
      "\u001b[36m[apify.facebook-pages-scraper runId:0ZiVng1VsgNszMZhQ]\u001b[0m -> 2025-06-27T16:38:52.662Z ACTOR: Starting Docker container.\n",
      "\u001b[36m[apify.facebook-pages-scraper runId:0ZiVng1VsgNszMZhQ]\u001b[0m -> 2025-06-27T16:38:55.187Z \u001b[32mINFO\u001b[39m  System info\u001b[90m {\"apifyVersion\":\"3.4.2\",\"apifyClientVersion\":\"2.12.5\",\"crawleeVersion\":\"3.13.7\",\"osType\":\"Linux\",\"nodeVersion\":\"v20.19.2\"}\u001b[39m\n",
      "\u001b[36m[apify.facebook-pages-scraper runId:0ZiVng1VsgNszMZhQ]\u001b[0m -> 2025-06-27T16:38:55.412Z \u001b[32mINFO\u001b[39m  Results Limit undefined\n",
      "\u001b[36m[apify.facebook-pages-scraper runId:0ZiVng1VsgNszMZhQ]\u001b[0m -> 2025-06-27T16:38:55.414Z \u001b[32mINFO\u001b[39m  pushDataMaxAware 343\n",
      "\u001b[36m[apify.facebook-pages-scraper runId:0ZiVng1VsgNszMZhQ]\u001b[0m -> 2025-06-27T16:38:56.026Z \u001b[32mINFO\u001b[39m \u001b[33m CheerioCrawler:\u001b[39m Using the old RequestQueue implementation without request locking.\n",
      "\u001b[36m[apify.facebook-pages-scraper runId:0ZiVng1VsgNszMZhQ]\u001b[0m -> Status: RUNNING, Message: Starting the crawler.\n",
      "\u001b[36m[apify.facebook-pages-scraper runId:0ZiVng1VsgNszMZhQ]\u001b[0m -> 2025-06-27T16:38:56.264Z \u001b[32mINFO\u001b[39m \u001b[33m CheerioCrawler:\u001b[39m Starting the crawler.\n",
      "\u001b[36m[apify.facebook-pages-scraper runId:0ZiVng1VsgNszMZhQ]\u001b[0m -> 2025-06-27T16:39:06.710Z \u001b[33mWARN\u001b[39m \u001b[33m CheerioCrawler:\u001b[39m Reclaiming failed request back to the list or queue. BLOCKED\n",
      "\u001b[36m[apify.facebook-pages-scraper runId:0ZiVng1VsgNszMZhQ]\u001b[0m -> Status: RUNNING, Message: Crawled 0/1 pages, 0 failed requests, desired concurrency 10.\n",
      "\u001b[36m[apify.facebook-pages-scraper runId:0ZiVng1VsgNszMZhQ]\u001b[0m -> 2025-06-27T16:39:06.713Z     at getDetailsByAdditionalRequests (file:///usr/src/app/dist/src/src-facebook-pages/add-sections.js:50:19)\u001b[90m {\"id\":\"Ut1J4XquAKctGkL\",\"url\":\"https://www.facebook.com/Certifica\",\"retryCount\":1}\u001b[39m\n",
      "\u001b[36m[apify.facebook-pages-scraper runId:0ZiVng1VsgNszMZhQ]\u001b[0m -> 2025-06-27T16:39:35.248Z \u001b[32mINFO\u001b[39m  [PROGRESS]: Found 1 new page details, 1/343 for URL https://www.facebook.com/Certifica\n",
      "\u001b[36m[apify.facebook-pages-scraper runId:0ZiVng1VsgNszMZhQ]\u001b[0m -> 2025-06-27T16:39:35.397Z \u001b[32mINFO\u001b[39m \u001b[33m CheerioCrawler:\u001b[39m All requests from the queue have been processed, the crawler will shut down.\n",
      "\u001b[36m[apify.facebook-pages-scraper runId:0ZiVng1VsgNszMZhQ]\u001b[0m -> 2025-06-27T16:39:35.642Z \u001b[32mINFO\u001b[39m \u001b[33m CheerioCrawler:\u001b[39m Final request statistics:\u001b[90m {\"requestsFinished\":1,\"requestsFailed\":0,\"retryHistogram\":[null,1],\"requestAvgFailedDurationMillis\":null,\"requestAvgFinishedDurationMillis\":25203,\"requestsFinishedPerMinute\":2,\"requestsFailedPerMinute\":0,\"requestTotalDurationMillis\":25203,\"requestsTotal\":1,\"crawlerRuntimeMillis\":39616}\u001b[39m\n",
      "\u001b[36m[apify.facebook-pages-scraper runId:0ZiVng1VsgNszMZhQ]\u001b[0m -> 2025-06-27T16:39:35.643Z \u001b[32mINFO\u001b[39m \u001b[33m CheerioCrawler:\u001b[39m Finished! Total 1 requests: 1 succeeded, 0 failed.\u001b[90m {\"terminal\":true}\u001b[39m\n",
      "\u001b[36m[apify.facebook-pages-scraper runId:0ZiVng1VsgNszMZhQ]\u001b[0m -> Status: RUNNING, Message: Finished! Total 1 requests: 1 succeeded, 0 failed.\n",
      "\u001b[36m[apify.facebook-pages-scraper runId:0ZiVng1VsgNszMZhQ]\u001b[0m -> 2025-06-27T16:39:35.705Z \u001b[32mINFO\u001b[39m  *** DONE ***\n"
     ]
    },
    {
     "name": "stdout",
     "output_type": "stream",
     "text": [
      "🔍 Scraping: https://www.facebook.com/SHEBOSS\n"
     ]
    },
    {
     "name": "stderr",
     "output_type": "stream",
     "text": [
      "\u001b[36m[apify.facebook-pages-scraper runId:fzPG22Dj9TEOL0568]\u001b[0m -> Status: RUNNING, Message: \n",
      "\u001b[36m[apify.facebook-pages-scraper runId:fzPG22Dj9TEOL0568]\u001b[0m -> 2025-06-27T16:39:43.647Z ACTOR: Pulling Docker image of build fYUy7GidTW8TkhvRK from registry.\n",
      "\u001b[36m[apify.facebook-pages-scraper runId:fzPG22Dj9TEOL0568]\u001b[0m -> 2025-06-27T16:39:43.648Z ACTOR: Creating Docker container.\n",
      "\u001b[36m[apify.facebook-pages-scraper runId:fzPG22Dj9TEOL0568]\u001b[0m -> 2025-06-27T16:39:43.747Z ACTOR: Starting Docker container.\n",
      "\u001b[36m[apify.facebook-pages-scraper runId:fzPG22Dj9TEOL0568]\u001b[0m -> 2025-06-27T16:39:45.330Z \u001b[32mINFO\u001b[39m  System info\u001b[90m {\"apifyVersion\":\"3.4.2\",\"apifyClientVersion\":\"2.12.5\",\"crawleeVersion\":\"3.13.7\",\"osType\":\"Linux\",\"nodeVersion\":\"v20.19.2\"}\u001b[39m\n",
      "\u001b[36m[apify.facebook-pages-scraper runId:fzPG22Dj9TEOL0568]\u001b[0m -> 2025-06-27T16:39:45.464Z \u001b[32mINFO\u001b[39m  Results Limit undefined\n",
      "\u001b[36m[apify.facebook-pages-scraper runId:fzPG22Dj9TEOL0568]\u001b[0m -> 2025-06-27T16:39:45.465Z \u001b[32mINFO\u001b[39m  pushDataMaxAware 343\n",
      "\u001b[36m[apify.facebook-pages-scraper runId:fzPG22Dj9TEOL0568]\u001b[0m -> 2025-06-27T16:39:45.750Z \u001b[32mINFO\u001b[39m \u001b[33m CheerioCrawler:\u001b[39m Using the old RequestQueue implementation without request locking.\n",
      "\u001b[36m[apify.facebook-pages-scraper runId:fzPG22Dj9TEOL0568]\u001b[0m -> Status: RUNNING, Message: Starting the crawler.\n",
      "\u001b[36m[apify.facebook-pages-scraper runId:fzPG22Dj9TEOL0568]\u001b[0m -> 2025-06-27T16:39:45.901Z \u001b[32mINFO\u001b[39m \u001b[33m CheerioCrawler:\u001b[39m Starting the crawler.\n",
      "\u001b[36m[apify.facebook-pages-scraper runId:fzPG22Dj9TEOL0568]\u001b[0m -> 2025-06-27T16:39:49.581Z \u001b[32mINFO\u001b[39m \u001b[33m CheerioCrawler:\u001b[39m All requests from the queue have been processed, the crawler will shut down.\n",
      "\u001b[36m[apify.facebook-pages-scraper runId:fzPG22Dj9TEOL0568]\u001b[0m -> 2025-06-27T16:39:49.717Z \u001b[32mINFO\u001b[39m \u001b[33m CheerioCrawler:\u001b[39m Final request statistics:\u001b[90m {\"requestsFinished\":1,\"requestsFailed\":0,\"retryHistogram\":[1],\"requestAvgFailedDurationMillis\":null,\"requestAvgFinishedDurationMillis\":3561,\"requestsFinishedPerMinute\":15,\"requestsFailedPerMinute\":0,\"requestTotalDurationMillis\":3561,\"requestsTotal\":1,\"crawlerRuntimeMillis\":3967}\u001b[39m\n",
      "\u001b[36m[apify.facebook-pages-scraper runId:fzPG22Dj9TEOL0568]\u001b[0m -> 2025-06-27T16:39:49.719Z \u001b[32mINFO\u001b[39m \u001b[33m CheerioCrawler:\u001b[39m Finished! Total 1 requests: 1 succeeded, 0 failed.\u001b[90m {\"terminal\":true}\u001b[39m\n",
      "\u001b[36m[apify.facebook-pages-scraper runId:fzPG22Dj9TEOL0568]\u001b[0m -> 2025-06-27T16:39:49.803Z \u001b[32mINFO\u001b[39m  *** DONE ***\n",
      "\u001b[36m[apify.facebook-pages-scraper runId:fzPG22Dj9TEOL0568]\u001b[0m -> Status: SUCCEEDED, Message: Finished! Total 1 requests: 1 succeeded, 0 failed.\n"
     ]
    },
    {
     "name": "stdout",
     "output_type": "stream",
     "text": [
      "🔍 Scraping: https://www.facebook.com/SplendidFinancialSolutions\n"
     ]
    },
    {
     "name": "stderr",
     "output_type": "stream",
     "text": [
      "\u001b[36m[apify.facebook-pages-scraper runId:nqXyPfuXOBQbb27ga]\u001b[0m -> Status: RUNNING, Message: \n",
      "\u001b[36m[apify.facebook-pages-scraper runId:nqXyPfuXOBQbb27ga]\u001b[0m -> 2025-06-27T16:39:58.116Z ACTOR: Pulling Docker image of build fYUy7GidTW8TkhvRK from registry.\n",
      "\u001b[36m[apify.facebook-pages-scraper runId:nqXyPfuXOBQbb27ga]\u001b[0m -> 2025-06-27T16:39:58.121Z ACTOR: Creating Docker container.\n",
      "\u001b[36m[apify.facebook-pages-scraper runId:nqXyPfuXOBQbb27ga]\u001b[0m -> 2025-06-27T16:39:58.202Z ACTOR: Starting Docker container.\n",
      "\u001b[36m[apify.facebook-pages-scraper runId:nqXyPfuXOBQbb27ga]\u001b[0m -> 2025-06-27T16:40:00.065Z \u001b[32mINFO\u001b[39m  System info\u001b[90m {\"apifyVersion\":\"3.4.2\",\"apifyClientVersion\":\"2.12.5\",\"crawleeVersion\":\"3.13.7\",\"osType\":\"Linux\",\"nodeVersion\":\"v20.19.2\"}\u001b[39m\n",
      "\u001b[36m[apify.facebook-pages-scraper runId:nqXyPfuXOBQbb27ga]\u001b[0m -> 2025-06-27T16:40:00.194Z \u001b[32mINFO\u001b[39m  Results Limit undefined\n",
      "\u001b[36m[apify.facebook-pages-scraper runId:nqXyPfuXOBQbb27ga]\u001b[0m -> 2025-06-27T16:40:00.196Z \u001b[32mINFO\u001b[39m  pushDataMaxAware 343\n",
      "\u001b[36m[apify.facebook-pages-scraper runId:nqXyPfuXOBQbb27ga]\u001b[0m -> 2025-06-27T16:40:00.554Z \u001b[32mINFO\u001b[39m \u001b[33m CheerioCrawler:\u001b[39m Using the old RequestQueue implementation without request locking.\n",
      "\u001b[36m[apify.facebook-pages-scraper runId:nqXyPfuXOBQbb27ga]\u001b[0m -> Status: RUNNING, Message: Starting the crawler.\n",
      "\u001b[36m[apify.facebook-pages-scraper runId:nqXyPfuXOBQbb27ga]\u001b[0m -> 2025-06-27T16:40:00.775Z \u001b[32mINFO\u001b[39m \u001b[33m CheerioCrawler:\u001b[39m Starting the crawler.\n",
      "\u001b[36m[apify.facebook-pages-scraper runId:nqXyPfuXOBQbb27ga]\u001b[0m -> 2025-06-27T16:40:04.131Z \u001b[32mINFO\u001b[39m \u001b[33m CheerioCrawler:\u001b[39m All requests from the queue have been processed, the crawler will shut down.\n",
      "\u001b[36m[apify.facebook-pages-scraper runId:nqXyPfuXOBQbb27ga]\u001b[0m -> 2025-06-27T16:40:04.334Z \u001b[32mINFO\u001b[39m \u001b[33m CheerioCrawler:\u001b[39m Final request statistics:\u001b[90m {\"requestsFinished\":1,\"requestsFailed\":0,\"retryHistogram\":[1],\"requestAvgFailedDurationMillis\":null,\"requestAvgFinishedDurationMillis\":3218,\"requestsFinishedPerMinute\":16,\"requestsFailedPerMinute\":0,\"requestTotalDurationMillis\":3218,\"requestsTotal\":1,\"crawlerRuntimeMillis\":3780}\u001b[39m\n",
      "\u001b[36m[apify.facebook-pages-scraper runId:nqXyPfuXOBQbb27ga]\u001b[0m -> 2025-06-27T16:40:04.336Z \u001b[32mINFO\u001b[39m \u001b[33m CheerioCrawler:\u001b[39m Finished! Total 1 requests: 1 succeeded, 0 failed.\u001b[90m {\"terminal\":true}\u001b[39m\n",
      "\u001b[36m[apify.facebook-pages-scraper runId:nqXyPfuXOBQbb27ga]\u001b[0m -> 2025-06-27T16:40:04.402Z \u001b[32mINFO\u001b[39m  *** DONE ***\n",
      "\u001b[36m[apify.facebook-pages-scraper runId:nqXyPfuXOBQbb27ga]\u001b[0m -> Status: SUCCEEDED, Message: Finished! Total 1 requests: 1 succeeded, 0 failed.\n"
     ]
    },
    {
     "name": "stdout",
     "output_type": "stream",
     "text": [
      "🔍 Scraping: https://www.facebook.com/ZacPitts\n"
     ]
    },
    {
     "name": "stderr",
     "output_type": "stream",
     "text": [
      "\u001b[36m[apify.facebook-pages-scraper runId:qwyXfWzAxGV5o0SJk]\u001b[0m -> Status: RUNNING, Message: \n",
      "\u001b[36m[apify.facebook-pages-scraper runId:qwyXfWzAxGV5o0SJk]\u001b[0m -> Status: RUNNING, Message: Starting the crawler.\n",
      "\u001b[36m[apify.facebook-pages-scraper runId:qwyXfWzAxGV5o0SJk]\u001b[0m -> 2025-06-27T16:40:12.400Z ACTOR: Pulling Docker image of build fYUy7GidTW8TkhvRK from registry.\n",
      "\u001b[36m[apify.facebook-pages-scraper runId:qwyXfWzAxGV5o0SJk]\u001b[0m -> 2025-06-27T16:40:12.402Z ACTOR: Creating Docker container.\n",
      "\u001b[36m[apify.facebook-pages-scraper runId:qwyXfWzAxGV5o0SJk]\u001b[0m -> 2025-06-27T16:40:12.436Z ACTOR: Starting Docker container.\n",
      "\u001b[36m[apify.facebook-pages-scraper runId:qwyXfWzAxGV5o0SJk]\u001b[0m -> 2025-06-27T16:40:13.967Z \u001b[32mINFO\u001b[39m  System info\u001b[90m {\"apifyVersion\":\"3.4.2\",\"apifyClientVersion\":\"2.12.5\",\"crawleeVersion\":\"3.13.7\",\"osType\":\"Linux\",\"nodeVersion\":\"v20.19.2\"}\u001b[39m\n",
      "\u001b[36m[apify.facebook-pages-scraper runId:qwyXfWzAxGV5o0SJk]\u001b[0m -> 2025-06-27T16:40:14.103Z \u001b[32mINFO\u001b[39m  Results Limit undefined\n",
      "\u001b[36m[apify.facebook-pages-scraper runId:qwyXfWzAxGV5o0SJk]\u001b[0m -> 2025-06-27T16:40:14.105Z \u001b[32mINFO\u001b[39m  pushDataMaxAware 343\n",
      "\u001b[36m[apify.facebook-pages-scraper runId:qwyXfWzAxGV5o0SJk]\u001b[0m -> 2025-06-27T16:40:14.369Z \u001b[32mINFO\u001b[39m \u001b[33m CheerioCrawler:\u001b[39m Using the old RequestQueue implementation without request locking.\n",
      "\u001b[36m[apify.facebook-pages-scraper runId:qwyXfWzAxGV5o0SJk]\u001b[0m -> 2025-06-27T16:40:14.538Z \u001b[32mINFO\u001b[39m \u001b[33m CheerioCrawler:\u001b[39m Starting the crawler.\n",
      "\u001b[36m[apify.facebook-pages-scraper runId:qwyXfWzAxGV5o0SJk]\u001b[0m -> 2025-06-27T16:40:21.613Z \u001b[33mWARN\u001b[39m \u001b[33m CheerioCrawler:\u001b[39m Reclaiming failed request back to the list or queue. Detected a session error, rotating session...\n",
      "\u001b[36m[apify.facebook-pages-scraper runId:qwyXfWzAxGV5o0SJk]\u001b[0m -> 2025-06-27T16:40:21.616Z The proxy server rejected the request with status code 595 (ECONNRESET)\n",
      "\u001b[36m[apify.facebook-pages-scraper runId:qwyXfWzAxGV5o0SJk]\u001b[0m -> 2025-06-27T16:40:21.622Z\n",
      "\u001b[36m[apify.facebook-pages-scraper runId:qwyXfWzAxGV5o0SJk]\u001b[0m -> Status: RUNNING, Message: Crawled 0/1 pages, 0 failed requests, desired concurrency 10.\n",
      "\u001b[36m[apify.facebook-pages-scraper runId:qwyXfWzAxGV5o0SJk]\u001b[0m -> 2025-06-27T16:40:21.626Z \u001b[90m {\"id\":\"u1DuZugE1v6tvBU\",\"url\":\"https://www.facebook.com/ZacPitts\",\"retryCount\":1}\u001b[39m\n",
      "\u001b[36m[apify.facebook-pages-scraper runId:qwyXfWzAxGV5o0SJk]\u001b[0m -> 2025-06-27T16:40:27.492Z \u001b[32mINFO\u001b[39m \u001b[33m CheerioCrawler:\u001b[39m All requests from the queue have been processed, the crawler will shut down.\n",
      "\u001b[36m[apify.facebook-pages-scraper runId:qwyXfWzAxGV5o0SJk]\u001b[0m -> 2025-06-27T16:40:27.567Z \u001b[32mINFO\u001b[39m \u001b[33m CheerioCrawler:\u001b[39m Final request statistics:\u001b[90m {\"requestsFinished\":1,\"requestsFailed\":0,\"retryHistogram\":[null,1],\"requestAvgFailedDurationMillis\":null,\"requestAvgFinishedDurationMillis\":2379,\"requestsFinishedPerMinute\":5,\"requestsFailedPerMinute\":0,\"requestTotalDurationMillis\":2379,\"requestsTotal\":1,\"crawlerRuntimeMillis\":13199}\u001b[39m\n",
      "\u001b[36m[apify.facebook-pages-scraper runId:qwyXfWzAxGV5o0SJk]\u001b[0m -> 2025-06-27T16:40:27.569Z \u001b[32mINFO\u001b[39m \u001b[33m CheerioCrawler:\u001b[39m Finished! Total 1 requests: 1 succeeded, 0 failed.\u001b[90m {\"terminal\":true}\u001b[39m\n",
      "\u001b[36m[apify.facebook-pages-scraper runId:qwyXfWzAxGV5o0SJk]\u001b[0m -> 2025-06-27T16:40:27.645Z \u001b[32mINFO\u001b[39m  *** DONE ***\n",
      "\u001b[36m[apify.facebook-pages-scraper runId:qwyXfWzAxGV5o0SJk]\u001b[0m -> Status: SUCCEEDED, Message: Finished! Total 1 requests: 1 succeeded, 0 failed.\n"
     ]
    },
    {
     "name": "stdout",
     "output_type": "stream",
     "text": [
      "🔍 Scraping: https://www.facebook.com/CharmDigitalMarketing\n"
     ]
    },
    {
     "name": "stderr",
     "output_type": "stream",
     "text": [
      "\u001b[36m[apify.facebook-pages-scraper runId:PJ46Hy7M5UYTjl0n6]\u001b[0m -> Status: RUNNING, Message: \n",
      "\u001b[36m[apify.facebook-pages-scraper runId:PJ46Hy7M5UYTjl0n6]\u001b[0m -> 2025-06-27T16:40:35.919Z ACTOR: Pulling Docker image of build fYUy7GidTW8TkhvRK from registry.\n",
      "\u001b[36m[apify.facebook-pages-scraper runId:PJ46Hy7M5UYTjl0n6]\u001b[0m -> 2025-06-27T16:40:35.926Z ACTOR: Creating Docker container.\n",
      "\u001b[36m[apify.facebook-pages-scraper runId:PJ46Hy7M5UYTjl0n6]\u001b[0m -> 2025-06-27T16:40:35.959Z ACTOR: Starting Docker container.\n",
      "\u001b[36m[apify.facebook-pages-scraper runId:PJ46Hy7M5UYTjl0n6]\u001b[0m -> 2025-06-27T16:40:37.961Z \u001b[32mINFO\u001b[39m  System info\u001b[90m {\"apifyVersion\":\"3.4.2\",\"apifyClientVersion\":\"2.12.5\",\"crawleeVersion\":\"3.13.7\",\"osType\":\"Linux\",\"nodeVersion\":\"v20.19.2\"}\u001b[39m\n",
      "\u001b[36m[apify.facebook-pages-scraper runId:PJ46Hy7M5UYTjl0n6]\u001b[0m -> 2025-06-27T16:40:38.050Z \u001b[32mINFO\u001b[39m  Results Limit undefined\n",
      "\u001b[36m[apify.facebook-pages-scraper runId:PJ46Hy7M5UYTjl0n6]\u001b[0m -> 2025-06-27T16:40:38.051Z \u001b[32mINFO\u001b[39m  pushDataMaxAware 343\n",
      "\u001b[36m[apify.facebook-pages-scraper runId:PJ46Hy7M5UYTjl0n6]\u001b[0m -> 2025-06-27T16:40:38.333Z \u001b[32mINFO\u001b[39m \u001b[33m CheerioCrawler:\u001b[39m Using the old RequestQueue implementation without request locking.\n",
      "\u001b[36m[apify.facebook-pages-scraper runId:PJ46Hy7M5UYTjl0n6]\u001b[0m -> Status: RUNNING, Message: Starting the crawler.\n",
      "\u001b[36m[apify.facebook-pages-scraper runId:PJ46Hy7M5UYTjl0n6]\u001b[0m -> Status: RUNNING, Message: Crawled 0/1 pages, 0 failed requests, desired concurrency 10.\n",
      "\u001b[36m[apify.facebook-pages-scraper runId:PJ46Hy7M5UYTjl0n6]\u001b[0m -> 2025-06-27T16:40:38.513Z \u001b[32mINFO\u001b[39m \u001b[33m CheerioCrawler:\u001b[39m Starting the crawler.\n",
      "\u001b[36m[apify.facebook-pages-scraper runId:PJ46Hy7M5UYTjl0n6]\u001b[0m -> 2025-06-27T16:40:48.992Z \u001b[32mINFO\u001b[39m  [PROGRESS]: Found 1 new page details, 1/343 for URL https://www.facebook.com/CharmDigitalMarketing\n",
      "\u001b[36m[apify.facebook-pages-scraper runId:PJ46Hy7M5UYTjl0n6]\u001b[0m -> 2025-06-27T16:40:49.180Z \u001b[32mINFO\u001b[39m \u001b[33m CheerioCrawler:\u001b[39m All requests from the queue have been processed, the crawler will shut down.\n",
      "\u001b[36m[apify.facebook-pages-scraper runId:PJ46Hy7M5UYTjl0n6]\u001b[0m -> 2025-06-27T16:40:49.251Z \u001b[32mINFO\u001b[39m \u001b[33m CheerioCrawler:\u001b[39m Final request statistics:\u001b[90m {\"requestsFinished\":1,\"requestsFailed\":0,\"retryHistogram\":[1],\"requestAvgFailedDurationMillis\":null,\"requestAvgFinishedDurationMillis\":10539,\"requestsFinishedPerMinute\":5,\"requestsFailedPerMinute\":0,\"requestTotalDurationMillis\":10539,\"requestsTotal\":1,\"crawlerRuntimeMillis\":10919}\u001b[39m\n",
      "\u001b[36m[apify.facebook-pages-scraper runId:PJ46Hy7M5UYTjl0n6]\u001b[0m -> 2025-06-27T16:40:49.254Z \u001b[32mINFO\u001b[39m \u001b[33m CheerioCrawler:\u001b[39m Finished! Total 1 requests: 1 succeeded, 0 failed.\u001b[90m {\"terminal\":true}\u001b[39m\n",
      "\u001b[36m[apify.facebook-pages-scraper runId:PJ46Hy7M5UYTjl0n6]\u001b[0m -> 2025-06-27T16:40:49.310Z \u001b[32mINFO\u001b[39m  *** DONE ***\n",
      "\u001b[36m[apify.facebook-pages-scraper runId:PJ46Hy7M5UYTjl0n6]\u001b[0m -> Status: SUCCEEDED, Message: Finished! Total 1 requests: 1 succeeded, 0 failed.\n"
     ]
    },
    {
     "name": "stdout",
     "output_type": "stream",
     "text": [
      "🔍 Scraping: https://www.facebook.com/NexgenPayments\n"
     ]
    },
    {
     "name": "stderr",
     "output_type": "stream",
     "text": [
      "\u001b[36m[apify.facebook-pages-scraper runId:oi3gf4hCdF2y4Vqpi]\u001b[0m -> Status: RUNNING, Message: \n",
      "\u001b[36m[apify.facebook-pages-scraper runId:oi3gf4hCdF2y4Vqpi]\u001b[0m -> 2025-06-27T16:40:57.263Z ACTOR: Pulling Docker image of build fYUy7GidTW8TkhvRK from registry.\n",
      "\u001b[36m[apify.facebook-pages-scraper runId:oi3gf4hCdF2y4Vqpi]\u001b[0m -> 2025-06-27T16:40:57.264Z ACTOR: Creating Docker container.\n",
      "\u001b[36m[apify.facebook-pages-scraper runId:oi3gf4hCdF2y4Vqpi]\u001b[0m -> 2025-06-27T16:40:57.308Z ACTOR: Starting Docker container.\n",
      "\u001b[36m[apify.facebook-pages-scraper runId:oi3gf4hCdF2y4Vqpi]\u001b[0m -> 2025-06-27T16:40:59.117Z \u001b[32mINFO\u001b[39m  System info\u001b[90m {\"apifyVersion\":\"3.4.2\",\"apifyClientVersion\":\"2.12.5\",\"crawleeVersion\":\"3.13.7\",\"osType\":\"Linux\",\"nodeVersion\":\"v20.19.2\"}\u001b[39m\n",
      "\u001b[36m[apify.facebook-pages-scraper runId:oi3gf4hCdF2y4Vqpi]\u001b[0m -> 2025-06-27T16:40:59.227Z \u001b[32mINFO\u001b[39m  Results Limit undefined\n",
      "\u001b[36m[apify.facebook-pages-scraper runId:oi3gf4hCdF2y4Vqpi]\u001b[0m -> 2025-06-27T16:40:59.228Z \u001b[32mINFO\u001b[39m  pushDataMaxAware 343\n",
      "\u001b[36m[apify.facebook-pages-scraper runId:oi3gf4hCdF2y4Vqpi]\u001b[0m -> 2025-06-27T16:40:59.569Z \u001b[32mINFO\u001b[39m \u001b[33m CheerioCrawler:\u001b[39m Using the old RequestQueue implementation without request locking.\n",
      "\u001b[36m[apify.facebook-pages-scraper runId:oi3gf4hCdF2y4Vqpi]\u001b[0m -> Status: RUNNING, Message: Starting the crawler.\n",
      "\u001b[36m[apify.facebook-pages-scraper runId:oi3gf4hCdF2y4Vqpi]\u001b[0m -> Status: RUNNING, Message: Crawled 0/1 pages, 0 failed requests, desired concurrency 10.\n",
      "\u001b[36m[apify.facebook-pages-scraper runId:oi3gf4hCdF2y4Vqpi]\u001b[0m -> 2025-06-27T16:40:59.773Z \u001b[32mINFO\u001b[39m \u001b[33m CheerioCrawler:\u001b[39m Starting the crawler.\n",
      "\u001b[36m[apify.facebook-pages-scraper runId:oi3gf4hCdF2y4Vqpi]\u001b[0m -> 2025-06-27T16:41:18.572Z \u001b[33mWARN\u001b[39m \u001b[33m CheerioCrawler:\u001b[39m Reclaiming failed request back to the list or queue. BLOCKED\n",
      "\u001b[36m[apify.facebook-pages-scraper runId:oi3gf4hCdF2y4Vqpi]\u001b[0m -> 2025-06-27T16:41:18.573Z     at getDetailsByAdditionalRequests (file:///usr/src/app/dist/src/src-facebook-pages/add-sections.js:50:19)\u001b[90m {\"id\":\"K1upazbU5ITmEXi\",\"url\":\"https://www.facebook.com/NexgenPayments\",\"retryCount\":1}\u001b[39m\n",
      "\u001b[36m[apify.facebook-pages-scraper runId:oi3gf4hCdF2y4Vqpi]\u001b[0m -> 2025-06-27T16:41:33.772Z \u001b[33mWARN\u001b[39m \u001b[33m CheerioCrawler:\u001b[39m Reclaiming failed request back to the list or queue. BLOCKED\n",
      "\u001b[36m[apify.facebook-pages-scraper runId:oi3gf4hCdF2y4Vqpi]\u001b[0m -> 2025-06-27T16:41:33.773Z     at getDetailsByAdditionalRequests (file:///usr/src/app/dist/src/src-facebook-pages/add-sections.js:50:19)\u001b[90m {\"id\":\"K1upazbU5ITmEXi\",\"url\":\"https://www.facebook.com/NexgenPayments\",\"retryCount\":2}\u001b[39m\n",
      "\u001b[36m[apify.facebook-pages-scraper runId:oi3gf4hCdF2y4Vqpi]\u001b[0m -> 2025-06-27T16:41:48.324Z \u001b[32mINFO\u001b[39m  [PROGRESS]: Found 1 new page details, 1/343 for URL https://www.facebook.com/NexgenPayments\n",
      "\u001b[36m[apify.facebook-pages-scraper runId:oi3gf4hCdF2y4Vqpi]\u001b[0m -> 2025-06-27T16:41:48.523Z \u001b[32mINFO\u001b[39m \u001b[33m CheerioCrawler:\u001b[39m All requests from the queue have been processed, the crawler will shut down.\n",
      "\u001b[36m[apify.facebook-pages-scraper runId:oi3gf4hCdF2y4Vqpi]\u001b[0m -> 2025-06-27T16:41:48.671Z \u001b[32mINFO\u001b[39m \u001b[33m CheerioCrawler:\u001b[39m Final request statistics:\u001b[90m {\"requestsFinished\":1,\"requestsFailed\":0,\"retryHistogram\":[null,null,1],\"requestAvgFailedDurationMillis\":null,\"requestAvgFinishedDurationMillis\":11395,\"requestsFinishedPerMinute\":1,\"requestsFailedPerMinute\":0,\"requestTotalDurationMillis\":11395,\"requestsTotal\":1,\"crawlerRuntimeMillis\":49103}\u001b[39m\n",
      "\u001b[36m[apify.facebook-pages-scraper runId:oi3gf4hCdF2y4Vqpi]\u001b[0m -> 2025-06-27T16:41:48.672Z \u001b[32mINFO\u001b[39m \u001b[33m CheerioCrawler:\u001b[39m Finished! Total 1 requests: 1 succeeded, 0 failed.\u001b[90m {\"terminal\":true}\u001b[39m\n",
      "\u001b[36m[apify.facebook-pages-scraper runId:oi3gf4hCdF2y4Vqpi]\u001b[0m -> 2025-06-27T16:41:48.726Z \u001b[32mINFO\u001b[39m  *** DONE ***\n",
      "\u001b[36m[apify.facebook-pages-scraper runId:oi3gf4hCdF2y4Vqpi]\u001b[0m -> Status: SUCCEEDED, Message: Finished! Total 1 requests: 1 succeeded, 0 failed.\n"
     ]
    },
    {
     "name": "stdout",
     "output_type": "stream",
     "text": [
      "🔍 Scraping: https://www.facebook.com/BusinessPerformanceHQ\n"
     ]
    },
    {
     "name": "stderr",
     "output_type": "stream",
     "text": [
      "\u001b[36m[apify.facebook-pages-scraper runId:VkHkB8CRBx1kj3nXe]\u001b[0m -> Status: RUNNING, Message: \n",
      "\u001b[36m[apify.facebook-pages-scraper runId:VkHkB8CRBx1kj3nXe]\u001b[0m -> 2025-06-27T16:41:57.010Z ACTOR: Pulling Docker image of build fYUy7GidTW8TkhvRK from registry.\n",
      "\u001b[36m[apify.facebook-pages-scraper runId:VkHkB8CRBx1kj3nXe]\u001b[0m -> 2025-06-27T16:41:57.012Z ACTOR: Creating Docker container.\n",
      "\u001b[36m[apify.facebook-pages-scraper runId:VkHkB8CRBx1kj3nXe]\u001b[0m -> 2025-06-27T16:41:57.194Z ACTOR: Starting Docker container.\n",
      "\u001b[36m[apify.facebook-pages-scraper runId:VkHkB8CRBx1kj3nXe]\u001b[0m -> 2025-06-27T16:41:58.892Z \u001b[32mINFO\u001b[39m  System info\u001b[90m {\"apifyVersion\":\"3.4.2\",\"apifyClientVersion\":\"2.12.5\",\"crawleeVersion\":\"3.13.7\",\"osType\":\"Linux\",\"nodeVersion\":\"v20.19.2\"}\u001b[39m\n",
      "\u001b[36m[apify.facebook-pages-scraper runId:VkHkB8CRBx1kj3nXe]\u001b[0m -> 2025-06-27T16:41:58.998Z \u001b[32mINFO\u001b[39m  Results Limit undefined\n",
      "\u001b[36m[apify.facebook-pages-scraper runId:VkHkB8CRBx1kj3nXe]\u001b[0m -> 2025-06-27T16:41:59.001Z \u001b[32mINFO\u001b[39m  pushDataMaxAware 343\n",
      "\u001b[36m[apify.facebook-pages-scraper runId:VkHkB8CRBx1kj3nXe]\u001b[0m -> 2025-06-27T16:41:59.392Z \u001b[32mINFO\u001b[39m \u001b[33m CheerioCrawler:\u001b[39m Using the old RequestQueue implementation without request locking.\n",
      "\u001b[36m[apify.facebook-pages-scraper runId:VkHkB8CRBx1kj3nXe]\u001b[0m -> Status: RUNNING, Message: Starting the crawler.\n",
      "\u001b[36m[apify.facebook-pages-scraper runId:VkHkB8CRBx1kj3nXe]\u001b[0m -> Status: RUNNING, Message: Crawled 0/1 pages, 0 failed requests, desired concurrency 10.\n",
      "\u001b[36m[apify.facebook-pages-scraper runId:VkHkB8CRBx1kj3nXe]\u001b[0m -> 2025-06-27T16:41:59.569Z \u001b[32mINFO\u001b[39m \u001b[33m CheerioCrawler:\u001b[39m Starting the crawler.\n",
      "\u001b[36m[apify.facebook-pages-scraper runId:VkHkB8CRBx1kj3nXe]\u001b[0m -> 2025-06-27T16:42:37.420Z \u001b[33mWARN\u001b[39m \u001b[33m CheerioCrawler:\u001b[39m Reclaiming failed request back to the list or queue. Timeout awaiting 'request' for 30000ms\n",
      "\u001b[36m[apify.facebook-pages-scraper runId:VkHkB8CRBx1kj3nXe]\u001b[0m -> 2025-06-27T16:42:37.422Z \u001b[90m {\"id\":\"XpNCWFQllGhdn9H\",\"url\":\"https://www.facebook.com/BusinessPerformanceHQ\",\"retryCount\":1}\u001b[39m\n",
      "\u001b[36m[apify.facebook-pages-scraper runId:VkHkB8CRBx1kj3nXe]\u001b[0m -> 2025-06-27T16:42:54.394Z \u001b[32mINFO\u001b[39m  [PROGRESS]: Found 1 new page details, 1/343 for URL https://www.facebook.com/BusinessPerformanceHQ\n",
      "\u001b[36m[apify.facebook-pages-scraper runId:VkHkB8CRBx1kj3nXe]\u001b[0m -> 2025-06-27T16:42:54.585Z \u001b[32mINFO\u001b[39m \u001b[33m CheerioCrawler:\u001b[39m All requests from the queue have been processed, the crawler will shut down.\n",
      "\u001b[36m[apify.facebook-pages-scraper runId:VkHkB8CRBx1kj3nXe]\u001b[0m -> 2025-06-27T16:42:54.757Z \u001b[32mINFO\u001b[39m \u001b[33m CheerioCrawler:\u001b[39m Final request statistics:\u001b[90m {\"requestsFinished\":1,\"requestsFailed\":0,\"retryHistogram\":[null,1],\"requestAvgFailedDurationMillis\":null,\"requestAvgFinishedDurationMillis\":13754,\"requestsFinishedPerMinute\":1,\"requestsFailedPerMinute\":0,\"requestTotalDurationMillis\":13754,\"requestsTotal\":1,\"crawlerRuntimeMillis\":55365}\u001b[39m\n",
      "\u001b[36m[apify.facebook-pages-scraper runId:VkHkB8CRBx1kj3nXe]\u001b[0m -> 2025-06-27T16:42:54.759Z \u001b[32mINFO\u001b[39m \u001b[33m CheerioCrawler:\u001b[39m Finished! Total 1 requests: 1 succeeded, 0 failed.\u001b[90m {\"terminal\":true}\u001b[39m\n",
      "\u001b[36m[apify.facebook-pages-scraper runId:VkHkB8CRBx1kj3nXe]\u001b[0m -> 2025-06-27T16:42:54.836Z \u001b[32mINFO\u001b[39m  *** DONE ***\n",
      "\u001b[36m[apify.facebook-pages-scraper runId:VkHkB8CRBx1kj3nXe]\u001b[0m -> Status: SUCCEEDED, Message: Finished! Total 1 requests: 1 succeeded, 0 failed.\n"
     ]
    },
    {
     "name": "stdout",
     "output_type": "stream",
     "text": [
      "🔍 Scraping: https://www.facebook.com/BroncoRoofing-SCorp\n"
     ]
    },
    {
     "name": "stderr",
     "output_type": "stream",
     "text": [
      "\u001b[36m[apify.facebook-pages-scraper runId:tb3ewKGDm2NwfkOQI]\u001b[0m -> Status: RUNNING, Message: \n",
      "\u001b[36m[apify.facebook-pages-scraper runId:tb3ewKGDm2NwfkOQI]\u001b[0m -> 2025-06-27T16:43:02.738Z ACTOR: Pulling Docker image of build fYUy7GidTW8TkhvRK from registry.\n",
      "\u001b[36m[apify.facebook-pages-scraper runId:tb3ewKGDm2NwfkOQI]\u001b[0m -> 2025-06-27T16:43:02.741Z ACTOR: Creating Docker container.\n",
      "\u001b[36m[apify.facebook-pages-scraper runId:tb3ewKGDm2NwfkOQI]\u001b[0m -> 2025-06-27T16:43:02.940Z ACTOR: Starting Docker container.\n",
      "\u001b[36m[apify.facebook-pages-scraper runId:tb3ewKGDm2NwfkOQI]\u001b[0m -> 2025-06-27T16:43:04.645Z \u001b[32mINFO\u001b[39m  System info\u001b[90m {\"apifyVersion\":\"3.4.2\",\"apifyClientVersion\":\"2.12.5\",\"crawleeVersion\":\"3.13.7\",\"osType\":\"Linux\",\"nodeVersion\":\"v20.19.2\"}\u001b[39m\n",
      "\u001b[36m[apify.facebook-pages-scraper runId:tb3ewKGDm2NwfkOQI]\u001b[0m -> 2025-06-27T16:43:04.796Z \u001b[32mINFO\u001b[39m  Results Limit undefined\n",
      "\u001b[36m[apify.facebook-pages-scraper runId:tb3ewKGDm2NwfkOQI]\u001b[0m -> 2025-06-27T16:43:04.800Z \u001b[32mINFO\u001b[39m  pushDataMaxAware 330\n",
      "\u001b[36m[apify.facebook-pages-scraper runId:tb3ewKGDm2NwfkOQI]\u001b[0m -> 2025-06-27T16:43:05.153Z \u001b[32mINFO\u001b[39m \u001b[33m CheerioCrawler:\u001b[39m Using the old RequestQueue implementation without request locking.\n",
      "\u001b[36m[apify.facebook-pages-scraper runId:tb3ewKGDm2NwfkOQI]\u001b[0m -> Status: RUNNING, Message: Starting the crawler.\n",
      "\u001b[36m[apify.facebook-pages-scraper runId:tb3ewKGDm2NwfkOQI]\u001b[0m -> 2025-06-27T16:43:05.466Z \u001b[32mINFO\u001b[39m \u001b[33m CheerioCrawler:\u001b[39m Starting the crawler.\n",
      "\u001b[36m[apify.facebook-pages-scraper runId:tb3ewKGDm2NwfkOQI]\u001b[0m -> 2025-06-27T16:43:08.530Z \u001b[32mINFO\u001b[39m \u001b[33m CheerioCrawler:\u001b[39m All requests from the queue have been processed, the crawler will shut down.\n",
      "\u001b[36m[apify.facebook-pages-scraper runId:tb3ewKGDm2NwfkOQI]\u001b[0m -> 2025-06-27T16:43:08.614Z \u001b[32mINFO\u001b[39m \u001b[33m CheerioCrawler:\u001b[39m Final request statistics:\u001b[90m {\"requestsFinished\":1,\"requestsFailed\":0,\"retryHistogram\":[1],\"requestAvgFailedDurationMillis\":null,\"requestAvgFinishedDurationMillis\":2957,\"requestsFinishedPerMinute\":17,\"requestsFailedPerMinute\":0,\"requestTotalDurationMillis\":2957,\"requestsTotal\":1,\"crawlerRuntimeMillis\":3461}\u001b[39m\n",
      "\u001b[36m[apify.facebook-pages-scraper runId:tb3ewKGDm2NwfkOQI]\u001b[0m -> Status: RUNNING, Message: Finished! Total 1 requests: 1 succeeded, 0 failed.\n",
      "\u001b[36m[apify.facebook-pages-scraper runId:tb3ewKGDm2NwfkOQI]\u001b[0m -> 2025-06-27T16:43:08.616Z \u001b[32mINFO\u001b[39m \u001b[33m CheerioCrawler:\u001b[39m Finished! Total 1 requests: 1 succeeded, 0 failed.\u001b[90m {\"terminal\":true}\u001b[39m\n",
      "\u001b[36m[apify.facebook-pages-scraper runId:tb3ewKGDm2NwfkOQI]\u001b[0m -> 2025-06-27T16:43:08.664Z \u001b[32mINFO\u001b[39m  *** DONE ***\n"
     ]
    },
    {
     "name": "stdout",
     "output_type": "stream",
     "text": [
      "🔍 Scraping: https://www.facebook.com/Builder'sConciergeGroup\n"
     ]
    },
    {
     "name": "stderr",
     "output_type": "stream",
     "text": [
      "\u001b[36m[apify.facebook-pages-scraper runId:bSMv7wJFYZJgyYq5j]\u001b[0m -> Status: RUNNING, Message: \n",
      "\u001b[36m[apify.facebook-pages-scraper runId:bSMv7wJFYZJgyYq5j]\u001b[0m -> Status: RUNNING, Message: Starting the crawler.\n",
      "\u001b[36m[apify.facebook-pages-scraper runId:bSMv7wJFYZJgyYq5j]\u001b[0m -> 2025-06-27T16:43:19.783Z ACTOR: Pulling Docker image of build fYUy7GidTW8TkhvRK from registry.\n",
      "\u001b[36m[apify.facebook-pages-scraper runId:bSMv7wJFYZJgyYq5j]\u001b[0m -> 2025-06-27T16:43:19.784Z ACTOR: Creating Docker container.\n",
      "\u001b[36m[apify.facebook-pages-scraper runId:bSMv7wJFYZJgyYq5j]\u001b[0m -> 2025-06-27T16:43:19.823Z ACTOR: Starting Docker container.\n",
      "\u001b[36m[apify.facebook-pages-scraper runId:bSMv7wJFYZJgyYq5j]\u001b[0m -> 2025-06-27T16:43:21.155Z \u001b[32mINFO\u001b[39m  System info\u001b[90m {\"apifyVersion\":\"3.4.2\",\"apifyClientVersion\":\"2.12.5\",\"crawleeVersion\":\"3.13.7\",\"osType\":\"Linux\",\"nodeVersion\":\"v20.19.2\"}\u001b[39m\n",
      "\u001b[36m[apify.facebook-pages-scraper runId:bSMv7wJFYZJgyYq5j]\u001b[0m -> 2025-06-27T16:43:21.260Z \u001b[32mINFO\u001b[39m  Results Limit undefined\n",
      "\u001b[36m[apify.facebook-pages-scraper runId:bSMv7wJFYZJgyYq5j]\u001b[0m -> 2025-06-27T16:43:21.262Z \u001b[32mINFO\u001b[39m  pushDataMaxAware 330\n",
      "\u001b[36m[apify.facebook-pages-scraper runId:bSMv7wJFYZJgyYq5j]\u001b[0m -> 2025-06-27T16:43:21.542Z \u001b[32mINFO\u001b[39m \u001b[33m CheerioCrawler:\u001b[39m Using the old RequestQueue implementation without request locking.\n",
      "\u001b[36m[apify.facebook-pages-scraper runId:bSMv7wJFYZJgyYq5j]\u001b[0m -> 2025-06-27T16:43:21.783Z \u001b[32mINFO\u001b[39m \u001b[33m CheerioCrawler:\u001b[39m Starting the crawler.\n",
      "\u001b[36m[apify.facebook-pages-scraper runId:bSMv7wJFYZJgyYq5j]\u001b[0m -> 2025-06-27T16:43:25.326Z \u001b[32mINFO\u001b[39m \u001b[33m CheerioCrawler:\u001b[39m All requests from the queue have been processed, the crawler will shut down.\n",
      "\u001b[36m[apify.facebook-pages-scraper runId:bSMv7wJFYZJgyYq5j]\u001b[0m -> 2025-06-27T16:43:25.390Z \u001b[32mINFO\u001b[39m \u001b[33m CheerioCrawler:\u001b[39m Final request statistics:\u001b[90m {\"requestsFinished\":1,\"requestsFailed\":0,\"retryHistogram\":[1],\"requestAvgFailedDurationMillis\":null,\"requestAvgFinishedDurationMillis\":3414,\"requestsFinishedPerMinute\":16,\"requestsFailedPerMinute\":0,\"requestTotalDurationMillis\":3414,\"requestsTotal\":1,\"crawlerRuntimeMillis\":3859}\u001b[39m\n",
      "\u001b[36m[apify.facebook-pages-scraper runId:bSMv7wJFYZJgyYq5j]\u001b[0m -> 2025-06-27T16:43:25.393Z \u001b[32mINFO\u001b[39m \u001b[33m CheerioCrawler:\u001b[39m Finished! Total 1 requests: 1 succeeded, 0 failed.\u001b[90m {\"terminal\":true}\u001b[39m\n",
      "\u001b[36m[apify.facebook-pages-scraper runId:bSMv7wJFYZJgyYq5j]\u001b[0m -> 2025-06-27T16:43:25.446Z \u001b[32mINFO\u001b[39m  *** DONE ***\n",
      "\u001b[36m[apify.facebook-pages-scraper runId:bSMv7wJFYZJgyYq5j]\u001b[0m -> Status: SUCCEEDED, Message: Finished! Total 1 requests: 1 succeeded, 0 failed.\n"
     ]
    },
    {
     "name": "stdout",
     "output_type": "stream",
     "text": [
      "🔍 Scraping: https://www.facebook.com/Metavative\n"
     ]
    },
    {
     "name": "stderr",
     "output_type": "stream",
     "text": [
      "\u001b[36m[apify.facebook-pages-scraper runId:b95hXrL0ibaXiGnCR]\u001b[0m -> Status: RUNNING, Message: \n",
      "\u001b[36m[apify.facebook-pages-scraper runId:b95hXrL0ibaXiGnCR]\u001b[0m -> Status: RUNNING, Message: Starting the crawler.\n",
      "\u001b[36m[apify.facebook-pages-scraper runId:b95hXrL0ibaXiGnCR]\u001b[0m -> 2025-06-27T16:43:33.758Z ACTOR: Pulling Docker image of build fYUy7GidTW8TkhvRK from registry.\n",
      "\u001b[36m[apify.facebook-pages-scraper runId:b95hXrL0ibaXiGnCR]\u001b[0m -> 2025-06-27T16:43:33.761Z ACTOR: Creating Docker container.\n",
      "\u001b[36m[apify.facebook-pages-scraper runId:b95hXrL0ibaXiGnCR]\u001b[0m -> 2025-06-27T16:43:33.816Z ACTOR: Starting Docker container.\n",
      "\u001b[36m[apify.facebook-pages-scraper runId:b95hXrL0ibaXiGnCR]\u001b[0m -> 2025-06-27T16:43:35.556Z \u001b[32mINFO\u001b[39m  System info\u001b[90m {\"apifyVersion\":\"3.4.2\",\"apifyClientVersion\":\"2.12.5\",\"crawleeVersion\":\"3.13.7\",\"osType\":\"Linux\",\"nodeVersion\":\"v20.19.2\"}\u001b[39m\n",
      "\u001b[36m[apify.facebook-pages-scraper runId:b95hXrL0ibaXiGnCR]\u001b[0m -> 2025-06-27T16:43:35.677Z \u001b[32mINFO\u001b[39m  Results Limit undefined\n",
      "\u001b[36m[apify.facebook-pages-scraper runId:b95hXrL0ibaXiGnCR]\u001b[0m -> 2025-06-27T16:43:35.679Z \u001b[32mINFO\u001b[39m  pushDataMaxAware 330\n",
      "\u001b[36m[apify.facebook-pages-scraper runId:b95hXrL0ibaXiGnCR]\u001b[0m -> 2025-06-27T16:43:35.989Z \u001b[32mINFO\u001b[39m \u001b[33m CheerioCrawler:\u001b[39m Using the old RequestQueue implementation without request locking.\n",
      "\u001b[36m[apify.facebook-pages-scraper runId:b95hXrL0ibaXiGnCR]\u001b[0m -> Status: RUNNING, Message: Crawled 0/1 pages, 0 failed requests, desired concurrency 10.\n",
      "\u001b[36m[apify.facebook-pages-scraper runId:b95hXrL0ibaXiGnCR]\u001b[0m -> 2025-06-27T16:43:36.136Z \u001b[32mINFO\u001b[39m \u001b[33m CheerioCrawler:\u001b[39m Starting the crawler.\n",
      "\u001b[36m[apify.facebook-pages-scraper runId:b95hXrL0ibaXiGnCR]\u001b[0m -> 2025-06-27T16:44:06.202Z \u001b[33mWARN\u001b[39m \u001b[33m CheerioCrawler:\u001b[39m Reclaiming failed request back to the list or queue. request timed out after 30 seconds.\u001b[90m {\"id\":\"9IqqPqlau0n6hmO\",\"url\":\"https://www.facebook.com/Metavative\",\"retryCount\":1}\u001b[39m\n",
      "\u001b[36m[apify.facebook-pages-scraper runId:b95hXrL0ibaXiGnCR]\u001b[0m -> 2025-06-27T16:44:31.296Z \u001b[33mWARN\u001b[39m \u001b[33m CheerioCrawler:\u001b[39m Reclaiming failed request back to the list or queue. BLOCKED\n",
      "\u001b[36m[apify.facebook-pages-scraper runId:b95hXrL0ibaXiGnCR]\u001b[0m -> 2025-06-27T16:44:31.302Z     at getDetailsByAdditionalRequests (file:///usr/src/app/dist/src/src-facebook-pages/add-sections.js:50:19)\u001b[90m {\"id\":\"9IqqPqlau0n6hmO\",\"url\":\"https://www.facebook.com/Metavative\",\"retryCount\":2}\u001b[39m\n",
      "\u001b[36m[apify.facebook-pages-scraper runId:b95hXrL0ibaXiGnCR]\u001b[0m -> 2025-06-27T16:44:36.136Z \u001b[32mINFO\u001b[39m \u001b[33m CheerioCrawler:Statistics:\u001b[39m CheerioCrawler request statistics:\u001b[90m {\"requestAvgFailedDurationMillis\":null,\"requestAvgFinishedDurationMillis\":null,\"requestsFinishedPerMinute\":0,\"requestsFailedPerMinute\":0,\"requestTotalDurationMillis\":0,\"requestsTotal\":0,\"crawlerRuntimeMillis\":60147,\"retryHistogram\":[]}\u001b[39m\n",
      "\u001b[36m[apify.facebook-pages-scraper runId:b95hXrL0ibaXiGnCR]\u001b[0m -> 2025-06-27T16:44:36.190Z \u001b[32mINFO\u001b[39m \u001b[33m CheerioCrawler:AutoscaledPool:\u001b[39m state\u001b[90m {\"currentConcurrency\":1,\"desiredConcurrency\":10,\"systemStatus\":{\"isSystemIdle\":true,\"memInfo\":{\"isOverloaded\":false,\"limitRatio\":0.2,\"actualRatio\":0},\"eventLoopInfo\":{\"isOverloaded\":false,\"limitRatio\":0.7,\"actualRatio\":0.095},\"cpuInfo\":{\"isOverloaded\":false,\"limitRatio\":0.4,\"actualRatio\":0.069},\"clientInfo\":{\"isOverloaded\":false,\"limitRatio\":0.3,\"actualRatio\":0}}}\u001b[39m\n",
      "\u001b[36m[apify.facebook-pages-scraper runId:b95hXrL0ibaXiGnCR]\u001b[0m -> 2025-06-27T16:44:49.596Z \u001b[32mINFO\u001b[39m  [PROGRESS]: Found 1 new page details, 1/330 for URL https://www.facebook.com/Metavative\n",
      "\u001b[36m[apify.facebook-pages-scraper runId:b95hXrL0ibaXiGnCR]\u001b[0m -> 2025-06-27T16:44:49.808Z \u001b[32mINFO\u001b[39m \u001b[33m CheerioCrawler:\u001b[39m All requests from the queue have been processed, the crawler will shut down.\n",
      "\u001b[36m[apify.facebook-pages-scraper runId:b95hXrL0ibaXiGnCR]\u001b[0m -> 2025-06-27T16:44:49.890Z \u001b[32mINFO\u001b[39m \u001b[33m CheerioCrawler:\u001b[39m Final request statistics:\u001b[90m {\"requestsFinished\":1,\"requestsFailed\":0,\"retryHistogram\":[null,null,1],\"requestAvgFailedDurationMillis\":null,\"requestAvgFinishedDurationMillis\":15064,\"requestsFinishedPerMinute\":1,\"requestsFailedPerMinute\":0,\"requestTotalDurationMillis\":15064,\"requestsTotal\":1,\"crawlerRuntimeMillis\":73901}\u001b[39m\n",
      "\u001b[36m[apify.facebook-pages-scraper runId:b95hXrL0ibaXiGnCR]\u001b[0m -> Status: RUNNING, Message: Finished! Total 1 requests: 1 succeeded, 0 failed.\n",
      "\u001b[36m[apify.facebook-pages-scraper runId:b95hXrL0ibaXiGnCR]\u001b[0m -> 2025-06-27T16:44:49.892Z \u001b[32mINFO\u001b[39m \u001b[33m CheerioCrawler:\u001b[39m Finished! Total 1 requests: 1 succeeded, 0 failed.\u001b[90m {\"terminal\":true}\u001b[39m\n",
      "\u001b[36m[apify.facebook-pages-scraper runId:b95hXrL0ibaXiGnCR]\u001b[0m -> 2025-06-27T16:44:49.957Z \u001b[32mINFO\u001b[39m  *** DONE ***\n"
     ]
    },
    {
     "name": "stdout",
     "output_type": "stream",
     "text": [
      "🔍 Scraping: https://www.facebook.com/dmcontainerhouse\n"
     ]
    },
    {
     "name": "stderr",
     "output_type": "stream",
     "text": [
      "\u001b[36m[apify.facebook-pages-scraper runId:BxSmtcIKxcKjcJjin]\u001b[0m -> Status: RUNNING, Message: \n",
      "\u001b[36m[apify.facebook-pages-scraper runId:BxSmtcIKxcKjcJjin]\u001b[0m -> 2025-06-27T16:44:57.898Z ACTOR: Pulling Docker image of build fYUy7GidTW8TkhvRK from registry.\n",
      "\u001b[36m[apify.facebook-pages-scraper runId:BxSmtcIKxcKjcJjin]\u001b[0m -> 2025-06-27T16:44:57.900Z ACTOR: Creating Docker container.\n",
      "\u001b[36m[apify.facebook-pages-scraper runId:BxSmtcIKxcKjcJjin]\u001b[0m -> 2025-06-27T16:44:57.954Z ACTOR: Starting Docker container.\n",
      "\u001b[36m[apify.facebook-pages-scraper runId:BxSmtcIKxcKjcJjin]\u001b[0m -> 2025-06-27T16:44:59.432Z \u001b[32mINFO\u001b[39m  System info\u001b[90m {\"apifyVersion\":\"3.4.2\",\"apifyClientVersion\":\"2.12.5\",\"crawleeVersion\":\"3.13.7\",\"osType\":\"Linux\",\"nodeVersion\":\"v20.19.2\"}\u001b[39m\n",
      "\u001b[36m[apify.facebook-pages-scraper runId:BxSmtcIKxcKjcJjin]\u001b[0m -> 2025-06-27T16:44:59.571Z \u001b[32mINFO\u001b[39m  Results Limit undefined\n",
      "\u001b[36m[apify.facebook-pages-scraper runId:BxSmtcIKxcKjcJjin]\u001b[0m -> 2025-06-27T16:44:59.574Z \u001b[32mINFO\u001b[39m  pushDataMaxAware 330\n",
      "\u001b[36m[apify.facebook-pages-scraper runId:BxSmtcIKxcKjcJjin]\u001b[0m -> 2025-06-27T16:44:59.849Z \u001b[32mINFO\u001b[39m \u001b[33m CheerioCrawler:\u001b[39m Using the old RequestQueue implementation without request locking.\n",
      "\u001b[36m[apify.facebook-pages-scraper runId:BxSmtcIKxcKjcJjin]\u001b[0m -> Status: RUNNING, Message: Starting the crawler.\n",
      "\u001b[36m[apify.facebook-pages-scraper runId:BxSmtcIKxcKjcJjin]\u001b[0m -> 2025-06-27T16:45:00.025Z \u001b[32mINFO\u001b[39m \u001b[33m CheerioCrawler:\u001b[39m Starting the crawler.\n",
      "\u001b[36m[apify.facebook-pages-scraper runId:BxSmtcIKxcKjcJjin]\u001b[0m -> 2025-06-27T16:45:07.553Z \u001b[33mWARN\u001b[39m \u001b[33m CheerioCrawler:\u001b[39m Reclaiming failed request back to the list or queue. The proxy server rejected the request with status code 590 (UPSTREAM502)\n",
      "\u001b[36m[apify.facebook-pages-scraper runId:BxSmtcIKxcKjcJjin]\u001b[0m -> Status: RUNNING, Message: Crawled 0/1 pages, 0 failed requests, desired concurrency 10.\n",
      "\u001b[36m[apify.facebook-pages-scraper runId:BxSmtcIKxcKjcJjin]\u001b[0m -> 2025-06-27T16:45:07.557Z \u001b[90m {\"id\":\"v8dWg1FyI0jEe33\",\"url\":\"https://www.facebook.com/dmcontainerhouse\",\"retryCount\":1}\u001b[39m\n",
      "\u001b[36m[apify.facebook-pages-scraper runId:BxSmtcIKxcKjcJjin]\u001b[0m -> 2025-06-27T16:45:20.494Z \u001b[33mWARN\u001b[39m \u001b[33m CheerioCrawler:\u001b[39m Reclaiming failed request back to the list or queue. BLOCKED\n",
      "\u001b[36m[apify.facebook-pages-scraper runId:BxSmtcIKxcKjcJjin]\u001b[0m -> 2025-06-27T16:45:20.497Z     at getDetailsByAdditionalRequests (file:///usr/src/app/dist/src/src-facebook-pages/add-sections.js:50:19)\u001b[90m {\"id\":\"v8dWg1FyI0jEe33\",\"url\":\"https://www.facebook.com/dmcontainerhouse\",\"retryCount\":2}\u001b[39m\n",
      "\u001b[36m[apify.facebook-pages-scraper runId:BxSmtcIKxcKjcJjin]\u001b[0m -> 2025-06-27T16:45:33.437Z \u001b[32mINFO\u001b[39m  [PROGRESS]: Found 1 new page details, 1/330 for URL https://www.facebook.com/dmcontainerhouse\n",
      "\u001b[36m[apify.facebook-pages-scraper runId:BxSmtcIKxcKjcJjin]\u001b[0m -> 2025-06-27T16:45:33.549Z \u001b[32mINFO\u001b[39m \u001b[33m CheerioCrawler:\u001b[39m All requests from the queue have been processed, the crawler will shut down.\n",
      "\u001b[36m[apify.facebook-pages-scraper runId:BxSmtcIKxcKjcJjin]\u001b[0m -> 2025-06-27T16:45:33.798Z \u001b[32mINFO\u001b[39m \u001b[33m CheerioCrawler:\u001b[39m Final request statistics:\u001b[90m {\"requestsFinished\":1,\"requestsFailed\":0,\"retryHistogram\":[null,null,1],\"requestAvgFailedDurationMillis\":null,\"requestAvgFinishedDurationMillis\":9559,\"requestsFinishedPerMinute\":2,\"requestsFailedPerMinute\":0,\"requestTotalDurationMillis\":9559,\"requestsTotal\":1,\"crawlerRuntimeMillis\":33948}\u001b[39m\n",
      "\u001b[36m[apify.facebook-pages-scraper runId:BxSmtcIKxcKjcJjin]\u001b[0m -> 2025-06-27T16:45:33.802Z \u001b[32mINFO\u001b[39m \u001b[33m CheerioCrawler:\u001b[39m Finished! Total 1 requests: 1 succeeded, 0 failed.\u001b[90m {\"terminal\":true}\u001b[39m\n",
      "\u001b[36m[apify.facebook-pages-scraper runId:BxSmtcIKxcKjcJjin]\u001b[0m -> 2025-06-27T16:45:33.917Z \u001b[32mINFO\u001b[39m  *** DONE ***\n",
      "\u001b[36m[apify.facebook-pages-scraper runId:BxSmtcIKxcKjcJjin]\u001b[0m -> Status: SUCCEEDED, Message: Finished! Total 1 requests: 1 succeeded, 0 failed.\n"
     ]
    },
    {
     "name": "stdout",
     "output_type": "stream",
     "text": [
      "🔍 Scraping: https://www.facebook.com/ZahraDigitalMarketing\n"
     ]
    },
    {
     "name": "stderr",
     "output_type": "stream",
     "text": [
      "\u001b[36m[apify.facebook-pages-scraper runId:u0yea1aXpz96MWvaU]\u001b[0m -> Status: RUNNING, Message: \n",
      "\u001b[36m[apify.facebook-pages-scraper runId:u0yea1aXpz96MWvaU]\u001b[0m -> 2025-06-27T16:45:41.942Z ACTOR: Pulling Docker image of build fYUy7GidTW8TkhvRK from registry.\n",
      "\u001b[36m[apify.facebook-pages-scraper runId:u0yea1aXpz96MWvaU]\u001b[0m -> 2025-06-27T16:45:41.945Z ACTOR: Creating Docker container.\n",
      "\u001b[36m[apify.facebook-pages-scraper runId:u0yea1aXpz96MWvaU]\u001b[0m -> 2025-06-27T16:45:41.997Z ACTOR: Starting Docker container.\n",
      "\u001b[36m[apify.facebook-pages-scraper runId:u0yea1aXpz96MWvaU]\u001b[0m -> 2025-06-27T16:45:44.122Z \u001b[32mINFO\u001b[39m  System info\u001b[90m {\"apifyVersion\":\"3.4.2\",\"apifyClientVersion\":\"2.12.5\",\"crawleeVersion\":\"3.13.7\",\"osType\":\"Linux\",\"nodeVersion\":\"v20.19.2\"}\u001b[39m\n",
      "\u001b[36m[apify.facebook-pages-scraper runId:u0yea1aXpz96MWvaU]\u001b[0m -> 2025-06-27T16:45:44.268Z \u001b[32mINFO\u001b[39m  Results Limit undefined\n",
      "\u001b[36m[apify.facebook-pages-scraper runId:u0yea1aXpz96MWvaU]\u001b[0m -> 2025-06-27T16:45:44.270Z \u001b[32mINFO\u001b[39m  pushDataMaxAware 330\n",
      "\u001b[36m[apify.facebook-pages-scraper runId:u0yea1aXpz96MWvaU]\u001b[0m -> 2025-06-27T16:45:44.708Z \u001b[32mINFO\u001b[39m \u001b[33m CheerioCrawler:\u001b[39m Using the old RequestQueue implementation without request locking.\n",
      "\u001b[36m[apify.facebook-pages-scraper runId:u0yea1aXpz96MWvaU]\u001b[0m -> Status: RUNNING, Message: Starting the crawler.\n",
      "\u001b[36m[apify.facebook-pages-scraper runId:u0yea1aXpz96MWvaU]\u001b[0m -> 2025-06-27T16:45:44.989Z \u001b[32mINFO\u001b[39m \u001b[33m CheerioCrawler:\u001b[39m Starting the crawler.\n",
      "\u001b[36m[apify.facebook-pages-scraper runId:u0yea1aXpz96MWvaU]\u001b[0m -> 2025-06-27T16:45:50.117Z \u001b[32mINFO\u001b[39m \u001b[33m CheerioCrawler:\u001b[39m All requests from the queue have been processed, the crawler will shut down.\n",
      "\u001b[36m[apify.facebook-pages-scraper runId:u0yea1aXpz96MWvaU]\u001b[0m -> 2025-06-27T16:45:50.321Z \u001b[32mINFO\u001b[39m \u001b[33m CheerioCrawler:\u001b[39m Final request statistics:\u001b[90m {\"requestsFinished\":1,\"requestsFailed\":0,\"retryHistogram\":[1],\"requestAvgFailedDurationMillis\":null,\"requestAvgFinishedDurationMillis\":5008,\"requestsFinishedPerMinute\":11,\"requestsFailedPerMinute\":0,\"requestTotalDurationMillis\":5008,\"requestsTotal\":1,\"crawlerRuntimeMillis\":5615}\u001b[39m\n",
      "\u001b[36m[apify.facebook-pages-scraper runId:u0yea1aXpz96MWvaU]\u001b[0m -> 2025-06-27T16:45:50.323Z \u001b[32mINFO\u001b[39m \u001b[33m CheerioCrawler:\u001b[39m Finished! Total 1 requests: 1 succeeded, 0 failed.\u001b[90m {\"terminal\":true}\u001b[39m\n",
      "\u001b[36m[apify.facebook-pages-scraper runId:u0yea1aXpz96MWvaU]\u001b[0m -> 2025-06-27T16:45:50.376Z \u001b[32mINFO\u001b[39m  *** DONE ***\n",
      "\u001b[36m[apify.facebook-pages-scraper runId:u0yea1aXpz96MWvaU]\u001b[0m -> Status: RUNNING, Message: Finished! Total 1 requests: 1 succeeded, 0 failed.\n"
     ]
    },
    {
     "name": "stdout",
     "output_type": "stream",
     "text": [
      "🔍 Scraping: https://www.facebook.com/99GrowthAgency\n"
     ]
    },
    {
     "name": "stderr",
     "output_type": "stream",
     "text": [
      "\u001b[36m[apify.facebook-pages-scraper runId:IA2DUUPm0kjgYGOT4]\u001b[0m -> Status: RUNNING, Message: \n",
      "\u001b[36m[apify.facebook-pages-scraper runId:IA2DUUPm0kjgYGOT4]\u001b[0m -> Status: RUNNING, Message: Starting the crawler.\n",
      "\u001b[36m[apify.facebook-pages-scraper runId:IA2DUUPm0kjgYGOT4]\u001b[0m -> 2025-06-27T16:45:59.238Z ACTOR: Pulling Docker image of build fYUy7GidTW8TkhvRK from registry.\n",
      "\u001b[36m[apify.facebook-pages-scraper runId:IA2DUUPm0kjgYGOT4]\u001b[0m -> 2025-06-27T16:45:59.239Z ACTOR: Creating Docker container.\n",
      "\u001b[36m[apify.facebook-pages-scraper runId:IA2DUUPm0kjgYGOT4]\u001b[0m -> 2025-06-27T16:45:59.280Z ACTOR: Starting Docker container.\n",
      "\u001b[36m[apify.facebook-pages-scraper runId:IA2DUUPm0kjgYGOT4]\u001b[0m -> 2025-06-27T16:46:00.565Z \u001b[32mINFO\u001b[39m  System info\u001b[90m {\"apifyVersion\":\"3.4.2\",\"apifyClientVersion\":\"2.12.5\",\"crawleeVersion\":\"3.13.7\",\"osType\":\"Linux\",\"nodeVersion\":\"v20.19.2\"}\u001b[39m\n",
      "\u001b[36m[apify.facebook-pages-scraper runId:IA2DUUPm0kjgYGOT4]\u001b[0m -> 2025-06-27T16:46:00.788Z \u001b[32mINFO\u001b[39m  Results Limit undefined\n",
      "\u001b[36m[apify.facebook-pages-scraper runId:IA2DUUPm0kjgYGOT4]\u001b[0m -> 2025-06-27T16:46:00.789Z \u001b[32mINFO\u001b[39m  pushDataMaxAware 330\n",
      "\u001b[36m[apify.facebook-pages-scraper runId:IA2DUUPm0kjgYGOT4]\u001b[0m -> 2025-06-27T16:46:01.104Z \u001b[32mINFO\u001b[39m \u001b[33m CheerioCrawler:\u001b[39m Using the old RequestQueue implementation without request locking.\n",
      "\u001b[36m[apify.facebook-pages-scraper runId:IA2DUUPm0kjgYGOT4]\u001b[0m -> 2025-06-27T16:46:01.306Z \u001b[32mINFO\u001b[39m \u001b[33m CheerioCrawler:\u001b[39m Starting the crawler.\n",
      "\u001b[36m[apify.facebook-pages-scraper runId:IA2DUUPm0kjgYGOT4]\u001b[0m -> 2025-06-27T16:46:12.432Z \u001b[33mWARN\u001b[39m \u001b[33m CheerioCrawler:\u001b[39m Reclaiming failed request back to the list or queue. Page access was blocked or page is not available, retrying with new session\n",
      "\u001b[36m[apify.facebook-pages-scraper runId:IA2DUUPm0kjgYGOT4]\u001b[0m -> Status: RUNNING, Message: Crawled 0/1 pages, 0 failed requests, desired concurrency 10.\n",
      "\u001b[36m[apify.facebook-pages-scraper runId:IA2DUUPm0kjgYGOT4]\u001b[0m -> 2025-06-27T16:46:12.433Z     at handleFacebookObject (file:///usr/src/app/dist/src/validate-urls-scraper/routes.js:85:15)\u001b[90m {\"id\":\"VEDEtgGemEgI5Jf\",\"url\":\"https://www.facebook.com/99GrowthAgency\",\"retryCount\":1}\u001b[39m\n",
      "\u001b[36m[apify.facebook-pages-scraper runId:IA2DUUPm0kjgYGOT4]\u001b[0m -> 2025-06-27T16:46:17.860Z \u001b[32mINFO\u001b[39m \u001b[33m CheerioCrawler:\u001b[39m All requests from the queue have been processed, the crawler will shut down.\n",
      "\u001b[36m[apify.facebook-pages-scraper runId:IA2DUUPm0kjgYGOT4]\u001b[0m -> 2025-06-27T16:46:18.056Z \u001b[32mINFO\u001b[39m \u001b[33m CheerioCrawler:\u001b[39m Final request statistics:\u001b[90m {\"requestsFinished\":1,\"requestsFailed\":0,\"retryHistogram\":[null,1],\"requestAvgFailedDurationMillis\":null,\"requestAvgFinishedDurationMillis\":2212,\"requestsFinishedPerMinute\":4,\"requestsFailedPerMinute\":0,\"requestTotalDurationMillis\":2212,\"requestsTotal\":1,\"crawlerRuntimeMillis\":16952}\u001b[39m\n",
      "\u001b[36m[apify.facebook-pages-scraper runId:IA2DUUPm0kjgYGOT4]\u001b[0m -> 2025-06-27T16:46:18.057Z \u001b[32mINFO\u001b[39m \u001b[33m CheerioCrawler:\u001b[39m Finished! Total 1 requests: 1 succeeded, 0 failed.\u001b[90m {\"terminal\":true}\u001b[39m\n",
      "\u001b[36m[apify.facebook-pages-scraper runId:IA2DUUPm0kjgYGOT4]\u001b[0m -> 2025-06-27T16:46:18.113Z \u001b[32mINFO\u001b[39m  *** DONE ***\n",
      "\u001b[36m[apify.facebook-pages-scraper runId:IA2DUUPm0kjgYGOT4]\u001b[0m -> Status: SUCCEEDED, Message: Finished! Total 1 requests: 1 succeeded, 0 failed.\n"
     ]
    },
    {
     "name": "stdout",
     "output_type": "stream",
     "text": [
      "🔍 Scraping: https://www.facebook.com/RoarApex\n"
     ]
    },
    {
     "name": "stderr",
     "output_type": "stream",
     "text": [
      "\u001b[36m[apify.facebook-pages-scraper runId:2vZuEX3Jd7q4I2KOG]\u001b[0m -> Status: RUNNING, Message: Starting the crawler.\n",
      "\u001b[36m[apify.facebook-pages-scraper runId:2vZuEX3Jd7q4I2KOG]\u001b[0m -> 2025-06-27T16:46:26.330Z ACTOR: Pulling Docker image of build fYUy7GidTW8TkhvRK from registry.\n",
      "\u001b[36m[apify.facebook-pages-scraper runId:2vZuEX3Jd7q4I2KOG]\u001b[0m -> 2025-06-27T16:46:26.334Z ACTOR: Creating Docker container.\n",
      "\u001b[36m[apify.facebook-pages-scraper runId:2vZuEX3Jd7q4I2KOG]\u001b[0m -> 2025-06-27T16:46:26.376Z ACTOR: Starting Docker container.\n",
      "\u001b[36m[apify.facebook-pages-scraper runId:2vZuEX3Jd7q4I2KOG]\u001b[0m -> 2025-06-27T16:46:27.762Z \u001b[32mINFO\u001b[39m  System info\u001b[90m {\"apifyVersion\":\"3.4.2\",\"apifyClientVersion\":\"2.12.5\",\"crawleeVersion\":\"3.13.7\",\"osType\":\"Linux\",\"nodeVersion\":\"v20.19.2\"}\u001b[39m\n",
      "\u001b[36m[apify.facebook-pages-scraper runId:2vZuEX3Jd7q4I2KOG]\u001b[0m -> 2025-06-27T16:46:27.900Z \u001b[32mINFO\u001b[39m  Results Limit undefined\n",
      "\u001b[36m[apify.facebook-pages-scraper runId:2vZuEX3Jd7q4I2KOG]\u001b[0m -> 2025-06-27T16:46:27.901Z \u001b[32mINFO\u001b[39m  pushDataMaxAware 330\n",
      "\u001b[36m[apify.facebook-pages-scraper runId:2vZuEX3Jd7q4I2KOG]\u001b[0m -> 2025-06-27T16:46:28.187Z \u001b[32mINFO\u001b[39m \u001b[33m CheerioCrawler:\u001b[39m Using the old RequestQueue implementation without request locking.\n",
      "\u001b[36m[apify.facebook-pages-scraper runId:2vZuEX3Jd7q4I2KOG]\u001b[0m -> 2025-06-27T16:46:28.506Z \u001b[32mINFO\u001b[39m \u001b[33m CheerioCrawler:\u001b[39m Starting the crawler.\n",
      "\u001b[36m[apify.facebook-pages-scraper runId:2vZuEX3Jd7q4I2KOG]\u001b[0m -> 2025-06-27T16:46:32.217Z \u001b[32mINFO\u001b[39m \u001b[33m CheerioCrawler:\u001b[39m All requests from the queue have been processed, the crawler will shut down.\n",
      "\u001b[36m[apify.facebook-pages-scraper runId:2vZuEX3Jd7q4I2KOG]\u001b[0m -> 2025-06-27T16:46:32.352Z \u001b[32mINFO\u001b[39m \u001b[33m CheerioCrawler:\u001b[39m Final request statistics:\u001b[90m {\"requestsFinished\":1,\"requestsFailed\":0,\"retryHistogram\":[1],\"requestAvgFailedDurationMillis\":null,\"requestAvgFinishedDurationMillis\":3569,\"requestsFinishedPerMinute\":14,\"requestsFailedPerMinute\":0,\"requestTotalDurationMillis\":3569,\"requestsTotal\":1,\"crawlerRuntimeMillis\":4166}\u001b[39m\n",
      "\u001b[36m[apify.facebook-pages-scraper runId:2vZuEX3Jd7q4I2KOG]\u001b[0m -> 2025-06-27T16:46:32.352Z \u001b[32mINFO\u001b[39m \u001b[33m CheerioCrawler:\u001b[39m Finished! Total 1 requests: 1 succeeded, 0 failed.\u001b[90m {\"terminal\":true}\u001b[39m\n",
      "\u001b[36m[apify.facebook-pages-scraper runId:2vZuEX3Jd7q4I2KOG]\u001b[0m -> 2025-06-27T16:46:32.404Z \u001b[32mINFO\u001b[39m  *** DONE ***\n",
      "\u001b[36m[apify.facebook-pages-scraper runId:2vZuEX3Jd7q4I2KOG]\u001b[0m -> Status: SUCCEEDED, Message: Finished! Total 1 requests: 1 succeeded, 0 failed.\n"
     ]
    },
    {
     "name": "stdout",
     "output_type": "stream",
     "text": [
      "🔍 Scraping: https://www.facebook.com/CaitlinBacher\n"
     ]
    },
    {
     "name": "stderr",
     "output_type": "stream",
     "text": [
      "\u001b[36m[apify.facebook-pages-scraper runId:K60yqMULhtJ3q3uL8]\u001b[0m -> Status: RUNNING, Message: \n",
      "\u001b[36m[apify.facebook-pages-scraper runId:K60yqMULhtJ3q3uL8]\u001b[0m -> 2025-06-27T16:46:39.981Z ACTOR: Pulling Docker image of build fYUy7GidTW8TkhvRK from registry.\n",
      "\u001b[36m[apify.facebook-pages-scraper runId:K60yqMULhtJ3q3uL8]\u001b[0m -> 2025-06-27T16:46:39.983Z ACTOR: Creating Docker container.\n",
      "\u001b[36m[apify.facebook-pages-scraper runId:K60yqMULhtJ3q3uL8]\u001b[0m -> 2025-06-27T16:46:40.052Z ACTOR: Starting Docker container.\n",
      "\u001b[36m[apify.facebook-pages-scraper runId:K60yqMULhtJ3q3uL8]\u001b[0m -> 2025-06-27T16:46:41.780Z \u001b[32mINFO\u001b[39m  System info\u001b[90m {\"apifyVersion\":\"3.4.2\",\"apifyClientVersion\":\"2.12.5\",\"crawleeVersion\":\"3.13.7\",\"osType\":\"Linux\",\"nodeVersion\":\"v20.19.2\"}\u001b[39m\n",
      "\u001b[36m[apify.facebook-pages-scraper runId:K60yqMULhtJ3q3uL8]\u001b[0m -> 2025-06-27T16:46:41.877Z \u001b[32mINFO\u001b[39m  Results Limit undefined\n",
      "\u001b[36m[apify.facebook-pages-scraper runId:K60yqMULhtJ3q3uL8]\u001b[0m -> 2025-06-27T16:46:41.883Z \u001b[32mINFO\u001b[39m  pushDataMaxAware 330\n",
      "\u001b[36m[apify.facebook-pages-scraper runId:K60yqMULhtJ3q3uL8]\u001b[0m -> 2025-06-27T16:46:42.175Z \u001b[32mINFO\u001b[39m \u001b[33m CheerioCrawler:\u001b[39m Using the old RequestQueue implementation without request locking.\n",
      "\u001b[36m[apify.facebook-pages-scraper runId:K60yqMULhtJ3q3uL8]\u001b[0m -> Status: RUNNING, Message: Starting the crawler.\n",
      "\u001b[36m[apify.facebook-pages-scraper runId:K60yqMULhtJ3q3uL8]\u001b[0m -> Status: RUNNING, Message: Crawled 0/1 pages, 0 failed requests, desired concurrency 10.\n",
      "\u001b[36m[apify.facebook-pages-scraper runId:K60yqMULhtJ3q3uL8]\u001b[0m -> 2025-06-27T16:46:42.339Z \u001b[32mINFO\u001b[39m \u001b[33m CheerioCrawler:\u001b[39m Starting the crawler.\n",
      "\u001b[36m[apify.facebook-pages-scraper runId:K60yqMULhtJ3q3uL8]\u001b[0m -> 2025-06-27T16:46:55.630Z \u001b[32mINFO\u001b[39m  [PROGRESS]: Found 1 new page details, 1/330 for URL https://www.facebook.com/CaitlinBacher\n",
      "\u001b[36m[apify.facebook-pages-scraper runId:K60yqMULhtJ3q3uL8]\u001b[0m -> 2025-06-27T16:46:55.781Z \u001b[32mINFO\u001b[39m \u001b[33m CheerioCrawler:\u001b[39m All requests from the queue have been processed, the crawler will shut down.\n",
      "\u001b[36m[apify.facebook-pages-scraper runId:K60yqMULhtJ3q3uL8]\u001b[0m -> 2025-06-27T16:46:55.920Z \u001b[32mINFO\u001b[39m \u001b[33m CheerioCrawler:\u001b[39m Final request statistics:\u001b[90m {\"requestsFinished\":1,\"requestsFailed\":0,\"retryHistogram\":[1],\"requestAvgFailedDurationMillis\":null,\"requestAvgFinishedDurationMillis\":13330,\"requestsFinishedPerMinute\":4,\"requestsFailedPerMinute\":0,\"requestTotalDurationMillis\":13330,\"requestsTotal\":1,\"crawlerRuntimeMillis\":13745}\u001b[39m\n",
      "\u001b[36m[apify.facebook-pages-scraper runId:K60yqMULhtJ3q3uL8]\u001b[0m -> 2025-06-27T16:46:55.921Z \u001b[32mINFO\u001b[39m \u001b[33m CheerioCrawler:\u001b[39m Finished! Total 1 requests: 1 succeeded, 0 failed.\u001b[90m {\"terminal\":true}\u001b[39m\n",
      "\u001b[36m[apify.facebook-pages-scraper runId:K60yqMULhtJ3q3uL8]\u001b[0m -> 2025-06-27T16:46:56.100Z \u001b[32mINFO\u001b[39m  *** DONE ***\n",
      "\u001b[36m[apify.facebook-pages-scraper runId:K60yqMULhtJ3q3uL8]\u001b[0m -> Status: SUCCEEDED, Message: Finished! Total 1 requests: 1 succeeded, 0 failed.\n"
     ]
    },
    {
     "name": "stdout",
     "output_type": "stream",
     "text": [
      "🔍 Scraping: https://www.facebook.com/GrantThormeier-Racing\n"
     ]
    },
    {
     "name": "stderr",
     "output_type": "stream",
     "text": [
      "\u001b[36m[apify.facebook-pages-scraper runId:dAqjYo1UNAc8kaK4S]\u001b[0m -> Status: RUNNING, Message: \n",
      "\u001b[36m[apify.facebook-pages-scraper runId:dAqjYo1UNAc8kaK4S]\u001b[0m -> 2025-06-27T16:47:04.514Z ACTOR: Pulling Docker image of build fYUy7GidTW8TkhvRK from registry.\n",
      "\u001b[36m[apify.facebook-pages-scraper runId:dAqjYo1UNAc8kaK4S]\u001b[0m -> 2025-06-27T16:47:04.516Z ACTOR: Creating Docker container.\n",
      "\u001b[36m[apify.facebook-pages-scraper runId:dAqjYo1UNAc8kaK4S]\u001b[0m -> 2025-06-27T16:47:04.638Z ACTOR: Starting Docker container.\n",
      "\u001b[36m[apify.facebook-pages-scraper runId:dAqjYo1UNAc8kaK4S]\u001b[0m -> 2025-06-27T16:47:11.273Z \u001b[32mINFO\u001b[39m  System info\u001b[90m {\"apifyVersion\":\"3.4.2\",\"apifyClientVersion\":\"2.12.5\",\"crawleeVersion\":\"3.13.7\",\"osType\":\"Linux\",\"nodeVersion\":\"v20.19.2\"}\u001b[39m\n",
      "\u001b[36m[apify.facebook-pages-scraper runId:dAqjYo1UNAc8kaK4S]\u001b[0m -> 2025-06-27T16:47:11.491Z \u001b[32mINFO\u001b[39m  Results Limit undefined\n",
      "\u001b[36m[apify.facebook-pages-scraper runId:dAqjYo1UNAc8kaK4S]\u001b[0m -> 2025-06-27T16:47:11.493Z \u001b[32mINFO\u001b[39m  pushDataMaxAware 330\n",
      "\u001b[36m[apify.facebook-pages-scraper runId:dAqjYo1UNAc8kaK4S]\u001b[0m -> 2025-06-27T16:47:12.273Z \u001b[32mINFO\u001b[39m \u001b[33m CheerioCrawler:\u001b[39m Using the old RequestQueue implementation without request locking.\n",
      "\u001b[36m[apify.facebook-pages-scraper runId:dAqjYo1UNAc8kaK4S]\u001b[0m -> Status: RUNNING, Message: Starting the crawler.\n",
      "\u001b[36m[apify.facebook-pages-scraper runId:dAqjYo1UNAc8kaK4S]\u001b[0m -> 2025-06-27T16:47:12.471Z \u001b[32mINFO\u001b[39m \u001b[33m CheerioCrawler:\u001b[39m Starting the crawler.\n",
      "\u001b[36m[apify.facebook-pages-scraper runId:dAqjYo1UNAc8kaK4S]\u001b[0m -> 2025-06-27T16:47:15.766Z \u001b[32mINFO\u001b[39m \u001b[33m CheerioCrawler:\u001b[39m All requests from the queue have been processed, the crawler will shut down.\n",
      "\u001b[36m[apify.facebook-pages-scraper runId:dAqjYo1UNAc8kaK4S]\u001b[0m -> 2025-06-27T16:47:15.855Z \u001b[32mINFO\u001b[39m \u001b[33m CheerioCrawler:\u001b[39m Final request statistics:\u001b[90m {\"requestsFinished\":1,\"requestsFailed\":0,\"retryHistogram\":[1],\"requestAvgFailedDurationMillis\":null,\"requestAvgFinishedDurationMillis\":3149,\"requestsFinishedPerMinute\":17,\"requestsFailedPerMinute\":0,\"requestTotalDurationMillis\":3149,\"requestsTotal\":1,\"crawlerRuntimeMillis\":3582}\u001b[39m\n",
      "\u001b[36m[apify.facebook-pages-scraper runId:dAqjYo1UNAc8kaK4S]\u001b[0m -> 2025-06-27T16:47:15.857Z \u001b[32mINFO\u001b[39m \u001b[33m CheerioCrawler:\u001b[39m Finished! Total 1 requests: 1 succeeded, 0 failed.\u001b[90m {\"terminal\":true}\u001b[39m\n",
      "\u001b[36m[apify.facebook-pages-scraper runId:dAqjYo1UNAc8kaK4S]\u001b[0m -> Status: RUNNING, Message: Finished! Total 1 requests: 1 succeeded, 0 failed.\n",
      "\u001b[36m[apify.facebook-pages-scraper runId:dAqjYo1UNAc8kaK4S]\u001b[0m -> 2025-06-27T16:47:16.140Z \u001b[32mINFO\u001b[39m  *** DONE ***\n"
     ]
    },
    {
     "name": "stdout",
     "output_type": "stream",
     "text": [
      "🔍 Scraping: https://www.facebook.com/TheRenovationWizards\n"
     ]
    },
    {
     "name": "stderr",
     "output_type": "stream",
     "text": [
      "\u001b[36m[apify.facebook-pages-scraper runId:3zZZe5FerRadgY9Kh]\u001b[0m -> Status: RUNNING, Message: \n",
      "\u001b[36m[apify.facebook-pages-scraper runId:3zZZe5FerRadgY9Kh]\u001b[0m -> Status: RUNNING, Message: Starting the crawler.\n",
      "\u001b[36m[apify.facebook-pages-scraper runId:3zZZe5FerRadgY9Kh]\u001b[0m -> 2025-06-27T16:47:24.820Z ACTOR: Pulling Docker image of build fYUy7GidTW8TkhvRK from registry.\n",
      "\u001b[36m[apify.facebook-pages-scraper runId:3zZZe5FerRadgY9Kh]\u001b[0m -> 2025-06-27T16:47:24.822Z ACTOR: Creating Docker container.\n",
      "\u001b[36m[apify.facebook-pages-scraper runId:3zZZe5FerRadgY9Kh]\u001b[0m -> 2025-06-27T16:47:24.858Z ACTOR: Starting Docker container.\n",
      "\u001b[36m[apify.facebook-pages-scraper runId:3zZZe5FerRadgY9Kh]\u001b[0m -> 2025-06-27T16:47:26.191Z \u001b[32mINFO\u001b[39m  System info\u001b[90m {\"apifyVersion\":\"3.4.2\",\"apifyClientVersion\":\"2.12.5\",\"crawleeVersion\":\"3.13.7\",\"osType\":\"Linux\",\"nodeVersion\":\"v20.19.2\"}\u001b[39m\n",
      "\u001b[36m[apify.facebook-pages-scraper runId:3zZZe5FerRadgY9Kh]\u001b[0m -> 2025-06-27T16:47:26.471Z \u001b[32mINFO\u001b[39m  Results Limit undefined\n",
      "\u001b[36m[apify.facebook-pages-scraper runId:3zZZe5FerRadgY9Kh]\u001b[0m -> 2025-06-27T16:47:26.474Z \u001b[32mINFO\u001b[39m  pushDataMaxAware 330\n",
      "\u001b[36m[apify.facebook-pages-scraper runId:3zZZe5FerRadgY9Kh]\u001b[0m -> 2025-06-27T16:47:26.749Z \u001b[32mINFO\u001b[39m \u001b[33m CheerioCrawler:\u001b[39m Using the old RequestQueue implementation without request locking.\n",
      "\u001b[36m[apify.facebook-pages-scraper runId:3zZZe5FerRadgY9Kh]\u001b[0m -> 2025-06-27T16:47:26.946Z \u001b[32mINFO\u001b[39m \u001b[33m CheerioCrawler:\u001b[39m Starting the crawler.\n",
      "\u001b[36m[apify.facebook-pages-scraper runId:3zZZe5FerRadgY9Kh]\u001b[0m -> 2025-06-27T16:47:29.670Z \u001b[32mINFO\u001b[39m \u001b[33m CheerioCrawler:\u001b[39m All requests from the queue have been processed, the crawler will shut down.\n",
      "\u001b[36m[apify.facebook-pages-scraper runId:3zZZe5FerRadgY9Kh]\u001b[0m -> 2025-06-27T16:47:29.799Z \u001b[32mINFO\u001b[39m \u001b[33m CheerioCrawler:\u001b[39m Final request statistics:\u001b[90m {\"requestsFinished\":1,\"requestsFailed\":0,\"retryHistogram\":[1],\"requestAvgFailedDurationMillis\":null,\"requestAvgFinishedDurationMillis\":2626,\"requestsFinishedPerMinute\":20,\"requestsFailedPerMinute\":0,\"requestTotalDurationMillis\":2626,\"requestsTotal\":1,\"crawlerRuntimeMillis\":3050}\u001b[39m\n",
      "\u001b[36m[apify.facebook-pages-scraper runId:3zZZe5FerRadgY9Kh]\u001b[0m -> 2025-06-27T16:47:29.801Z \u001b[32mINFO\u001b[39m \u001b[33m CheerioCrawler:\u001b[39m Finished! Total 1 requests: 1 succeeded, 0 failed.\u001b[90m {\"terminal\":true}\u001b[39m\n",
      "\u001b[36m[apify.facebook-pages-scraper runId:3zZZe5FerRadgY9Kh]\u001b[0m -> Status: RUNNING, Message: Finished! Total 1 requests: 1 succeeded, 0 failed.\n",
      "\u001b[36m[apify.facebook-pages-scraper runId:3zZZe5FerRadgY9Kh]\u001b[0m -> 2025-06-27T16:47:29.890Z \u001b[32mINFO\u001b[39m  *** DONE ***\n"
     ]
    },
    {
     "name": "stdout",
     "output_type": "stream",
     "text": [
      "🔍 Scraping: https://www.facebook.com/Raulrodrigueznomada\n"
     ]
    },
    {
     "name": "stderr",
     "output_type": "stream",
     "text": [
      "\u001b[36m[apify.facebook-pages-scraper runId:fFrUCabVAaJQxMfB0]\u001b[0m -> Status: RUNNING, Message: \n",
      "\u001b[36m[apify.facebook-pages-scraper runId:fFrUCabVAaJQxMfB0]\u001b[0m -> 2025-06-27T16:47:37.832Z ACTOR: Pulling Docker image of build fYUy7GidTW8TkhvRK from registry.\n",
      "\u001b[36m[apify.facebook-pages-scraper runId:fFrUCabVAaJQxMfB0]\u001b[0m -> 2025-06-27T16:47:37.835Z ACTOR: Creating Docker container.\n",
      "\u001b[36m[apify.facebook-pages-scraper runId:fFrUCabVAaJQxMfB0]\u001b[0m -> 2025-06-27T16:47:37.874Z ACTOR: Starting Docker container.\n",
      "\u001b[36m[apify.facebook-pages-scraper runId:fFrUCabVAaJQxMfB0]\u001b[0m -> 2025-06-27T16:47:40.556Z \u001b[32mINFO\u001b[39m  System info\u001b[90m {\"apifyVersion\":\"3.4.2\",\"apifyClientVersion\":\"2.12.5\",\"crawleeVersion\":\"3.13.7\",\"osType\":\"Linux\",\"nodeVersion\":\"v20.19.2\"}\u001b[39m\n",
      "\u001b[36m[apify.facebook-pages-scraper runId:fFrUCabVAaJQxMfB0]\u001b[0m -> 2025-06-27T16:47:40.732Z \u001b[32mINFO\u001b[39m  Results Limit undefined\n",
      "\u001b[36m[apify.facebook-pages-scraper runId:fFrUCabVAaJQxMfB0]\u001b[0m -> 2025-06-27T16:47:40.734Z \u001b[32mINFO\u001b[39m  pushDataMaxAware 330\n",
      "\u001b[36m[apify.facebook-pages-scraper runId:fFrUCabVAaJQxMfB0]\u001b[0m -> 2025-06-27T16:47:41.395Z \u001b[32mINFO\u001b[39m \u001b[33m CheerioCrawler:\u001b[39m Using the old RequestQueue implementation without request locking.\n",
      "\u001b[36m[apify.facebook-pages-scraper runId:fFrUCabVAaJQxMfB0]\u001b[0m -> Status: RUNNING, Message: Starting the crawler.\n",
      "\u001b[36m[apify.facebook-pages-scraper runId:fFrUCabVAaJQxMfB0]\u001b[0m -> Status: RUNNING, Message: Crawled 0/1 pages, 0 failed requests, desired concurrency 10.\n",
      "\u001b[36m[apify.facebook-pages-scraper runId:fFrUCabVAaJQxMfB0]\u001b[0m -> 2025-06-27T16:47:41.595Z \u001b[32mINFO\u001b[39m \u001b[33m CheerioCrawler:\u001b[39m Starting the crawler.\n",
      "\u001b[36m[apify.facebook-pages-scraper runId:fFrUCabVAaJQxMfB0]\u001b[0m -> 2025-06-27T16:48:01.684Z \u001b[32mINFO\u001b[39m  [PROGRESS]: Found 1 new page details, 1/330 for URL https://www.facebook.com/Raulrodrigueznomada\n",
      "\u001b[36m[apify.facebook-pages-scraper runId:fFrUCabVAaJQxMfB0]\u001b[0m -> 2025-06-27T16:48:01.828Z \u001b[32mINFO\u001b[39m \u001b[33m CheerioCrawler:\u001b[39m All requests from the queue have been processed, the crawler will shut down.\n",
      "\u001b[36m[apify.facebook-pages-scraper runId:fFrUCabVAaJQxMfB0]\u001b[0m -> 2025-06-27T16:48:01.940Z \u001b[32mINFO\u001b[39m \u001b[33m CheerioCrawler:\u001b[39m Final request statistics:\u001b[90m {\"requestsFinished\":1,\"requestsFailed\":0,\"retryHistogram\":[1],\"requestAvgFailedDurationMillis\":null,\"requestAvgFinishedDurationMillis\":20003,\"requestsFinishedPerMinute\":3,\"requestsFailedPerMinute\":0,\"requestTotalDurationMillis\":20003,\"requestsTotal\":1,\"crawlerRuntimeMillis\":20545}\u001b[39m\n",
      "\u001b[36m[apify.facebook-pages-scraper runId:fFrUCabVAaJQxMfB0]\u001b[0m -> 2025-06-27T16:48:01.952Z \u001b[32mINFO\u001b[39m \u001b[33m CheerioCrawler:\u001b[39m Finished! Total 1 requests: 1 succeeded, 0 failed.\u001b[90m {\"terminal\":true}\u001b[39m\n",
      "\u001b[36m[apify.facebook-pages-scraper runId:fFrUCabVAaJQxMfB0]\u001b[0m -> Status: RUNNING, Message: Finished! Total 1 requests: 1 succeeded, 0 failed.\n",
      "\u001b[36m[apify.facebook-pages-scraper runId:fFrUCabVAaJQxMfB0]\u001b[0m -> 2025-06-27T16:48:02.046Z \u001b[32mINFO\u001b[39m  *** DONE ***\n"
     ]
    },
    {
     "name": "stdout",
     "output_type": "stream",
     "text": [
      "🔍 Scraping: https://www.facebook.com/AISolarFlow\n"
     ]
    },
    {
     "name": "stderr",
     "output_type": "stream",
     "text": [
      "\u001b[36m[apify.facebook-pages-scraper runId:w94Tc63brWaDIiuPA]\u001b[0m -> Status: RUNNING, Message: \n",
      "\u001b[36m[apify.facebook-pages-scraper runId:w94Tc63brWaDIiuPA]\u001b[0m -> Status: RUNNING, Message: Starting the crawler.\n",
      "\u001b[36m[apify.facebook-pages-scraper runId:w94Tc63brWaDIiuPA]\u001b[0m -> 2025-06-27T16:48:10.792Z ACTOR: Pulling Docker image of build fYUy7GidTW8TkhvRK from registry.\n",
      "\u001b[36m[apify.facebook-pages-scraper runId:w94Tc63brWaDIiuPA]\u001b[0m -> 2025-06-27T16:48:10.793Z ACTOR: Creating Docker container.\n",
      "\u001b[36m[apify.facebook-pages-scraper runId:w94Tc63brWaDIiuPA]\u001b[0m -> 2025-06-27T16:48:10.837Z ACTOR: Starting Docker container.\n",
      "\u001b[36m[apify.facebook-pages-scraper runId:w94Tc63brWaDIiuPA]\u001b[0m -> 2025-06-27T16:48:12.237Z \u001b[32mINFO\u001b[39m  System info\u001b[90m {\"apifyVersion\":\"3.4.2\",\"apifyClientVersion\":\"2.12.5\",\"crawleeVersion\":\"3.13.7\",\"osType\":\"Linux\",\"nodeVersion\":\"v20.19.2\"}\u001b[39m\n",
      "\u001b[36m[apify.facebook-pages-scraper runId:w94Tc63brWaDIiuPA]\u001b[0m -> 2025-06-27T16:48:12.358Z \u001b[32mINFO\u001b[39m  Results Limit undefined\n",
      "\u001b[36m[apify.facebook-pages-scraper runId:w94Tc63brWaDIiuPA]\u001b[0m -> 2025-06-27T16:48:12.359Z \u001b[32mINFO\u001b[39m  pushDataMaxAware 330\n",
      "\u001b[36m[apify.facebook-pages-scraper runId:w94Tc63brWaDIiuPA]\u001b[0m -> 2025-06-27T16:48:12.641Z \u001b[32mINFO\u001b[39m \u001b[33m CheerioCrawler:\u001b[39m Using the old RequestQueue implementation without request locking.\n",
      "\u001b[36m[apify.facebook-pages-scraper runId:w94Tc63brWaDIiuPA]\u001b[0m -> 2025-06-27T16:48:12.841Z \u001b[32mINFO\u001b[39m \u001b[33m CheerioCrawler:\u001b[39m Starting the crawler.\n",
      "\u001b[36m[apify.facebook-pages-scraper runId:w94Tc63brWaDIiuPA]\u001b[0m -> 2025-06-27T16:48:16.483Z \u001b[32mINFO\u001b[39m \u001b[33m CheerioCrawler:\u001b[39m All requests from the queue have been processed, the crawler will shut down.\n",
      "\u001b[36m[apify.facebook-pages-scraper runId:w94Tc63brWaDIiuPA]\u001b[0m -> 2025-06-27T16:48:16.599Z \u001b[32mINFO\u001b[39m \u001b[33m CheerioCrawler:\u001b[39m Final request statistics:\u001b[90m {\"requestsFinished\":1,\"requestsFailed\":0,\"retryHistogram\":[1],\"requestAvgFailedDurationMillis\":null,\"requestAvgFinishedDurationMillis\":3332,\"requestsFinishedPerMinute\":15,\"requestsFailedPerMinute\":0,\"requestTotalDurationMillis\":3332,\"requestsTotal\":1,\"crawlerRuntimeMillis\":3958}\u001b[39m\n",
      "\u001b[36m[apify.facebook-pages-scraper runId:w94Tc63brWaDIiuPA]\u001b[0m -> 2025-06-27T16:48:16.600Z \u001b[32mINFO\u001b[39m \u001b[33m CheerioCrawler:\u001b[39m Finished! Total 1 requests: 1 succeeded, 0 failed.\u001b[90m {\"terminal\":true}\u001b[39m\n",
      "\u001b[36m[apify.facebook-pages-scraper runId:w94Tc63brWaDIiuPA]\u001b[0m -> Status: SUCCEEDED, Message: Finished! Total 1 requests: 1 succeeded, 0 failed.\n",
      "\u001b[36m[apify.facebook-pages-scraper runId:w94Tc63brWaDIiuPA]\u001b[0m -> 2025-06-27T16:48:16.788Z \u001b[32mINFO\u001b[39m  *** DONE ***\n"
     ]
    },
    {
     "name": "stdout",
     "output_type": "stream",
     "text": [
      "🔍 Scraping: https://www.facebook.com/Puff.MKT\n"
     ]
    },
    {
     "name": "stderr",
     "output_type": "stream",
     "text": [
      "\u001b[36m[apify.facebook-pages-scraper runId:edhfVtyaBh1eLvkAv]\u001b[0m -> Status: RUNNING, Message: \n",
      "\u001b[36m[apify.facebook-pages-scraper runId:edhfVtyaBh1eLvkAv]\u001b[0m -> 2025-06-27T16:48:25.667Z ACTOR: Pulling Docker image of build fYUy7GidTW8TkhvRK from registry.\n",
      "\u001b[36m[apify.facebook-pages-scraper runId:edhfVtyaBh1eLvkAv]\u001b[0m -> 2025-06-27T16:48:25.670Z ACTOR: Creating Docker container.\n",
      "\u001b[36m[apify.facebook-pages-scraper runId:edhfVtyaBh1eLvkAv]\u001b[0m -> 2025-06-27T16:48:25.726Z ACTOR: Starting Docker container.\n",
      "\u001b[36m[apify.facebook-pages-scraper runId:edhfVtyaBh1eLvkAv]\u001b[0m -> 2025-06-27T16:48:27.483Z \u001b[32mINFO\u001b[39m  System info\u001b[90m {\"apifyVersion\":\"3.4.2\",\"apifyClientVersion\":\"2.12.5\",\"crawleeVersion\":\"3.13.7\",\"osType\":\"Linux\",\"nodeVersion\":\"v20.19.2\"}\u001b[39m\n",
      "\u001b[36m[apify.facebook-pages-scraper runId:edhfVtyaBh1eLvkAv]\u001b[0m -> 2025-06-27T16:48:27.595Z \u001b[32mINFO\u001b[39m  Results Limit undefined\n",
      "\u001b[36m[apify.facebook-pages-scraper runId:edhfVtyaBh1eLvkAv]\u001b[0m -> 2025-06-27T16:48:27.598Z \u001b[32mINFO\u001b[39m  pushDataMaxAware 330\n",
      "\u001b[36m[apify.facebook-pages-scraper runId:edhfVtyaBh1eLvkAv]\u001b[0m -> 2025-06-27T16:48:27.959Z \u001b[32mINFO\u001b[39m \u001b[33m CheerioCrawler:\u001b[39m Using the old RequestQueue implementation without request locking.\n",
      "\u001b[36m[apify.facebook-pages-scraper runId:edhfVtyaBh1eLvkAv]\u001b[0m -> Status: RUNNING, Message: Starting the crawler.\n",
      "\u001b[36m[apify.facebook-pages-scraper runId:edhfVtyaBh1eLvkAv]\u001b[0m -> 2025-06-27T16:48:28.157Z \u001b[32mINFO\u001b[39m \u001b[33m CheerioCrawler:\u001b[39m Starting the crawler.\n",
      "\u001b[36m[apify.facebook-pages-scraper runId:edhfVtyaBh1eLvkAv]\u001b[0m -> 2025-06-27T16:48:36.004Z \u001b[32mINFO\u001b[39m \u001b[33m CheerioCrawler:\u001b[39m All requests from the queue have been processed, the crawler will shut down.\n",
      "\u001b[36m[apify.facebook-pages-scraper runId:edhfVtyaBh1eLvkAv]\u001b[0m -> 2025-06-27T16:48:36.083Z \u001b[32mINFO\u001b[39m \u001b[33m CheerioCrawler:\u001b[39m Final request statistics:\u001b[90m {\"requestsFinished\":1,\"requestsFailed\":0,\"retryHistogram\":[1],\"requestAvgFailedDurationMillis\":null,\"requestAvgFinishedDurationMillis\":7696,\"requestsFinishedPerMinute\":7,\"requestsFailedPerMinute\":0,\"requestTotalDurationMillis\":7696,\"requestsTotal\":1,\"crawlerRuntimeMillis\":8126}\u001b[39m\n",
      "\u001b[36m[apify.facebook-pages-scraper runId:edhfVtyaBh1eLvkAv]\u001b[0m -> 2025-06-27T16:48:36.085Z \u001b[32mINFO\u001b[39m \u001b[33m CheerioCrawler:\u001b[39m Finished! Total 1 requests: 1 succeeded, 0 failed.\u001b[90m {\"terminal\":true}\u001b[39m\n",
      "\u001b[36m[apify.facebook-pages-scraper runId:edhfVtyaBh1eLvkAv]\u001b[0m -> 2025-06-27T16:48:36.131Z \u001b[32mINFO\u001b[39m  *** DONE ***\n",
      "\u001b[36m[apify.facebook-pages-scraper runId:edhfVtyaBh1eLvkAv]\u001b[0m -> Status: SUCCEEDED, Message: Finished! Total 1 requests: 1 succeeded, 0 failed.\n"
     ]
    },
    {
     "name": "stdout",
     "output_type": "stream",
     "text": [
      "🔍 Scraping: https://www.facebook.com/dinoverse_gr\n"
     ]
    },
    {
     "name": "stderr",
     "output_type": "stream",
     "text": [
      "\u001b[36m[apify.facebook-pages-scraper runId:fXx5FpALCMcZDlZJD]\u001b[0m -> Status: RUNNING, Message: \n",
      "\u001b[36m[apify.facebook-pages-scraper runId:fXx5FpALCMcZDlZJD]\u001b[0m -> 2025-06-27T16:48:44.423Z ACTOR: Pulling Docker image of build fYUy7GidTW8TkhvRK from registry.\n",
      "\u001b[36m[apify.facebook-pages-scraper runId:fXx5FpALCMcZDlZJD]\u001b[0m -> 2025-06-27T16:48:44.425Z ACTOR: Creating Docker container.\n",
      "\u001b[36m[apify.facebook-pages-scraper runId:fXx5FpALCMcZDlZJD]\u001b[0m -> 2025-06-27T16:48:44.509Z ACTOR: Starting Docker container.\n",
      "\u001b[36m[apify.facebook-pages-scraper runId:fXx5FpALCMcZDlZJD]\u001b[0m -> 2025-06-27T16:48:46.265Z \u001b[32mINFO\u001b[39m  System info\u001b[90m {\"apifyVersion\":\"3.4.2\",\"apifyClientVersion\":\"2.12.5\",\"crawleeVersion\":\"3.13.7\",\"osType\":\"Linux\",\"nodeVersion\":\"v20.19.2\"}\u001b[39m\n",
      "\u001b[36m[apify.facebook-pages-scraper runId:fXx5FpALCMcZDlZJD]\u001b[0m -> 2025-06-27T16:48:46.402Z \u001b[32mINFO\u001b[39m  Results Limit undefined\n",
      "\u001b[36m[apify.facebook-pages-scraper runId:fXx5FpALCMcZDlZJD]\u001b[0m -> 2025-06-27T16:48:46.404Z \u001b[32mINFO\u001b[39m  pushDataMaxAware 330\n",
      "\u001b[36m[apify.facebook-pages-scraper runId:fXx5FpALCMcZDlZJD]\u001b[0m -> 2025-06-27T16:48:46.690Z \u001b[32mINFO\u001b[39m \u001b[33m CheerioCrawler:\u001b[39m Using the old RequestQueue implementation without request locking.\n",
      "\u001b[36m[apify.facebook-pages-scraper runId:fXx5FpALCMcZDlZJD]\u001b[0m -> Status: RUNNING, Message: Starting the crawler.\n",
      "\u001b[36m[apify.facebook-pages-scraper runId:fXx5FpALCMcZDlZJD]\u001b[0m -> 2025-06-27T16:48:46.887Z \u001b[32mINFO\u001b[39m \u001b[33m CheerioCrawler:\u001b[39m Starting the crawler.\n",
      "\u001b[36m[apify.facebook-pages-scraper runId:fXx5FpALCMcZDlZJD]\u001b[0m -> 2025-06-27T16:48:50.184Z \u001b[33mWARN\u001b[39m \u001b[33m CheerioCrawler:\u001b[39m Reclaiming failed request back to the list or queue. Page access was blocked or page is not available, retrying with new session\n",
      "\u001b[36m[apify.facebook-pages-scraper runId:fXx5FpALCMcZDlZJD]\u001b[0m -> 2025-06-27T16:48:50.186Z     at handleFacebookObject (file:///usr/src/app/dist/src/validate-urls-scraper/routes.js:85:15)\u001b[90m {\"id\":\"GXC2FSLJGYaV3Cf\",\"url\":\"https://www.facebook.com/dinoverse_gr\",\"retryCount\":1}\u001b[39m\n",
      "\u001b[36m[apify.facebook-pages-scraper runId:fXx5FpALCMcZDlZJD]\u001b[0m -> 2025-06-27T16:48:55.966Z \u001b[32mINFO\u001b[39m \u001b[33m CheerioCrawler:\u001b[39m All requests from the queue have been processed, the crawler will shut down.\n",
      "\u001b[36m[apify.facebook-pages-scraper runId:fXx5FpALCMcZDlZJD]\u001b[0m -> 2025-06-27T16:48:56.232Z \u001b[32mINFO\u001b[39m \u001b[33m CheerioCrawler:\u001b[39m Final request statistics:\u001b[90m {\"requestsFinished\":1,\"requestsFailed\":0,\"retryHistogram\":[null,1],\"requestAvgFailedDurationMillis\":null,\"requestAvgFinishedDurationMillis\":2375,\"requestsFinishedPerMinute\":6,\"requestsFailedPerMinute\":0,\"requestTotalDurationMillis\":2375,\"requestsTotal\":1,\"crawlerRuntimeMillis\":9542}\u001b[39m\n",
      "\u001b[36m[apify.facebook-pages-scraper runId:fXx5FpALCMcZDlZJD]\u001b[0m -> 2025-06-27T16:48:56.234Z \u001b[32mINFO\u001b[39m \u001b[33m CheerioCrawler:\u001b[39m Finished! Total 1 requests: 1 succeeded, 0 failed.\u001b[90m {\"terminal\":true}\u001b[39m\n",
      "\u001b[36m[apify.facebook-pages-scraper runId:fXx5FpALCMcZDlZJD]\u001b[0m -> 2025-06-27T16:48:56.279Z \u001b[32mINFO\u001b[39m  *** DONE ***\n",
      "\u001b[36m[apify.facebook-pages-scraper runId:fXx5FpALCMcZDlZJD]\u001b[0m -> Status: SUCCEEDED, Message: Finished! Total 1 requests: 1 succeeded, 0 failed.\n"
     ]
    },
    {
     "name": "stdout",
     "output_type": "stream",
     "text": [
      "🔍 Scraping: https://www.facebook.com/Lapatronabotanasymas\n"
     ]
    },
    {
     "name": "stderr",
     "output_type": "stream",
     "text": [
      "\u001b[36m[apify.facebook-pages-scraper runId:ZQ63gckMEWFJWfC5s]\u001b[0m -> Status: RUNNING, Message: \n",
      "\u001b[36m[apify.facebook-pages-scraper runId:ZQ63gckMEWFJWfC5s]\u001b[0m -> Status: RUNNING, Message: Starting the crawler.\n",
      "\u001b[36m[apify.facebook-pages-scraper runId:ZQ63gckMEWFJWfC5s]\u001b[0m -> 2025-06-27T16:49:05.206Z ACTOR: Pulling Docker image of build fYUy7GidTW8TkhvRK from registry.\n",
      "\u001b[36m[apify.facebook-pages-scraper runId:ZQ63gckMEWFJWfC5s]\u001b[0m -> 2025-06-27T16:49:05.208Z ACTOR: Creating Docker container.\n",
      "\u001b[36m[apify.facebook-pages-scraper runId:ZQ63gckMEWFJWfC5s]\u001b[0m -> 2025-06-27T16:49:05.250Z ACTOR: Starting Docker container.\n",
      "\u001b[36m[apify.facebook-pages-scraper runId:ZQ63gckMEWFJWfC5s]\u001b[0m -> 2025-06-27T16:49:07.042Z \u001b[32mINFO\u001b[39m  System info\u001b[90m {\"apifyVersion\":\"3.4.2\",\"apifyClientVersion\":\"2.12.5\",\"crawleeVersion\":\"3.13.7\",\"osType\":\"Linux\",\"nodeVersion\":\"v20.19.2\"}\u001b[39m\n",
      "\u001b[36m[apify.facebook-pages-scraper runId:ZQ63gckMEWFJWfC5s]\u001b[0m -> 2025-06-27T16:49:07.171Z \u001b[32mINFO\u001b[39m  Results Limit undefined\n",
      "\u001b[36m[apify.facebook-pages-scraper runId:ZQ63gckMEWFJWfC5s]\u001b[0m -> 2025-06-27T16:49:07.173Z \u001b[32mINFO\u001b[39m  pushDataMaxAware 330\n",
      "\u001b[36m[apify.facebook-pages-scraper runId:ZQ63gckMEWFJWfC5s]\u001b[0m -> 2025-06-27T16:49:07.463Z \u001b[32mINFO\u001b[39m \u001b[33m CheerioCrawler:\u001b[39m Using the old RequestQueue implementation without request locking.\n",
      "\u001b[36m[apify.facebook-pages-scraper runId:ZQ63gckMEWFJWfC5s]\u001b[0m -> 2025-06-27T16:49:07.695Z \u001b[32mINFO\u001b[39m \u001b[33m CheerioCrawler:\u001b[39m Starting the crawler.\n",
      "\u001b[36m[apify.facebook-pages-scraper runId:ZQ63gckMEWFJWfC5s]\u001b[0m -> 2025-06-27T16:49:10.164Z \u001b[32mINFO\u001b[39m \u001b[33m CheerioCrawler:\u001b[39m All requests from the queue have been processed, the crawler will shut down.\n",
      "\u001b[36m[apify.facebook-pages-scraper runId:ZQ63gckMEWFJWfC5s]\u001b[0m -> 2025-06-27T16:49:10.360Z \u001b[32mINFO\u001b[39m \u001b[33m CheerioCrawler:\u001b[39m Final request statistics:\u001b[90m {\"requestsFinished\":1,\"requestsFailed\":0,\"retryHistogram\":[1],\"requestAvgFailedDurationMillis\":null,\"requestAvgFinishedDurationMillis\":2296,\"requestsFinishedPerMinute\":21,\"requestsFailedPerMinute\":0,\"requestTotalDurationMillis\":2296,\"requestsTotal\":1,\"crawlerRuntimeMillis\":2898}\u001b[39m\n",
      "\u001b[36m[apify.facebook-pages-scraper runId:ZQ63gckMEWFJWfC5s]\u001b[0m -> 2025-06-27T16:49:10.362Z \u001b[32mINFO\u001b[39m \u001b[33m CheerioCrawler:\u001b[39m Finished! Total 1 requests: 1 succeeded, 0 failed.\u001b[90m {\"terminal\":true}\u001b[39m\n",
      "\u001b[36m[apify.facebook-pages-scraper runId:ZQ63gckMEWFJWfC5s]\u001b[0m -> Status: RUNNING, Message: Finished! Total 1 requests: 1 succeeded, 0 failed.\n",
      "\u001b[36m[apify.facebook-pages-scraper runId:ZQ63gckMEWFJWfC5s]\u001b[0m -> 2025-06-27T16:49:10.427Z \u001b[32mINFO\u001b[39m  *** DONE ***\n"
     ]
    },
    {
     "name": "stdout",
     "output_type": "stream",
     "text": [
      "🔍 Scraping: https://www.facebook.com/BlendAI\n"
     ]
    },
    {
     "name": "stderr",
     "output_type": "stream",
     "text": [
      "\u001b[36m[apify.facebook-pages-scraper runId:BkJk75m7n2zzF0Wuw]\u001b[0m -> Status: RUNNING, Message: \n",
      "\u001b[36m[apify.facebook-pages-scraper runId:BkJk75m7n2zzF0Wuw]\u001b[0m -> 2025-06-27T16:49:20.126Z ACTOR: Pulling Docker image of build fYUy7GidTW8TkhvRK from registry.\n",
      "\u001b[36m[apify.facebook-pages-scraper runId:BkJk75m7n2zzF0Wuw]\u001b[0m -> 2025-06-27T16:49:20.128Z ACTOR: Creating Docker container.\n",
      "\u001b[36m[apify.facebook-pages-scraper runId:BkJk75m7n2zzF0Wuw]\u001b[0m -> 2025-06-27T16:49:20.167Z ACTOR: Starting Docker container.\n",
      "\u001b[36m[apify.facebook-pages-scraper runId:BkJk75m7n2zzF0Wuw]\u001b[0m -> 2025-06-27T16:49:21.775Z \u001b[32mINFO\u001b[39m  System info\u001b[90m {\"apifyVersion\":\"3.4.2\",\"apifyClientVersion\":\"2.12.5\",\"crawleeVersion\":\"3.13.7\",\"osType\":\"Linux\",\"nodeVersion\":\"v20.19.2\"}\u001b[39m\n",
      "\u001b[36m[apify.facebook-pages-scraper runId:BkJk75m7n2zzF0Wuw]\u001b[0m -> 2025-06-27T16:49:21.881Z \u001b[32mINFO\u001b[39m  Results Limit undefined\n",
      "\u001b[36m[apify.facebook-pages-scraper runId:BkJk75m7n2zzF0Wuw]\u001b[0m -> 2025-06-27T16:49:21.893Z \u001b[32mINFO\u001b[39m  pushDataMaxAware 316\n",
      "\u001b[36m[apify.facebook-pages-scraper runId:BkJk75m7n2zzF0Wuw]\u001b[0m -> 2025-06-27T16:49:22.158Z \u001b[32mINFO\u001b[39m \u001b[33m CheerioCrawler:\u001b[39m Using the old RequestQueue implementation without request locking.\n",
      "\u001b[36m[apify.facebook-pages-scraper runId:BkJk75m7n2zzF0Wuw]\u001b[0m -> Status: RUNNING, Message: Starting the crawler.\n",
      "\u001b[36m[apify.facebook-pages-scraper runId:BkJk75m7n2zzF0Wuw]\u001b[0m -> 2025-06-27T16:49:22.361Z \u001b[32mINFO\u001b[39m \u001b[33m CheerioCrawler:\u001b[39m Starting the crawler.\n",
      "\u001b[36m[apify.facebook-pages-scraper runId:BkJk75m7n2zzF0Wuw]\u001b[0m -> 2025-06-27T16:49:25.333Z \u001b[32mINFO\u001b[39m \u001b[33m CheerioCrawler:\u001b[39m All requests from the queue have been processed, the crawler will shut down.\n",
      "\u001b[36m[apify.facebook-pages-scraper runId:BkJk75m7n2zzF0Wuw]\u001b[0m -> 2025-06-27T16:49:25.449Z \u001b[32mINFO\u001b[39m \u001b[33m CheerioCrawler:\u001b[39m Final request statistics:\u001b[90m {\"requestsFinished\":1,\"requestsFailed\":0,\"retryHistogram\":[1],\"requestAvgFailedDurationMillis\":null,\"requestAvgFinishedDurationMillis\":2785,\"requestsFinishedPerMinute\":18,\"requestsFailedPerMinute\":0,\"requestTotalDurationMillis\":2785,\"requestsTotal\":1,\"crawlerRuntimeMillis\":3291}\u001b[39m\n",
      "\u001b[36m[apify.facebook-pages-scraper runId:BkJk75m7n2zzF0Wuw]\u001b[0m -> 2025-06-27T16:49:25.455Z \u001b[32mINFO\u001b[39m \u001b[33m CheerioCrawler:\u001b[39m Finished! Total 1 requests: 1 succeeded, 0 failed.\u001b[90m {\"terminal\":true}\u001b[39m\n",
      "\u001b[36m[apify.facebook-pages-scraper runId:BkJk75m7n2zzF0Wuw]\u001b[0m -> 2025-06-27T16:49:25.498Z \u001b[32mINFO\u001b[39m  *** DONE ***\n",
      "\u001b[36m[apify.facebook-pages-scraper runId:BkJk75m7n2zzF0Wuw]\u001b[0m -> Status: SUCCEEDED, Message: Finished! Total 1 requests: 1 succeeded, 0 failed.\n"
     ]
    },
    {
     "name": "stdout",
     "output_type": "stream",
     "text": [
      "🔍 Scraping: https://www.facebook.com/SkinDaddy\n"
     ]
    },
    {
     "name": "stderr",
     "output_type": "stream",
     "text": [
      "\u001b[36m[apify.facebook-pages-scraper runId:NgI0xjgdUrBlgi3Zk]\u001b[0m -> Status: RUNNING, Message: Starting the crawler.\n",
      "\u001b[36m[apify.facebook-pages-scraper runId:NgI0xjgdUrBlgi3Zk]\u001b[0m -> 2025-06-27T16:49:33.967Z ACTOR: Pulling Docker image of build fYUy7GidTW8TkhvRK from registry.\n",
      "\u001b[36m[apify.facebook-pages-scraper runId:NgI0xjgdUrBlgi3Zk]\u001b[0m -> 2025-06-27T16:49:33.970Z ACTOR: Creating Docker container.\n",
      "\u001b[36m[apify.facebook-pages-scraper runId:NgI0xjgdUrBlgi3Zk]\u001b[0m -> 2025-06-27T16:49:34.013Z ACTOR: Starting Docker container.\n",
      "\u001b[36m[apify.facebook-pages-scraper runId:NgI0xjgdUrBlgi3Zk]\u001b[0m -> 2025-06-27T16:49:35.492Z \u001b[32mINFO\u001b[39m  System info\u001b[90m {\"apifyVersion\":\"3.4.2\",\"apifyClientVersion\":\"2.12.5\",\"crawleeVersion\":\"3.13.7\",\"osType\":\"Linux\",\"nodeVersion\":\"v20.19.2\"}\u001b[39m\n",
      "\u001b[36m[apify.facebook-pages-scraper runId:NgI0xjgdUrBlgi3Zk]\u001b[0m -> 2025-06-27T16:49:35.629Z \u001b[32mINFO\u001b[39m  Results Limit undefined\n",
      "\u001b[36m[apify.facebook-pages-scraper runId:NgI0xjgdUrBlgi3Zk]\u001b[0m -> 2025-06-27T16:49:35.631Z \u001b[32mINFO\u001b[39m  pushDataMaxAware 316\n",
      "\u001b[36m[apify.facebook-pages-scraper runId:NgI0xjgdUrBlgi3Zk]\u001b[0m -> 2025-06-27T16:49:35.877Z \u001b[32mINFO\u001b[39m \u001b[33m CheerioCrawler:\u001b[39m Using the old RequestQueue implementation without request locking.\n",
      "\u001b[36m[apify.facebook-pages-scraper runId:NgI0xjgdUrBlgi3Zk]\u001b[0m -> 2025-06-27T16:49:36.029Z \u001b[32mINFO\u001b[39m \u001b[33m CheerioCrawler:\u001b[39m Starting the crawler.\n",
      "\u001b[36m[apify.facebook-pages-scraper runId:NgI0xjgdUrBlgi3Zk]\u001b[0m -> 2025-06-27T16:49:39.895Z \u001b[32mINFO\u001b[39m \u001b[33m CheerioCrawler:\u001b[39m All requests from the queue have been processed, the crawler will shut down.\n",
      "\u001b[36m[apify.facebook-pages-scraper runId:NgI0xjgdUrBlgi3Zk]\u001b[0m -> 2025-06-27T16:49:40.019Z \u001b[32mINFO\u001b[39m \u001b[33m CheerioCrawler:\u001b[39m Final request statistics:\u001b[90m {\"requestsFinished\":1,\"requestsFailed\":0,\"retryHistogram\":[1],\"requestAvgFailedDurationMillis\":null,\"requestAvgFinishedDurationMillis\":3745,\"requestsFinishedPerMinute\":14,\"requestsFailedPerMinute\":0,\"requestTotalDurationMillis\":3745,\"requestsTotal\":1,\"crawlerRuntimeMillis\":4143}\u001b[39m\n",
      "\u001b[36m[apify.facebook-pages-scraper runId:NgI0xjgdUrBlgi3Zk]\u001b[0m -> 2025-06-27T16:49:40.021Z \u001b[32mINFO\u001b[39m \u001b[33m CheerioCrawler:\u001b[39m Finished! Total 1 requests: 1 succeeded, 0 failed.\u001b[90m {\"terminal\":true}\u001b[39m\n",
      "\u001b[36m[apify.facebook-pages-scraper runId:NgI0xjgdUrBlgi3Zk]\u001b[0m -> 2025-06-27T16:49:40.068Z \u001b[32mINFO\u001b[39m  *** DONE ***\n",
      "\u001b[36m[apify.facebook-pages-scraper runId:NgI0xjgdUrBlgi3Zk]\u001b[0m -> Status: SUCCEEDED, Message: Finished! Total 1 requests: 1 succeeded, 0 failed.\n"
     ]
    },
    {
     "name": "stdout",
     "output_type": "stream",
     "text": [
      "🔍 Scraping: https://www.facebook.com/ScarlettCitores\n"
     ]
    },
    {
     "name": "stderr",
     "output_type": "stream",
     "text": [
      "\u001b[36m[apify.facebook-pages-scraper runId:2iDpz5js0RJLYcFyg]\u001b[0m -> Status: RUNNING, Message: \n",
      "\u001b[36m[apify.facebook-pages-scraper runId:2iDpz5js0RJLYcFyg]\u001b[0m -> 2025-06-27T16:49:47.274Z ACTOR: Pulling Docker image of build fYUy7GidTW8TkhvRK from registry.\n",
      "\u001b[36m[apify.facebook-pages-scraper runId:2iDpz5js0RJLYcFyg]\u001b[0m -> Status: RUNNING, Message: Starting the crawler.\n",
      "\u001b[36m[apify.facebook-pages-scraper runId:2iDpz5js0RJLYcFyg]\u001b[0m -> 2025-06-27T16:49:47.276Z ACTOR: Creating Docker container.\n",
      "\u001b[36m[apify.facebook-pages-scraper runId:2iDpz5js0RJLYcFyg]\u001b[0m -> 2025-06-27T16:49:47.307Z ACTOR: Starting Docker container.\n",
      "\u001b[36m[apify.facebook-pages-scraper runId:2iDpz5js0RJLYcFyg]\u001b[0m -> 2025-06-27T16:49:48.817Z \u001b[32mINFO\u001b[39m  System info\u001b[90m {\"apifyVersion\":\"3.4.2\",\"apifyClientVersion\":\"2.12.5\",\"crawleeVersion\":\"3.13.7\",\"osType\":\"Linux\",\"nodeVersion\":\"v20.19.2\"}\u001b[39m\n",
      "\u001b[36m[apify.facebook-pages-scraper runId:2iDpz5js0RJLYcFyg]\u001b[0m -> 2025-06-27T16:49:48.944Z \u001b[32mINFO\u001b[39m  Results Limit undefined\n",
      "\u001b[36m[apify.facebook-pages-scraper runId:2iDpz5js0RJLYcFyg]\u001b[0m -> 2025-06-27T16:49:48.946Z \u001b[32mINFO\u001b[39m  pushDataMaxAware 316\n",
      "\u001b[36m[apify.facebook-pages-scraper runId:2iDpz5js0RJLYcFyg]\u001b[0m -> 2025-06-27T16:49:49.256Z \u001b[32mINFO\u001b[39m \u001b[33m CheerioCrawler:\u001b[39m Using the old RequestQueue implementation without request locking.\n",
      "\u001b[36m[apify.facebook-pages-scraper runId:2iDpz5js0RJLYcFyg]\u001b[0m -> 2025-06-27T16:49:49.440Z \u001b[32mINFO\u001b[39m \u001b[33m CheerioCrawler:\u001b[39m Starting the crawler.\n",
      "\u001b[36m[apify.facebook-pages-scraper runId:2iDpz5js0RJLYcFyg]\u001b[0m -> 2025-06-27T16:49:59.065Z \u001b[32mINFO\u001b[39m  [PROGRESS]: Found 1 new page details, 1/316 for URL https://www.facebook.com/ScarlettCitores\n",
      "\u001b[36m[apify.facebook-pages-scraper runId:2iDpz5js0RJLYcFyg]\u001b[0m -> 2025-06-27T16:49:59.251Z \u001b[32mINFO\u001b[39m \u001b[33m CheerioCrawler:\u001b[39m All requests from the queue have been processed, the crawler will shut down.\n",
      "\u001b[36m[apify.facebook-pages-scraper runId:2iDpz5js0RJLYcFyg]\u001b[0m -> 2025-06-27T16:49:59.419Z \u001b[32mINFO\u001b[39m \u001b[33m CheerioCrawler:\u001b[39m Final request statistics:\u001b[90m {\"requestsFinished\":1,\"requestsFailed\":0,\"retryHistogram\":[1],\"requestAvgFailedDurationMillis\":null,\"requestAvgFinishedDurationMillis\":9691,\"requestsFinishedPerMinute\":6,\"requestsFailedPerMinute\":0,\"requestTotalDurationMillis\":9691,\"requestsTotal\":1,\"crawlerRuntimeMillis\":10165}\u001b[39m\n",
      "\u001b[36m[apify.facebook-pages-scraper runId:2iDpz5js0RJLYcFyg]\u001b[0m -> 2025-06-27T16:49:59.422Z \u001b[32mINFO\u001b[39m \u001b[33m CheerioCrawler:\u001b[39m Finished! Total 1 requests: 1 succeeded, 0 failed.\u001b[90m {\"terminal\":true}\u001b[39m\n",
      "\u001b[36m[apify.facebook-pages-scraper runId:2iDpz5js0RJLYcFyg]\u001b[0m -> Status: RUNNING, Message: Finished! Total 1 requests: 1 succeeded, 0 failed.\n",
      "\u001b[36m[apify.facebook-pages-scraper runId:2iDpz5js0RJLYcFyg]\u001b[0m -> 2025-06-27T16:49:59.505Z \u001b[32mINFO\u001b[39m  *** DONE ***\n"
     ]
    },
    {
     "name": "stdout",
     "output_type": "stream",
     "text": [
      "🔍 Scraping: https://www.facebook.com/BrandAppeal\n"
     ]
    },
    {
     "name": "stderr",
     "output_type": "stream",
     "text": [
      "\u001b[36m[apify.facebook-pages-scraper runId:kmG7RftHdYdA1oguy]\u001b[0m -> Status: RUNNING, Message: \n",
      "\u001b[36m[apify.facebook-pages-scraper runId:kmG7RftHdYdA1oguy]\u001b[0m -> Status: RUNNING, Message: Starting the crawler.\n",
      "\u001b[36m[apify.facebook-pages-scraper runId:kmG7RftHdYdA1oguy]\u001b[0m -> 2025-06-27T16:50:07.500Z ACTOR: Pulling Docker image of build fYUy7GidTW8TkhvRK from registry.\n",
      "\u001b[36m[apify.facebook-pages-scraper runId:kmG7RftHdYdA1oguy]\u001b[0m -> 2025-06-27T16:50:07.502Z ACTOR: Creating Docker container.\n",
      "\u001b[36m[apify.facebook-pages-scraper runId:kmG7RftHdYdA1oguy]\u001b[0m -> 2025-06-27T16:50:07.583Z ACTOR: Starting Docker container.\n",
      "\u001b[36m[apify.facebook-pages-scraper runId:kmG7RftHdYdA1oguy]\u001b[0m -> 2025-06-27T16:50:09.348Z \u001b[32mINFO\u001b[39m  System info\u001b[90m {\"apifyVersion\":\"3.4.2\",\"apifyClientVersion\":\"2.12.5\",\"crawleeVersion\":\"3.13.7\",\"osType\":\"Linux\",\"nodeVersion\":\"v20.19.2\"}\u001b[39m\n",
      "\u001b[36m[apify.facebook-pages-scraper runId:kmG7RftHdYdA1oguy]\u001b[0m -> 2025-06-27T16:50:09.473Z \u001b[32mINFO\u001b[39m  Results Limit undefined\n",
      "\u001b[36m[apify.facebook-pages-scraper runId:kmG7RftHdYdA1oguy]\u001b[0m -> 2025-06-27T16:50:09.476Z \u001b[32mINFO\u001b[39m  pushDataMaxAware 316\n",
      "\u001b[36m[apify.facebook-pages-scraper runId:kmG7RftHdYdA1oguy]\u001b[0m -> 2025-06-27T16:50:09.780Z \u001b[32mINFO\u001b[39m \u001b[33m CheerioCrawler:\u001b[39m Using the old RequestQueue implementation without request locking.\n",
      "\u001b[36m[apify.facebook-pages-scraper runId:kmG7RftHdYdA1oguy]\u001b[0m -> 2025-06-27T16:50:09.943Z \u001b[32mINFO\u001b[39m \u001b[33m CheerioCrawler:\u001b[39m Starting the crawler.\n",
      "\u001b[36m[apify.facebook-pages-scraper runId:kmG7RftHdYdA1oguy]\u001b[0m -> 2025-06-27T16:50:13.360Z \u001b[32mINFO\u001b[39m \u001b[33m CheerioCrawler:\u001b[39m All requests from the queue have been processed, the crawler will shut down.\n",
      "\u001b[36m[apify.facebook-pages-scraper runId:kmG7RftHdYdA1oguy]\u001b[0m -> 2025-06-27T16:50:13.445Z \u001b[32mINFO\u001b[39m \u001b[33m CheerioCrawler:\u001b[39m Final request statistics:\u001b[90m {\"requestsFinished\":1,\"requestsFailed\":0,\"retryHistogram\":[1],\"requestAvgFailedDurationMillis\":null,\"requestAvgFinishedDurationMillis\":3239,\"requestsFinishedPerMinute\":16,\"requestsFailedPerMinute\":0,\"requestTotalDurationMillis\":3239,\"requestsTotal\":1,\"crawlerRuntimeMillis\":3666}\u001b[39m\n",
      "\u001b[36m[apify.facebook-pages-scraper runId:kmG7RftHdYdA1oguy]\u001b[0m -> 2025-06-27T16:50:13.448Z \u001b[32mINFO\u001b[39m \u001b[33m CheerioCrawler:\u001b[39m Finished! Total 1 requests: 1 succeeded, 0 failed.\u001b[90m {\"terminal\":true}\u001b[39m\n",
      "\u001b[36m[apify.facebook-pages-scraper runId:kmG7RftHdYdA1oguy]\u001b[0m -> 2025-06-27T16:50:13.547Z \u001b[32mINFO\u001b[39m  *** DONE ***\n",
      "\u001b[36m[apify.facebook-pages-scraper runId:kmG7RftHdYdA1oguy]\u001b[0m -> Status: SUCCEEDED, Message: Finished! Total 1 requests: 1 succeeded, 0 failed.\n"
     ]
    },
    {
     "name": "stdout",
     "output_type": "stream",
     "text": [
      "✅ Enriched 53 pages — saved to results/enriched_pages.csv\n"
     ]
    }
   ],
   "source": [
    "import os\n",
    "import pandas as pd\n",
    "from dotenv import load_dotenv\n",
    "from apify_client import ApifyClient\n",
    "\n",
    "# Load API token from .env\n",
    "load_dotenv()\n",
    "token = os.getenv(\"APIFY_API_TOKEN\")\n",
    "if not token:\n",
    "    raise RuntimeError(\"🔥 Set APIFY_API_TOKEN in your .env\")\n",
    "\n",
    "client = ApifyClient(token)\n",
    "\n",
    "def enrich_page(page_url):\n",
    "    \"\"\"Scrapes a Facebook page using 'apify/facebook-pages-scraper'.\"\"\"\n",
    "    print(f\"🔍 Scraping: {page_url}\")\n",
    "    try:\n",
    "        run = client.actor(\"apify/facebook-pages-scraper\").call(\n",
    "            run_input={\n",
    "                \"startUrls\": [{\"url\": page_url, \"method\": \"GET\"}],\n",
    "                \"scrapePosts\": False,\n",
    "                \"scrapeReviews\": False,\n",
    "                \"scrapeAbout\": True\n",
    "            }\n",
    "        )\n",
    "        dataset_id = run.get(\"defaultDatasetId\")\n",
    "        if not dataset_id:\n",
    "            return {}\n",
    "        items = list(client.dataset(dataset_id).iterate_items())\n",
    "        return items[0] if items else {}\n",
    "\n",
    "    except Exception as e:\n",
    "        print(f\"❌ Error scraping {page_url}: {e}\")\n",
    "        return {}\n",
    "\n",
    "def main():\n",
    "    df = pd.read_csv(\"results/ads_cleaned.csv\")\n",
    "    enriched = []\n",
    "    seen_pages = set()\n",
    "\n",
    "    for _, row in df.iterrows():\n",
    "        page_url = row.get(\"page_url\", \"\").strip()\n",
    "        if not page_url or page_url in seen_pages:\n",
    "            continue\n",
    "        seen_pages.add(page_url)\n",
    "\n",
    "        data = enrich_page(page_url)\n",
    "        if data:\n",
    "            record = {\n",
    "                **row,\n",
    "                \"phone\": data.get(\"phone\", \"\"),\n",
    "                \"email\": data.get(\"email\", \"\"),\n",
    "                \"website\": data.get(\"website\", \"\")\n",
    "            }\n",
    "            enriched.append(record)\n",
    "\n",
    "    out_df = pd.DataFrame(enriched)\n",
    "    os.makedirs(\"results\", exist_ok=True)\n",
    "    out_df.to_csv(\"results/enriched_pages.csv\", index=False, encoding=\"utf-8\")\n",
    "    print(f\"✅ Enriched {len(out_df)} pages — saved to results/enriched_pages.csv\")\n",
    "\n",
    "if __name__ == \"__main__\":\n",
    "    main()\n"
   ]
  },
  {
   "cell_type": "code",
   "execution_count": null,
   "id": "9d43d725",
   "metadata": {},
   "outputs": [],
   "source": []
  }
 ],
 "metadata": {
  "kernelspec": {
   "display_name": "Python 3",
   "language": "python",
   "name": "python3"
  },
  "language_info": {
   "codemirror_mode": {
    "name": "ipython",
    "version": 3
   },
   "file_extension": ".py",
   "mimetype": "text/x-python",
   "name": "python",
   "nbconvert_exporter": "python",
   "pygments_lexer": "ipython3",
   "version": "3.10.11"
  }
 },
 "nbformat": 4,
 "nbformat_minor": 5
}
